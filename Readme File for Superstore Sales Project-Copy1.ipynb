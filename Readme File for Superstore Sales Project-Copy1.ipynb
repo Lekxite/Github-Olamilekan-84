{
 "cells": [
  {
   "cell_type": "markdown",
   "id": "3b4b30ca",
   "metadata": {},
   "source": [
    "# Project Title: Analysis of Superstore Sales"
   ]
  },
  {
   "cell_type": "markdown",
   "id": "fe12db9f",
   "metadata": {},
   "source": [
    "# Project Steps:"
   ]
  },
  {
   "cell_type": "markdown",
   "id": "2bc30707",
   "metadata": {},
   "source": [
    "# 1...Data Collection"
   ]
  },
  {
   "cell_type": "code",
   "execution_count": 1,
   "id": "bcae62fd",
   "metadata": {},
   "outputs": [],
   "source": [
    "# Superstore_dataset2011-2015 from Kaggle"
   ]
  },
  {
   "cell_type": "markdown",
   "id": "3c0a2651",
   "metadata": {},
   "source": [
    "# 2...Reading The Data"
   ]
  },
  {
   "cell_type": "code",
   "execution_count": 3,
   "id": "91967ffd",
   "metadata": {},
   "outputs": [],
   "source": [
    "# data = pd.read_sql_table('superstore_dataset', con = engine)"
   ]
  },
  {
   "cell_type": "markdown",
   "id": "5013dd1b",
   "metadata": {},
   "source": [
    "# 3...Viewing The Data"
   ]
  },
  {
   "cell_type": "code",
   "execution_count": 4,
   "id": "e9f0d58f",
   "metadata": {},
   "outputs": [],
   "source": [
    "# data.head()"
   ]
  },
  {
   "cell_type": "markdown",
   "id": "7edb0959",
   "metadata": {},
   "source": [
    "# Data Cleaning and Preparation"
   ]
  },
  {
   "cell_type": "code",
   "execution_count": 5,
   "id": "89489e2f",
   "metadata": {},
   "outputs": [],
   "source": [
    "# 1...Checking the number of rows and columns using an Attribute called .shape\n",
    "# 2...Checking statistical summary of the dataframe using a pandas function called .discribe()\n",
    "# 3...Checking the missing values using a pandas function called .isnull().sum()\n",
    "# 4...Getting Information about The Dataset using Pandas Function called .info()\n",
    "# 5...Dropping Unnecessary Columns\n",
    "# Replacing Columns with 'Whitespace' with 'Underscore'.\n",
    "# Converting Datatype of 'Order_Date' and 'Ship_Date' Columns to Datetime."
   ]
  },
  {
   "cell_type": "markdown",
   "id": "ea255563",
   "metadata": {},
   "source": [
    "# 4...Insights"
   ]
  },
  {
   "cell_type": "code",
   "execution_count": 6,
   "id": "b3d916e0",
   "metadata": {},
   "outputs": [],
   "source": [
    "# After Analysing The Dataset of a Superstore, i was able to uncover The followings:\n",
    "# 1...The Product Category that has the Highest Profit marging compared to others.\n",
    "# 2...The region that has The Highest Sales Compared to others.\n",
    "# 3...When The Sales are Higher During Certain Months of The Year?\n",
    "# 4...Orders that has The Lowest Rate of Returned Products.\n",
    "# 5...The Day of The Week The Company Usually Makes Profits.\n",
    "# 6...The Total Number of Orders.\n",
    "# 7...The Number of Orders in Each Country.\n",
    "# 8...The Total Number of Orders as per Priority.\n",
    "# 9...The Sales Quantity for Each Year.\n",
    "# 10...The Profit Each Year.\n",
    "# 11...Total Shipping Cost per State.\n",
    "# 12...The Highest to Lowest Quantity Sales Category.\n",
    "# 13...The Highest to Lowest Quantity Sales Sub-Category."
   ]
  },
  {
   "cell_type": "markdown",
   "id": "a77cc048",
   "metadata": {},
   "source": [
    "# Future Works"
   ]
  },
  {
   "cell_type": "code",
   "execution_count": 7,
   "id": "402e20be",
   "metadata": {},
   "outputs": [],
   "source": [
    "# The future work can be more robust and challenging to students if the datasets that have missing values are given.\n",
    "# In this case students will be given the task of checking for the missing values, \n",
    "# and looking for a way of replacing or dropping them.\n",
    "# Moreover, the datasets given were too clean. Please, in the future,\n",
    "# always give the students the task of cleaning the data by themselves.\n",
    "# This will improve their skills in the aspect of Data Cleaning and Processing."
   ]
  },
  {
   "cell_type": "markdown",
   "id": "e29ff66d",
   "metadata": {},
   "source": [
    "# Findings"
   ]
  },
  {
   "cell_type": "code",
   "execution_count": 8,
   "id": "8d14edfb",
   "metadata": {},
   "outputs": [],
   "source": [
    "# Technology products have the highest profit marging of the three categories.\n",
    "# The central region has the highest sales.\n",
    "# Sales are higher during certain months of the year(Noember and December).\n",
    "# Orders with same-day shipping have the lowest rate of returned products.\n",
    "# The Company usually makes much profits on Tuesdays.\n",
    "# Total Number of Orders is 50990.\n",
    "# Medium_Order_Priority is 57.8%, High_Order_Priority is 30.1%, Critical_Order_Priority is 7.7% & Low_Order_Priority is 0.7%.\n",
    "# The Sales Quantity progresses each year and reaches its climax in 2014.\n",
    "# The profit also rises each year and was highest in 2014.\n",
    "# England has The Highest Shipping Cost. While Matabeleland North has The Lowest.\n",
    "# # Technology Products had The Highest Sales despite lower quantity. \n",
    "# While Office Supplies had The Lowest Sales despite being The highest quantity.\n",
    "# # Phones had The Highest Sales despite lower quantities. While Labels had The Lowest Sales."
   ]
  },
  {
   "cell_type": "markdown",
   "id": "60b94df9",
   "metadata": {},
   "source": [
    "# Snapshots of The Analysis"
   ]
  },
  {
   "cell_type": "code",
   "execution_count": null,
   "id": "bf17b4b5",
   "metadata": {},
   "outputs": [],
   "source": []
  },
  {
   "cell_type": "markdown",
   "id": "43dbcaaa",
   "metadata": {},
   "source": [
    "# Summary"
   ]
  },
  {
   "cell_type": "code",
   "execution_count": null,
   "id": "519195ee",
   "metadata": {},
   "outputs": [],
   "source": []
  }
 ],
 "metadata": {
  "kernelspec": {
   "display_name": "Python 3 (ipykernel)",
   "language": "python",
   "name": "python3"
  },
  "language_info": {
   "codemirror_mode": {
    "name": "ipython",
    "version": 3
   },
   "file_extension": ".py",
   "mimetype": "text/x-python",
   "name": "python",
   "nbconvert_exporter": "python",
   "pygments_lexer": "ipython3",
   "version": "3.9.12"
  }
 },
 "nbformat": 4,
 "nbformat_minor": 5
}
