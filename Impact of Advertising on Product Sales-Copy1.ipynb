{
 "cells": [
  {
   "cell_type": "code",
   "execution_count": 1,
   "id": "79612704",
   "metadata": {},
   "outputs": [],
   "source": [
    "import numpy as np\n",
    "import pandas as pd\n",
    "import matplotlib.pyplot as plt\n",
    "%matplotlib inline\n",
    "import seaborn as sns\n",
    "sns.set_style(\"darkgrid\")\n",
    "import warnings\n",
    "warnings.filterwarnings('ignore')\n",
    "plt.style.use('fivethirtyeight')"
   ]
  },
  {
   "cell_type": "code",
   "execution_count": 2,
   "id": "6eb22ad5",
   "metadata": {},
   "outputs": [],
   "source": [
    "# Explore the dynamics of advertising impact on product sales with this synthesized dataset. Created using Python programming \n",
    "# language, the dataset comprises seven columns representing advertising costs on various platforms — TV, Billboards, Google Ads\n",
    "# , Social Media, Influencer Marketing, and Affiliate Marketing. The last column, 'Product_Sold' quantifies the corresponding \n",
    "# number of units sold. This dataset is designed for analysis and experimentation, allowing you to delve into the relationships \n",
    "# between different advertising channels and the resulting product sales. Gain insights into marketing strategies and optimize \n",
    "# your approach using this comprehensive, yet user-friendly dataset"
   ]
  },
  {
   "cell_type": "markdown",
   "id": "e5cf3f1c",
   "metadata": {},
   "source": [
    "# Data Collection"
   ]
  },
  {
   "cell_type": "code",
   "execution_count": 3,
   "id": "0ae008b8",
   "metadata": {},
   "outputs": [],
   "source": [
    "# Advatising Data.csv from kaggle"
   ]
  },
  {
   "cell_type": "markdown",
   "id": "9ddab0ad",
   "metadata": {},
   "source": [
    "# Reading The Data"
   ]
  },
  {
   "cell_type": "code",
   "execution_count": 4,
   "id": "4b0aa1b2",
   "metadata": {},
   "outputs": [],
   "source": [
    "data = pd.read_csv('Advertising_Data.csv')"
   ]
  },
  {
   "cell_type": "markdown",
   "id": "519cd94d",
   "metadata": {},
   "source": [
    "# Viewing The Data"
   ]
  },
  {
   "cell_type": "code",
   "execution_count": 5,
   "id": "2c51dc4f",
   "metadata": {},
   "outputs": [],
   "source": [
    "data = pd.read_csv('Advertising_Data.csv')"
   ]
  },
  {
   "cell_type": "code",
   "execution_count": 6,
   "id": "faca37c4",
   "metadata": {},
   "outputs": [
    {
     "data": {
      "text/html": [
       "<div>\n",
       "<style scoped>\n",
       "    .dataframe tbody tr th:only-of-type {\n",
       "        vertical-align: middle;\n",
       "    }\n",
       "\n",
       "    .dataframe tbody tr th {\n",
       "        vertical-align: top;\n",
       "    }\n",
       "\n",
       "    .dataframe thead th {\n",
       "        text-align: right;\n",
       "    }\n",
       "</style>\n",
       "<table border=\"1\" class=\"dataframe\">\n",
       "  <thead>\n",
       "    <tr style=\"text-align: right;\">\n",
       "      <th></th>\n",
       "      <th>TV</th>\n",
       "      <th>Billboards</th>\n",
       "      <th>Google_Ads</th>\n",
       "      <th>Social_Media</th>\n",
       "      <th>Influencer_Marketing</th>\n",
       "      <th>Affiliate_Marketing</th>\n",
       "      <th>Product_Sold</th>\n",
       "    </tr>\n",
       "  </thead>\n",
       "  <tbody>\n",
       "    <tr>\n",
       "      <th>0</th>\n",
       "      <td>281.42</td>\n",
       "      <td>538.80</td>\n",
       "      <td>123.94</td>\n",
       "      <td>349.30</td>\n",
       "      <td>242.77</td>\n",
       "      <td>910.10</td>\n",
       "      <td>7164.0</td>\n",
       "    </tr>\n",
       "    <tr>\n",
       "      <th>1</th>\n",
       "      <td>702.97</td>\n",
       "      <td>296.53</td>\n",
       "      <td>558.13</td>\n",
       "      <td>180.55</td>\n",
       "      <td>781.06</td>\n",
       "      <td>132.43</td>\n",
       "      <td>5055.0</td>\n",
       "    </tr>\n",
       "    <tr>\n",
       "      <th>2</th>\n",
       "      <td>313.14</td>\n",
       "      <td>295.94</td>\n",
       "      <td>642.96</td>\n",
       "      <td>505.71</td>\n",
       "      <td>438.91</td>\n",
       "      <td>464.23</td>\n",
       "      <td>6154.0</td>\n",
       "    </tr>\n",
       "    <tr>\n",
       "      <th>3</th>\n",
       "      <td>898.52</td>\n",
       "      <td>61.27</td>\n",
       "      <td>548.73</td>\n",
       "      <td>240.93</td>\n",
       "      <td>278.96</td>\n",
       "      <td>432.27</td>\n",
       "      <td>5480.0</td>\n",
       "    </tr>\n",
       "    <tr>\n",
       "      <th>4</th>\n",
       "      <td>766.52</td>\n",
       "      <td>550.72</td>\n",
       "      <td>651.91</td>\n",
       "      <td>666.33</td>\n",
       "      <td>396.33</td>\n",
       "      <td>841.93</td>\n",
       "      <td>9669.0</td>\n",
       "    </tr>\n",
       "  </tbody>\n",
       "</table>\n",
       "</div>"
      ],
      "text/plain": [
       "       TV  Billboards  Google_Ads  Social_Media  Influencer_Marketing  \\\n",
       "0  281.42      538.80      123.94        349.30                242.77   \n",
       "1  702.97      296.53      558.13        180.55                781.06   \n",
       "2  313.14      295.94      642.96        505.71                438.91   \n",
       "3  898.52       61.27      548.73        240.93                278.96   \n",
       "4  766.52      550.72      651.91        666.33                396.33   \n",
       "\n",
       "   Affiliate_Marketing  Product_Sold  \n",
       "0               910.10        7164.0  \n",
       "1               132.43        5055.0  \n",
       "2               464.23        6154.0  \n",
       "3               432.27        5480.0  \n",
       "4               841.93        9669.0  "
      ]
     },
     "execution_count": 6,
     "metadata": {},
     "output_type": "execute_result"
    }
   ],
   "source": [
    "data.head()"
   ]
  },
  {
   "cell_type": "code",
   "execution_count": 7,
   "id": "5eb4167a",
   "metadata": {},
   "outputs": [
    {
     "data": {
      "text/plain": [
       "(300, 7)"
      ]
     },
     "execution_count": 7,
     "metadata": {},
     "output_type": "execute_result"
    }
   ],
   "source": [
    "data.shape"
   ]
  },
  {
   "cell_type": "code",
   "execution_count": 8,
   "id": "d4cefcf0",
   "metadata": {},
   "outputs": [
    {
     "name": "stdout",
     "output_type": "stream",
     "text": [
      "<class 'pandas.core.frame.DataFrame'>\n",
      "RangeIndex: 300 entries, 0 to 299\n",
      "Data columns (total 7 columns):\n",
      " #   Column                Non-Null Count  Dtype  \n",
      "---  ------                --------------  -----  \n",
      " 0   TV                    300 non-null    float64\n",
      " 1   Billboards            300 non-null    float64\n",
      " 2   Google_Ads            300 non-null    float64\n",
      " 3   Social_Media          300 non-null    float64\n",
      " 4   Influencer_Marketing  300 non-null    float64\n",
      " 5   Affiliate_Marketing   300 non-null    float64\n",
      " 6   Product_Sold          300 non-null    float64\n",
      "dtypes: float64(7)\n",
      "memory usage: 16.5 KB\n"
     ]
    }
   ],
   "source": [
    "data.info()"
   ]
  },
  {
   "cell_type": "code",
   "execution_count": 16,
   "id": "089f89d5",
   "metadata": {},
   "outputs": [],
   "source": [
    "# The dataset comprises of 300 rows and 7 columns. All the 7 columns are float datatypes.\n",
    "# The information in the dataset also shows that there are no missing values. And the memory usage is 16.5kb."
   ]
  },
  {
   "cell_type": "markdown",
   "id": "668d6219",
   "metadata": {},
   "source": [
    "# Data Cleaning and Preparation"
   ]
  },
  {
   "cell_type": "code",
   "execution_count": 17,
   "id": "2bfd921d",
   "metadata": {},
   "outputs": [
    {
     "data": {
      "text/html": [
       "<div>\n",
       "<style scoped>\n",
       "    .dataframe tbody tr th:only-of-type {\n",
       "        vertical-align: middle;\n",
       "    }\n",
       "\n",
       "    .dataframe tbody tr th {\n",
       "        vertical-align: top;\n",
       "    }\n",
       "\n",
       "    .dataframe thead th {\n",
       "        text-align: right;\n",
       "    }\n",
       "</style>\n",
       "<table border=\"1\" class=\"dataframe\">\n",
       "  <thead>\n",
       "    <tr style=\"text-align: right;\">\n",
       "      <th></th>\n",
       "      <th>TV</th>\n",
       "      <th>Billboards</th>\n",
       "      <th>Google_Ads</th>\n",
       "      <th>Social_Media</th>\n",
       "      <th>Influencer_Marketing</th>\n",
       "      <th>Affiliate_Marketing</th>\n",
       "      <th>Product_Sold</th>\n",
       "    </tr>\n",
       "  </thead>\n",
       "  <tbody>\n",
       "    <tr>\n",
       "      <th>0</th>\n",
       "      <td>281.42</td>\n",
       "      <td>538.80</td>\n",
       "      <td>123.94</td>\n",
       "      <td>349.30</td>\n",
       "      <td>242.77</td>\n",
       "      <td>910.10</td>\n",
       "      <td>7164.0</td>\n",
       "    </tr>\n",
       "    <tr>\n",
       "      <th>1</th>\n",
       "      <td>702.97</td>\n",
       "      <td>296.53</td>\n",
       "      <td>558.13</td>\n",
       "      <td>180.55</td>\n",
       "      <td>781.06</td>\n",
       "      <td>132.43</td>\n",
       "      <td>5055.0</td>\n",
       "    </tr>\n",
       "    <tr>\n",
       "      <th>2</th>\n",
       "      <td>313.14</td>\n",
       "      <td>295.94</td>\n",
       "      <td>642.96</td>\n",
       "      <td>505.71</td>\n",
       "      <td>438.91</td>\n",
       "      <td>464.23</td>\n",
       "      <td>6154.0</td>\n",
       "    </tr>\n",
       "    <tr>\n",
       "      <th>3</th>\n",
       "      <td>898.52</td>\n",
       "      <td>61.27</td>\n",
       "      <td>548.73</td>\n",
       "      <td>240.93</td>\n",
       "      <td>278.96</td>\n",
       "      <td>432.27</td>\n",
       "      <td>5480.0</td>\n",
       "    </tr>\n",
       "    <tr>\n",
       "      <th>4</th>\n",
       "      <td>766.52</td>\n",
       "      <td>550.72</td>\n",
       "      <td>651.91</td>\n",
       "      <td>666.33</td>\n",
       "      <td>396.33</td>\n",
       "      <td>841.93</td>\n",
       "      <td>9669.0</td>\n",
       "    </tr>\n",
       "  </tbody>\n",
       "</table>\n",
       "</div>"
      ],
      "text/plain": [
       "       TV  Billboards  Google_Ads  Social_Media  Influencer_Marketing  \\\n",
       "0  281.42      538.80      123.94        349.30                242.77   \n",
       "1  702.97      296.53      558.13        180.55                781.06   \n",
       "2  313.14      295.94      642.96        505.71                438.91   \n",
       "3  898.52       61.27      548.73        240.93                278.96   \n",
       "4  766.52      550.72      651.91        666.33                396.33   \n",
       "\n",
       "   Affiliate_Marketing  Product_Sold  \n",
       "0               910.10        7164.0  \n",
       "1               132.43        5055.0  \n",
       "2               464.23        6154.0  \n",
       "3               432.27        5480.0  \n",
       "4               841.93        9669.0  "
      ]
     },
     "execution_count": 17,
     "metadata": {},
     "output_type": "execute_result"
    }
   ],
   "source": [
    "data.head()"
   ]
  },
  {
   "cell_type": "code",
   "execution_count": 18,
   "id": "d3999008",
   "metadata": {},
   "outputs": [
    {
     "data": {
      "text/plain": [
       "False"
      ]
     },
     "execution_count": 18,
     "metadata": {},
     "output_type": "execute_result"
    }
   ],
   "source": [
    "data.duplicated().any()"
   ]
  },
  {
   "cell_type": "markdown",
   "id": "a2afb0a1",
   "metadata": {},
   "source": [
    "# Analysis"
   ]
  },
  {
   "cell_type": "code",
   "execution_count": 11,
   "id": "b2521940",
   "metadata": {},
   "outputs": [
    {
     "data": {
      "text/html": [
       "<div>\n",
       "<style scoped>\n",
       "    .dataframe tbody tr th:only-of-type {\n",
       "        vertical-align: middle;\n",
       "    }\n",
       "\n",
       "    .dataframe tbody tr th {\n",
       "        vertical-align: top;\n",
       "    }\n",
       "\n",
       "    .dataframe thead th {\n",
       "        text-align: right;\n",
       "    }\n",
       "</style>\n",
       "<table border=\"1\" class=\"dataframe\">\n",
       "  <thead>\n",
       "    <tr style=\"text-align: right;\">\n",
       "      <th></th>\n",
       "      <th>TV</th>\n",
       "      <th>Billboards</th>\n",
       "      <th>Google_Ads</th>\n",
       "      <th>Social_Media</th>\n",
       "      <th>Influencer_Marketing</th>\n",
       "      <th>Affiliate_Marketing</th>\n",
       "      <th>Product_Sold</th>\n",
       "    </tr>\n",
       "  </thead>\n",
       "  <tbody>\n",
       "    <tr>\n",
       "      <th>0</th>\n",
       "      <td>281.42</td>\n",
       "      <td>538.80</td>\n",
       "      <td>123.94</td>\n",
       "      <td>349.30</td>\n",
       "      <td>242.77</td>\n",
       "      <td>910.10</td>\n",
       "      <td>7164.0</td>\n",
       "    </tr>\n",
       "    <tr>\n",
       "      <th>1</th>\n",
       "      <td>702.97</td>\n",
       "      <td>296.53</td>\n",
       "      <td>558.13</td>\n",
       "      <td>180.55</td>\n",
       "      <td>781.06</td>\n",
       "      <td>132.43</td>\n",
       "      <td>5055.0</td>\n",
       "    </tr>\n",
       "    <tr>\n",
       "      <th>2</th>\n",
       "      <td>313.14</td>\n",
       "      <td>295.94</td>\n",
       "      <td>642.96</td>\n",
       "      <td>505.71</td>\n",
       "      <td>438.91</td>\n",
       "      <td>464.23</td>\n",
       "      <td>6154.0</td>\n",
       "    </tr>\n",
       "    <tr>\n",
       "      <th>3</th>\n",
       "      <td>898.52</td>\n",
       "      <td>61.27</td>\n",
       "      <td>548.73</td>\n",
       "      <td>240.93</td>\n",
       "      <td>278.96</td>\n",
       "      <td>432.27</td>\n",
       "      <td>5480.0</td>\n",
       "    </tr>\n",
       "    <tr>\n",
       "      <th>4</th>\n",
       "      <td>766.52</td>\n",
       "      <td>550.72</td>\n",
       "      <td>651.91</td>\n",
       "      <td>666.33</td>\n",
       "      <td>396.33</td>\n",
       "      <td>841.93</td>\n",
       "      <td>9669.0</td>\n",
       "    </tr>\n",
       "    <tr>\n",
       "      <th>...</th>\n",
       "      <td>...</td>\n",
       "      <td>...</td>\n",
       "      <td>...</td>\n",
       "      <td>...</td>\n",
       "      <td>...</td>\n",
       "      <td>...</td>\n",
       "      <td>...</td>\n",
       "    </tr>\n",
       "    <tr>\n",
       "      <th>295</th>\n",
       "      <td>770.05</td>\n",
       "      <td>501.36</td>\n",
       "      <td>694.60</td>\n",
       "      <td>172.26</td>\n",
       "      <td>572.26</td>\n",
       "      <td>410.56</td>\n",
       "      <td>6851.0</td>\n",
       "    </tr>\n",
       "    <tr>\n",
       "      <th>296</th>\n",
       "      <td>512.38</td>\n",
       "      <td>250.83</td>\n",
       "      <td>373.78</td>\n",
       "      <td>366.95</td>\n",
       "      <td>987.14</td>\n",
       "      <td>509.03</td>\n",
       "      <td>6477.0</td>\n",
       "    </tr>\n",
       "    <tr>\n",
       "      <th>297</th>\n",
       "      <td>998.10</td>\n",
       "      <td>858.75</td>\n",
       "      <td>781.06</td>\n",
       "      <td>60.61</td>\n",
       "      <td>174.63</td>\n",
       "      <td>213.53</td>\n",
       "      <td>6949.0</td>\n",
       "    </tr>\n",
       "    <tr>\n",
       "      <th>298</th>\n",
       "      <td>322.35</td>\n",
       "      <td>681.22</td>\n",
       "      <td>640.29</td>\n",
       "      <td>343.65</td>\n",
       "      <td>534.22</td>\n",
       "      <td>648.71</td>\n",
       "      <td>7737.0</td>\n",
       "    </tr>\n",
       "    <tr>\n",
       "      <th>299</th>\n",
       "      <td>476.45</td>\n",
       "      <td>884.77</td>\n",
       "      <td>301.79</td>\n",
       "      <td>802.30</td>\n",
       "      <td>434.82</td>\n",
       "      <td>401.69</td>\n",
       "      <td>8187.0</td>\n",
       "    </tr>\n",
       "  </tbody>\n",
       "</table>\n",
       "<p>300 rows × 7 columns</p>\n",
       "</div>"
      ],
      "text/plain": [
       "         TV  Billboards  Google_Ads  Social_Media  Influencer_Marketing  \\\n",
       "0    281.42      538.80      123.94        349.30                242.77   \n",
       "1    702.97      296.53      558.13        180.55                781.06   \n",
       "2    313.14      295.94      642.96        505.71                438.91   \n",
       "3    898.52       61.27      548.73        240.93                278.96   \n",
       "4    766.52      550.72      651.91        666.33                396.33   \n",
       "..      ...         ...         ...           ...                   ...   \n",
       "295  770.05      501.36      694.60        172.26                572.26   \n",
       "296  512.38      250.83      373.78        366.95                987.14   \n",
       "297  998.10      858.75      781.06         60.61                174.63   \n",
       "298  322.35      681.22      640.29        343.65                534.22   \n",
       "299  476.45      884.77      301.79        802.30                434.82   \n",
       "\n",
       "     Affiliate_Marketing  Product_Sold  \n",
       "0                 910.10        7164.0  \n",
       "1                 132.43        5055.0  \n",
       "2                 464.23        6154.0  \n",
       "3                 432.27        5480.0  \n",
       "4                 841.93        9669.0  \n",
       "..                   ...           ...  \n",
       "295               410.56        6851.0  \n",
       "296               509.03        6477.0  \n",
       "297               213.53        6949.0  \n",
       "298               648.71        7737.0  \n",
       "299               401.69        8187.0  \n",
       "\n",
       "[300 rows x 7 columns]"
      ]
     },
     "execution_count": 11,
     "metadata": {},
     "output_type": "execute_result"
    }
   ],
   "source": [
    "data"
   ]
  },
  {
   "cell_type": "code",
   "execution_count": 12,
   "id": "6736d41c",
   "metadata": {},
   "outputs": [],
   "source": [
    "Ad = data.iloc[:, :5].sum()"
   ]
  },
  {
   "cell_type": "code",
   "execution_count": 13,
   "id": "a7c5b33f",
   "metadata": {},
   "outputs": [
    {
     "data": {
      "text/plain": [
       "TV                      155229.30\n",
       "Billboards              150793.48\n",
       "Google_Ads              153733.24\n",
       "Social_Media            146940.03\n",
       "Influencer_Marketing    139719.77\n",
       "dtype: float64"
      ]
     },
     "execution_count": 13,
     "metadata": {},
     "output_type": "execute_result"
    }
   ],
   "source": [
    "Ad"
   ]
  },
  {
   "cell_type": "code",
   "execution_count": 15,
   "id": "79dd9d4b",
   "metadata": {},
   "outputs": [
    {
     "data": {
      "image/png": "[encoded data removed]",
      "text/plain": [
       "<Figure size 432x288 with 1 Axes>"
      ]
     },
     "metadata": {},
     "output_type": "display_data"
    }
   ],
   "source": [
    "fig = plt.figure(figsize = (6, 4))\n",
    "ax = fig.add_subplot(1, 1, 1)\n",
    "Ad.plot(kind = 'bar')\n",
    "plt.xlabel('Advertisement', color = 'black', size = 25)\n",
    "plt.ylabel('Product_Sold', color = 'black', size = 25, labelpad = 15)\n",
    "plt.xticks(fontsize = 15, fontweight = 'bold', rotation = 90, color = 'k')\n",
    "plt.yticks(fontsize = 15, fontweight = 'bold', color = 'k')\n",
    "ax.spines['left'].set_color('k')\n",
    "ax.spines['bottom'].set_color('k')\n",
    "ax.spines['right'].set_color('k')\n",
    "ax.spines['top'].set_color('k')\n",
    "ax.spines['left'].set_linewidth(5)\n",
    "ax.spines['right'].set_linewidth(5)\n",
    "ax.spines['top'].set_linewidth(5)\n",
    "ax.spines['bottom'].set_linewidth(5)\n",
    "plt.title('Product Advertising Data', fontweight = 'bold', fontsize = 30, color = 'k', pad = 15)\n",
    "plt.savefig('Product Advertising Data', transparent = True, bbox_inches = 'tight')\n",
    "plt.plot()\n",
    "plt.show()"
   ]
  },
  {
   "cell_type": "code",
   "execution_count": null,
   "id": "70a86403",
   "metadata": {},
   "outputs": [],
   "source": []
  }
 ],
 "metadata": {
  "kernelspec": {
   "display_name": "Python 3 (ipykernel)",
   "language": "python",
   "name": "python3"
  },
  "language_info": {
   "codemirror_mode": {
    "name": "ipython",
    "version": 3
   },
   "file_extension": ".py",
   "mimetype": "text/x-python",
   "name": "python",
   "nbconvert_exporter": "python",
   "pygments_lexer": "ipython3",
   "version": "3.9.12"
  }
 },
 "nbformat": 4,
 "nbformat_minor": 5
}
