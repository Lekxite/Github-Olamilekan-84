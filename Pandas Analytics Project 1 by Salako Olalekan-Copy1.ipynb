{
 "cells": [
  {
   "cell_type": "markdown",
   "id": "3f79561f",
   "metadata": {},
   "source": [
    "# Pandas Analytics Project"
   ]
  },
  {
   "cell_type": "code",
   "execution_count": 1,
   "id": "1326de26",
   "metadata": {},
   "outputs": [],
   "source": [
    "import os\n",
    "import glob\n",
    "import pandas as pd\n",
    "import matplotlib.pyplot as plt"
   ]
  },
  {
   "cell_type": "code",
   "execution_count": 2,
   "id": "57caaaa6",
   "metadata": {},
   "outputs": [],
   "source": [
    "extension = 'csv'"
   ]
  },
  {
   "cell_type": "markdown",
   "id": "476eaaa0",
   "metadata": {},
   "source": [
    "# Data Collection"
   ]
  },
  {
   "cell_type": "code",
   "execution_count": 3,
   "id": "987a4bdd",
   "metadata": {},
   "outputs": [],
   "source": [
    "###...Datasets for The 3 Branches of Company XYZ(Lagos, Abuja & Port Harcourt) from The Company Repository"
   ]
  },
  {
   "cell_type": "markdown",
   "id": "0f1efbe1",
   "metadata": {},
   "source": [
    "# Reading The Datasets"
   ]
  },
  {
   "cell_type": "code",
   "execution_count": 4,
   "id": "06bba508",
   "metadata": {},
   "outputs": [],
   "source": [
    "df1 = pd.read_csv('Abuja_Branch.csv')\n",
    "df2 = pd.read_csv('Lagos_Branch.csv')\n",
    "df3 = pd.read_csv('Port_Harcourt_Branch.csv')"
   ]
  },
  {
   "cell_type": "markdown",
   "id": "5398e71a",
   "metadata": {},
   "source": [
    "# Combining The 3 Datasets"
   ]
  },
  {
   "cell_type": "code",
   "execution_count": 5,
   "id": "4bb180c5",
   "metadata": {},
   "outputs": [],
   "source": [
    "dff = pd.concat([df1, df2, df3])"
   ]
  },
  {
   "cell_type": "markdown",
   "id": "b68fa324",
   "metadata": {},
   "source": [
    "# Creating New Variable for The Concatenated Datasets and Save it back to The Database in csv format."
   ]
  },
  {
   "cell_type": "code",
   "execution_count": 6,
   "id": "aebe8fae",
   "metadata": {},
   "outputs": [],
   "source": [
    "Newdataset = ['df1', 'df2', 'df3']\n",
    "dff.to_csv('Newdataset.csv', index = False)"
   ]
  },
  {
   "cell_type": "markdown",
   "id": "1937d704",
   "metadata": {},
   "source": [
    "# Viewing The Dataset"
   ]
  },
  {
   "cell_type": "code",
   "execution_count": 7,
   "id": "bb9f4c14",
   "metadata": {},
   "outputs": [],
   "source": [
    "dff = pd.read_csv('Newdataset.csv')"
   ]
  },
  {
   "cell_type": "code",
   "execution_count": 8,
   "id": "6a30ef4d",
   "metadata": {},
   "outputs": [
    {
     "data": {
      "text/html": [
       "<div>\n",
       "<style scoped>\n",
       "    .dataframe tbody tr th:only-of-type {\n",
       "        vertical-align: middle;\n",
       "    }\n",
       "\n",
       "    .dataframe tbody tr th {\n",
       "        vertical-align: top;\n",
       "    }\n",
       "\n",
       "    .dataframe thead th {\n",
       "        text-align: right;\n",
       "    }\n",
       "</style>\n",
       "<table border=\"1\" class=\"dataframe\">\n",
       "  <thead>\n",
       "    <tr style=\"text-align: right;\">\n",
       "      <th></th>\n",
       "      <th>Invoice ID</th>\n",
       "      <th>Branch</th>\n",
       "      <th>City</th>\n",
       "      <th>Customer type</th>\n",
       "      <th>Gender</th>\n",
       "      <th>Product line</th>\n",
       "      <th>Unit price</th>\n",
       "      <th>Quantity</th>\n",
       "      <th>Tax 5%</th>\n",
       "      <th>Total</th>\n",
       "      <th>Date</th>\n",
       "      <th>Time</th>\n",
       "      <th>Payment</th>\n",
       "      <th>cogs</th>\n",
       "      <th>gross margin percentage</th>\n",
       "      <th>gross income</th>\n",
       "      <th>Rating</th>\n",
       "    </tr>\n",
       "  </thead>\n",
       "  <tbody>\n",
       "    <tr>\n",
       "      <th>0</th>\n",
       "      <td>692-92-5582</td>\n",
       "      <td>B</td>\n",
       "      <td>Abuja</td>\n",
       "      <td>Member</td>\n",
       "      <td>Female</td>\n",
       "      <td>Food and beverages</td>\n",
       "      <td>19742.4</td>\n",
       "      <td>3</td>\n",
       "      <td>2961.36</td>\n",
       "      <td>62188.56</td>\n",
       "      <td>2/20/2019</td>\n",
       "      <td>13:27</td>\n",
       "      <td>Card</td>\n",
       "      <td>59227.2</td>\n",
       "      <td>4.761905</td>\n",
       "      <td>2961.36</td>\n",
       "      <td>5.9</td>\n",
       "    </tr>\n",
       "    <tr>\n",
       "      <th>1</th>\n",
       "      <td>351-62-0822</td>\n",
       "      <td>B</td>\n",
       "      <td>Abuja</td>\n",
       "      <td>Member</td>\n",
       "      <td>Female</td>\n",
       "      <td>Fashion accessories</td>\n",
       "      <td>5212.8</td>\n",
       "      <td>4</td>\n",
       "      <td>1042.56</td>\n",
       "      <td>21893.76</td>\n",
       "      <td>2/6/2019</td>\n",
       "      <td>18:07</td>\n",
       "      <td>Epay</td>\n",
       "      <td>20851.2</td>\n",
       "      <td>4.761905</td>\n",
       "      <td>1042.56</td>\n",
       "      <td>4.5</td>\n",
       "    </tr>\n",
       "    <tr>\n",
       "      <th>2</th>\n",
       "      <td>529-56-3974</td>\n",
       "      <td>B</td>\n",
       "      <td>Abuja</td>\n",
       "      <td>Member</td>\n",
       "      <td>Male</td>\n",
       "      <td>Electronic accessories</td>\n",
       "      <td>9183.6</td>\n",
       "      <td>4</td>\n",
       "      <td>1836.72</td>\n",
       "      <td>38571.12</td>\n",
       "      <td>3/9/2019</td>\n",
       "      <td>17:03</td>\n",
       "      <td>Cash</td>\n",
       "      <td>36734.4</td>\n",
       "      <td>4.761905</td>\n",
       "      <td>1836.72</td>\n",
       "      <td>6.8</td>\n",
       "    </tr>\n",
       "    <tr>\n",
       "      <th>3</th>\n",
       "      <td>299-46-1805</td>\n",
       "      <td>B</td>\n",
       "      <td>Abuja</td>\n",
       "      <td>Member</td>\n",
       "      <td>Female</td>\n",
       "      <td>Sports and travel</td>\n",
       "      <td>33739.2</td>\n",
       "      <td>6</td>\n",
       "      <td>10121.76</td>\n",
       "      <td>212556.96</td>\n",
       "      <td>1/15/2019</td>\n",
       "      <td>16:19</td>\n",
       "      <td>Cash</td>\n",
       "      <td>202435.2</td>\n",
       "      <td>4.761905</td>\n",
       "      <td>10121.76</td>\n",
       "      <td>4.5</td>\n",
       "    </tr>\n",
       "    <tr>\n",
       "      <th>4</th>\n",
       "      <td>319-50-3348</td>\n",
       "      <td>B</td>\n",
       "      <td>Abuja</td>\n",
       "      <td>Normal</td>\n",
       "      <td>Female</td>\n",
       "      <td>Home and lifestyle</td>\n",
       "      <td>14508.0</td>\n",
       "      <td>2</td>\n",
       "      <td>1450.80</td>\n",
       "      <td>30466.80</td>\n",
       "      <td>3/11/2019</td>\n",
       "      <td>15:30</td>\n",
       "      <td>Epay</td>\n",
       "      <td>29016.0</td>\n",
       "      <td>4.761905</td>\n",
       "      <td>1450.80</td>\n",
       "      <td>4.4</td>\n",
       "    </tr>\n",
       "  </tbody>\n",
       "</table>\n",
       "</div>"
      ],
      "text/plain": [
       "    Invoice ID Branch   City Customer type  Gender            Product line  \\\n",
       "0  692-92-5582      B  Abuja        Member  Female      Food and beverages   \n",
       "1  351-62-0822      B  Abuja        Member  Female     Fashion accessories   \n",
       "2  529-56-3974      B  Abuja        Member    Male  Electronic accessories   \n",
       "3  299-46-1805      B  Abuja        Member  Female       Sports and travel   \n",
       "4  319-50-3348      B  Abuja        Normal  Female      Home and lifestyle   \n",
       "\n",
       "   Unit price  Quantity    Tax 5%      Total       Date   Time Payment  \\\n",
       "0     19742.4         3   2961.36   62188.56  2/20/2019  13:27    Card   \n",
       "1      5212.8         4   1042.56   21893.76   2/6/2019  18:07    Epay   \n",
       "2      9183.6         4   1836.72   38571.12   3/9/2019  17:03    Cash   \n",
       "3     33739.2         6  10121.76  212556.96  1/15/2019  16:19    Cash   \n",
       "4     14508.0         2   1450.80   30466.80  3/11/2019  15:30    Epay   \n",
       "\n",
       "       cogs  gross margin percentage  gross income  Rating  \n",
       "0   59227.2                 4.761905       2961.36     5.9  \n",
       "1   20851.2                 4.761905       1042.56     4.5  \n",
       "2   36734.4                 4.761905       1836.72     6.8  \n",
       "3  202435.2                 4.761905      10121.76     4.5  \n",
       "4   29016.0                 4.761905       1450.80     4.4  "
      ]
     },
     "execution_count": 8,
     "metadata": {},
     "output_type": "execute_result"
    }
   ],
   "source": [
    "dff.head()"
   ]
  },
  {
   "cell_type": "markdown",
   "id": "de08c5ee",
   "metadata": {},
   "source": [
    "# Data Exploration"
   ]
  },
  {
   "cell_type": "code",
   "execution_count": 9,
   "id": "09d16df7",
   "metadata": {},
   "outputs": [],
   "source": [
    "import pandas as pd\n",
    "import numpy as np\n",
    "import seaborn as sns\n",
    "import matplotlib.pyplot as plt\n",
    "%matplotlib inline\n",
    "plt.style.use('fivethirtyeight')\n",
    "import warnings\n",
    "warnings.filterwarnings('ignore')"
   ]
  },
  {
   "cell_type": "code",
   "execution_count": 10,
   "id": "de10a15c",
   "metadata": {},
   "outputs": [],
   "source": [
    "dff = pd.read_csv('Newdataset.csv')"
   ]
  },
  {
   "cell_type": "code",
   "execution_count": 11,
   "id": "94164f4a",
   "metadata": {},
   "outputs": [
    {
     "data": {
      "text/html": [
       "<div>\n",
       "<style scoped>\n",
       "    .dataframe tbody tr th:only-of-type {\n",
       "        vertical-align: middle;\n",
       "    }\n",
       "\n",
       "    .dataframe tbody tr th {\n",
       "        vertical-align: top;\n",
       "    }\n",
       "\n",
       "    .dataframe thead th {\n",
       "        text-align: right;\n",
       "    }\n",
       "</style>\n",
       "<table border=\"1\" class=\"dataframe\">\n",
       "  <thead>\n",
       "    <tr style=\"text-align: right;\">\n",
       "      <th></th>\n",
       "      <th>Invoice ID</th>\n",
       "      <th>Branch</th>\n",
       "      <th>City</th>\n",
       "      <th>Customer type</th>\n",
       "      <th>Gender</th>\n",
       "      <th>Product line</th>\n",
       "      <th>Unit price</th>\n",
       "      <th>Quantity</th>\n",
       "      <th>Tax 5%</th>\n",
       "      <th>Total</th>\n",
       "      <th>Date</th>\n",
       "      <th>Time</th>\n",
       "      <th>Payment</th>\n",
       "      <th>cogs</th>\n",
       "      <th>gross margin percentage</th>\n",
       "      <th>gross income</th>\n",
       "      <th>Rating</th>\n",
       "    </tr>\n",
       "  </thead>\n",
       "  <tbody>\n",
       "    <tr>\n",
       "      <th>0</th>\n",
       "      <td>692-92-5582</td>\n",
       "      <td>B</td>\n",
       "      <td>Abuja</td>\n",
       "      <td>Member</td>\n",
       "      <td>Female</td>\n",
       "      <td>Food and beverages</td>\n",
       "      <td>19742.4</td>\n",
       "      <td>3</td>\n",
       "      <td>2961.36</td>\n",
       "      <td>62188.56</td>\n",
       "      <td>2/20/2019</td>\n",
       "      <td>13:27</td>\n",
       "      <td>Card</td>\n",
       "      <td>59227.2</td>\n",
       "      <td>4.761905</td>\n",
       "      <td>2961.36</td>\n",
       "      <td>5.9</td>\n",
       "    </tr>\n",
       "    <tr>\n",
       "      <th>1</th>\n",
       "      <td>351-62-0822</td>\n",
       "      <td>B</td>\n",
       "      <td>Abuja</td>\n",
       "      <td>Member</td>\n",
       "      <td>Female</td>\n",
       "      <td>Fashion accessories</td>\n",
       "      <td>5212.8</td>\n",
       "      <td>4</td>\n",
       "      <td>1042.56</td>\n",
       "      <td>21893.76</td>\n",
       "      <td>2/6/2019</td>\n",
       "      <td>18:07</td>\n",
       "      <td>Epay</td>\n",
       "      <td>20851.2</td>\n",
       "      <td>4.761905</td>\n",
       "      <td>1042.56</td>\n",
       "      <td>4.5</td>\n",
       "    </tr>\n",
       "    <tr>\n",
       "      <th>2</th>\n",
       "      <td>529-56-3974</td>\n",
       "      <td>B</td>\n",
       "      <td>Abuja</td>\n",
       "      <td>Member</td>\n",
       "      <td>Male</td>\n",
       "      <td>Electronic accessories</td>\n",
       "      <td>9183.6</td>\n",
       "      <td>4</td>\n",
       "      <td>1836.72</td>\n",
       "      <td>38571.12</td>\n",
       "      <td>3/9/2019</td>\n",
       "      <td>17:03</td>\n",
       "      <td>Cash</td>\n",
       "      <td>36734.4</td>\n",
       "      <td>4.761905</td>\n",
       "      <td>1836.72</td>\n",
       "      <td>6.8</td>\n",
       "    </tr>\n",
       "    <tr>\n",
       "      <th>3</th>\n",
       "      <td>299-46-1805</td>\n",
       "      <td>B</td>\n",
       "      <td>Abuja</td>\n",
       "      <td>Member</td>\n",
       "      <td>Female</td>\n",
       "      <td>Sports and travel</td>\n",
       "      <td>33739.2</td>\n",
       "      <td>6</td>\n",
       "      <td>10121.76</td>\n",
       "      <td>212556.96</td>\n",
       "      <td>1/15/2019</td>\n",
       "      <td>16:19</td>\n",
       "      <td>Cash</td>\n",
       "      <td>202435.2</td>\n",
       "      <td>4.761905</td>\n",
       "      <td>10121.76</td>\n",
       "      <td>4.5</td>\n",
       "    </tr>\n",
       "    <tr>\n",
       "      <th>4</th>\n",
       "      <td>319-50-3348</td>\n",
       "      <td>B</td>\n",
       "      <td>Abuja</td>\n",
       "      <td>Normal</td>\n",
       "      <td>Female</td>\n",
       "      <td>Home and lifestyle</td>\n",
       "      <td>14508.0</td>\n",
       "      <td>2</td>\n",
       "      <td>1450.80</td>\n",
       "      <td>30466.80</td>\n",
       "      <td>3/11/2019</td>\n",
       "      <td>15:30</td>\n",
       "      <td>Epay</td>\n",
       "      <td>29016.0</td>\n",
       "      <td>4.761905</td>\n",
       "      <td>1450.80</td>\n",
       "      <td>4.4</td>\n",
       "    </tr>\n",
       "  </tbody>\n",
       "</table>\n",
       "</div>"
      ],
      "text/plain": [
       "    Invoice ID Branch   City Customer type  Gender            Product line  \\\n",
       "0  692-92-5582      B  Abuja        Member  Female      Food and beverages   \n",
       "1  351-62-0822      B  Abuja        Member  Female     Fashion accessories   \n",
       "2  529-56-3974      B  Abuja        Member    Male  Electronic accessories   \n",
       "3  299-46-1805      B  Abuja        Member  Female       Sports and travel   \n",
       "4  319-50-3348      B  Abuja        Normal  Female      Home and lifestyle   \n",
       "\n",
       "   Unit price  Quantity    Tax 5%      Total       Date   Time Payment  \\\n",
       "0     19742.4         3   2961.36   62188.56  2/20/2019  13:27    Card   \n",
       "1      5212.8         4   1042.56   21893.76   2/6/2019  18:07    Epay   \n",
       "2      9183.6         4   1836.72   38571.12   3/9/2019  17:03    Cash   \n",
       "3     33739.2         6  10121.76  212556.96  1/15/2019  16:19    Cash   \n",
       "4     14508.0         2   1450.80   30466.80  3/11/2019  15:30    Epay   \n",
       "\n",
       "       cogs  gross margin percentage  gross income  Rating  \n",
       "0   59227.2                 4.761905       2961.36     5.9  \n",
       "1   20851.2                 4.761905       1042.56     4.5  \n",
       "2   36734.4                 4.761905       1836.72     6.8  \n",
       "3  202435.2                 4.761905      10121.76     4.5  \n",
       "4   29016.0                 4.761905       1450.80     4.4  "
      ]
     },
     "execution_count": 11,
     "metadata": {},
     "output_type": "execute_result"
    }
   ],
   "source": [
    "dff.head()"
   ]
  },
  {
   "cell_type": "code",
   "execution_count": 12,
   "id": "78e41f3e",
   "metadata": {},
   "outputs": [],
   "source": [
    "# Number of Rows and Columns"
   ]
  },
  {
   "cell_type": "code",
   "execution_count": 13,
   "id": "fe03669a",
   "metadata": {},
   "outputs": [
    {
     "name": "stdout",
     "output_type": "stream",
     "text": [
      "Number of Rows 1000\n",
      "Number of Columns 17\n"
     ]
    }
   ],
   "source": [
    "print('Number of Rows', dff.shape[0])\n",
    "print('Number of Columns', dff.shape[1])"
   ]
  },
  {
   "cell_type": "code",
   "execution_count": 14,
   "id": "bc21f8f3",
   "metadata": {},
   "outputs": [],
   "source": [
    "# Names of The Columns"
   ]
  },
  {
   "cell_type": "code",
   "execution_count": 15,
   "id": "65da1c4b",
   "metadata": {},
   "outputs": [
    {
     "data": {
      "text/plain": [
       "Index(['Invoice ID', 'Branch', 'City', 'Customer type', 'Gender',\n",
       "       'Product line', 'Unit price', 'Quantity', 'Tax 5%', 'Total', 'Date',\n",
       "       'Time', 'Payment', 'cogs', 'gross margin percentage', 'gross income',\n",
       "       'Rating'],\n",
       "      dtype='object')"
      ]
     },
     "execution_count": 15,
     "metadata": {},
     "output_type": "execute_result"
    }
   ],
   "source": [
    "dff.columns"
   ]
  },
  {
   "cell_type": "code",
   "execution_count": 16,
   "id": "4f42fb5c",
   "metadata": {},
   "outputs": [],
   "source": [
    "# Data Statistical Summary"
   ]
  },
  {
   "cell_type": "code",
   "execution_count": 17,
   "id": "7f8b74bc",
   "metadata": {},
   "outputs": [
    {
     "data": {
      "text/html": [
       "<div>\n",
       "<style scoped>\n",
       "    .dataframe tbody tr th:only-of-type {\n",
       "        vertical-align: middle;\n",
       "    }\n",
       "\n",
       "    .dataframe tbody tr th {\n",
       "        vertical-align: top;\n",
       "    }\n",
       "\n",
       "    .dataframe thead th {\n",
       "        text-align: right;\n",
       "    }\n",
       "</style>\n",
       "<table border=\"1\" class=\"dataframe\">\n",
       "  <thead>\n",
       "    <tr style=\"text-align: right;\">\n",
       "      <th></th>\n",
       "      <th>Unit price</th>\n",
       "      <th>Quantity</th>\n",
       "      <th>Tax 5%</th>\n",
       "      <th>Total</th>\n",
       "      <th>cogs</th>\n",
       "      <th>gross margin percentage</th>\n",
       "      <th>gross income</th>\n",
       "      <th>Rating</th>\n",
       "    </tr>\n",
       "  </thead>\n",
       "  <tbody>\n",
       "    <tr>\n",
       "      <th>count</th>\n",
       "      <td>1000.000000</td>\n",
       "      <td>1000.000000</td>\n",
       "      <td>1000.000000</td>\n",
       "      <td>1000.000000</td>\n",
       "      <td>1000.000000</td>\n",
       "      <td>1.000000e+03</td>\n",
       "      <td>1000.000000</td>\n",
       "      <td>1000.00000</td>\n",
       "    </tr>\n",
       "    <tr>\n",
       "      <th>mean</th>\n",
       "      <td>20041.966800</td>\n",
       "      <td>5.510000</td>\n",
       "      <td>5536.572840</td>\n",
       "      <td>116268.029640</td>\n",
       "      <td>110731.456800</td>\n",
       "      <td>4.761905e+00</td>\n",
       "      <td>5536.572840</td>\n",
       "      <td>6.97270</td>\n",
       "    </tr>\n",
       "    <tr>\n",
       "      <th>std</th>\n",
       "      <td>9538.066205</td>\n",
       "      <td>2.923431</td>\n",
       "      <td>4215.177173</td>\n",
       "      <td>88518.720636</td>\n",
       "      <td>84303.543463</td>\n",
       "      <td>6.131498e-14</td>\n",
       "      <td>4215.177173</td>\n",
       "      <td>1.71858</td>\n",
       "    </tr>\n",
       "    <tr>\n",
       "      <th>min</th>\n",
       "      <td>3628.800000</td>\n",
       "      <td>1.000000</td>\n",
       "      <td>183.060000</td>\n",
       "      <td>3844.260000</td>\n",
       "      <td>3661.200000</td>\n",
       "      <td>4.761905e+00</td>\n",
       "      <td>183.060000</td>\n",
       "      <td>4.00000</td>\n",
       "    </tr>\n",
       "    <tr>\n",
       "      <th>25%</th>\n",
       "      <td>11835.000000</td>\n",
       "      <td>3.000000</td>\n",
       "      <td>2132.955000</td>\n",
       "      <td>44792.055000</td>\n",
       "      <td>42659.100000</td>\n",
       "      <td>4.761905e+00</td>\n",
       "      <td>2132.955000</td>\n",
       "      <td>5.50000</td>\n",
       "    </tr>\n",
       "    <tr>\n",
       "      <th>50%</th>\n",
       "      <td>19882.800000</td>\n",
       "      <td>5.000000</td>\n",
       "      <td>4351.680000</td>\n",
       "      <td>91385.280000</td>\n",
       "      <td>87033.600000</td>\n",
       "      <td>4.761905e+00</td>\n",
       "      <td>4351.680000</td>\n",
       "      <td>7.00000</td>\n",
       "    </tr>\n",
       "    <tr>\n",
       "      <th>75%</th>\n",
       "      <td>28056.600000</td>\n",
       "      <td>8.000000</td>\n",
       "      <td>8080.290000</td>\n",
       "      <td>169686.090000</td>\n",
       "      <td>161605.800000</td>\n",
       "      <td>4.761905e+00</td>\n",
       "      <td>8080.290000</td>\n",
       "      <td>8.50000</td>\n",
       "    </tr>\n",
       "    <tr>\n",
       "      <th>max</th>\n",
       "      <td>35985.600000</td>\n",
       "      <td>10.000000</td>\n",
       "      <td>17874.000000</td>\n",
       "      <td>375354.000000</td>\n",
       "      <td>357480.000000</td>\n",
       "      <td>4.761905e+00</td>\n",
       "      <td>17874.000000</td>\n",
       "      <td>10.00000</td>\n",
       "    </tr>\n",
       "  </tbody>\n",
       "</table>\n",
       "</div>"
      ],
      "text/plain": [
       "         Unit price     Quantity        Tax 5%          Total           cogs  \\\n",
       "count   1000.000000  1000.000000   1000.000000    1000.000000    1000.000000   \n",
       "mean   20041.966800     5.510000   5536.572840  116268.029640  110731.456800   \n",
       "std     9538.066205     2.923431   4215.177173   88518.720636   84303.543463   \n",
       "min     3628.800000     1.000000    183.060000    3844.260000    3661.200000   \n",
       "25%    11835.000000     3.000000   2132.955000   44792.055000   42659.100000   \n",
       "50%    19882.800000     5.000000   4351.680000   91385.280000   87033.600000   \n",
       "75%    28056.600000     8.000000   8080.290000  169686.090000  161605.800000   \n",
       "max    35985.600000    10.000000  17874.000000  375354.000000  357480.000000   \n",
       "\n",
       "       gross margin percentage  gross income      Rating  \n",
       "count             1.000000e+03   1000.000000  1000.00000  \n",
       "mean              4.761905e+00   5536.572840     6.97270  \n",
       "std               6.131498e-14   4215.177173     1.71858  \n",
       "min               4.761905e+00    183.060000     4.00000  \n",
       "25%               4.761905e+00   2132.955000     5.50000  \n",
       "50%               4.761905e+00   4351.680000     7.00000  \n",
       "75%               4.761905e+00   8080.290000     8.50000  \n",
       "max               4.761905e+00  17874.000000    10.00000  "
      ]
     },
     "execution_count": 17,
     "metadata": {},
     "output_type": "execute_result"
    }
   ],
   "source": [
    "dff.describe()"
   ]
  },
  {
   "cell_type": "code",
   "execution_count": 18,
   "id": "a9d4f238",
   "metadata": {},
   "outputs": [],
   "source": [
    "# The information here shows that there are no missing values\n",
    "# It also shows the mean of Unit price, Quantity, Tax, Total and Cost of Goods Sold\n",
    "# It also shows the Standard Deviation, min, max, 25%, 50%, and 75% of the Numerical variables."
   ]
  },
  {
   "cell_type": "code",
   "execution_count": 19,
   "id": "8a7a8f36",
   "metadata": {},
   "outputs": [],
   "source": [
    "# Missing Values"
   ]
  },
  {
   "cell_type": "code",
   "execution_count": 20,
   "id": "faf9ec0c",
   "metadata": {},
   "outputs": [
    {
     "data": {
      "text/plain": [
       "Invoice ID                 0\n",
       "Branch                     0\n",
       "City                       0\n",
       "Customer type              0\n",
       "Gender                     0\n",
       "Product line               0\n",
       "Unit price                 0\n",
       "Quantity                   0\n",
       "Tax 5%                     0\n",
       "Total                      0\n",
       "Date                       0\n",
       "Time                       0\n",
       "Payment                    0\n",
       "cogs                       0\n",
       "gross margin percentage    0\n",
       "gross income               0\n",
       "Rating                     0\n",
       "dtype: int64"
      ]
     },
     "execution_count": 20,
     "metadata": {},
     "output_type": "execute_result"
    }
   ],
   "source": [
    "dff.isnull().sum()"
   ]
  },
  {
   "cell_type": "code",
   "execution_count": 21,
   "id": "e9c31508",
   "metadata": {},
   "outputs": [],
   "source": [
    "# There no missing values"
   ]
  },
  {
   "cell_type": "code",
   "execution_count": 22,
   "id": "cfbf149e",
   "metadata": {},
   "outputs": [
    {
     "data": {
      "text/plain": [
       "Invoice ID                 1000\n",
       "Branch                     1000\n",
       "City                       1000\n",
       "Customer type              1000\n",
       "Gender                     1000\n",
       "Product line               1000\n",
       "Unit price                 1000\n",
       "Quantity                   1000\n",
       "Tax 5%                     1000\n",
       "Total                      1000\n",
       "Date                       1000\n",
       "Time                       1000\n",
       "Payment                    1000\n",
       "cogs                       1000\n",
       "gross margin percentage    1000\n",
       "gross income               1000\n",
       "Rating                     1000\n",
       "dtype: int64"
      ]
     },
     "execution_count": 22,
     "metadata": {},
     "output_type": "execute_result"
    }
   ],
   "source": [
    "dff.notna().sum()"
   ]
  },
  {
   "cell_type": "code",
   "execution_count": 23,
   "id": "47c53d4c",
   "metadata": {},
   "outputs": [],
   "source": [
    "# Data Information"
   ]
  },
  {
   "cell_type": "code",
   "execution_count": 24,
   "id": "c4a94fa8",
   "metadata": {},
   "outputs": [
    {
     "name": "stdout",
     "output_type": "stream",
     "text": [
      "<class 'pandas.core.frame.DataFrame'>\n",
      "RangeIndex: 1000 entries, 0 to 999\n",
      "Data columns (total 17 columns):\n",
      " #   Column                   Non-Null Count  Dtype  \n",
      "---  ------                   --------------  -----  \n",
      " 0   Invoice ID               1000 non-null   object \n",
      " 1   Branch                   1000 non-null   object \n",
      " 2   City                     1000 non-null   object \n",
      " 3   Customer type            1000 non-null   object \n",
      " 4   Gender                   1000 non-null   object \n",
      " 5   Product line             1000 non-null   object \n",
      " 6   Unit price               1000 non-null   float64\n",
      " 7   Quantity                 1000 non-null   int64  \n",
      " 8   Tax 5%                   1000 non-null   float64\n",
      " 9   Total                    1000 non-null   float64\n",
      " 10  Date                     1000 non-null   object \n",
      " 11  Time                     1000 non-null   object \n",
      " 12  Payment                  1000 non-null   object \n",
      " 13  cogs                     1000 non-null   float64\n",
      " 14  gross margin percentage  1000 non-null   float64\n",
      " 15  gross income             1000 non-null   float64\n",
      " 16  Rating                   1000 non-null   float64\n",
      "dtypes: float64(7), int64(1), object(9)\n",
      "memory usage: 132.9+ KB\n"
     ]
    }
   ],
   "source": [
    "dff.info()"
   ]
  },
  {
   "cell_type": "code",
   "execution_count": 25,
   "id": "858a4468",
   "metadata": {},
   "outputs": [],
   "source": [
    "# The information here shows there are no missing values in the dataset.\n",
    "# Also The Date and Time Columns are object datatypes here. Hence they need  to be converted to Datetime datatype."
   ]
  },
  {
   "cell_type": "markdown",
   "id": "252a0491",
   "metadata": {},
   "source": [
    "# Dealing with Datetime Features"
   ]
  },
  {
   "cell_type": "code",
   "execution_count": 26,
   "id": "bb38ef47",
   "metadata": {},
   "outputs": [],
   "source": [
    "import datetime as dt\n",
    "import pandas as pd"
   ]
  },
  {
   "cell_type": "code",
   "execution_count": 27,
   "id": "e30b3f64",
   "metadata": {},
   "outputs": [],
   "source": [
    "dff = pd.read_csv('Newdataset.csv')"
   ]
  },
  {
   "cell_type": "code",
   "execution_count": 28,
   "id": "02b5425b",
   "metadata": {},
   "outputs": [
    {
     "data": {
      "text/html": [
       "<div>\n",
       "<style scoped>\n",
       "    .dataframe tbody tr th:only-of-type {\n",
       "        vertical-align: middle;\n",
       "    }\n",
       "\n",
       "    .dataframe tbody tr th {\n",
       "        vertical-align: top;\n",
       "    }\n",
       "\n",
       "    .dataframe thead th {\n",
       "        text-align: right;\n",
       "    }\n",
       "</style>\n",
       "<table border=\"1\" class=\"dataframe\">\n",
       "  <thead>\n",
       "    <tr style=\"text-align: right;\">\n",
       "      <th></th>\n",
       "      <th>Invoice ID</th>\n",
       "      <th>Branch</th>\n",
       "      <th>City</th>\n",
       "      <th>Customer type</th>\n",
       "      <th>Gender</th>\n",
       "      <th>Product line</th>\n",
       "      <th>Unit price</th>\n",
       "      <th>Quantity</th>\n",
       "      <th>Tax 5%</th>\n",
       "      <th>Total</th>\n",
       "      <th>Date</th>\n",
       "      <th>Time</th>\n",
       "      <th>Payment</th>\n",
       "      <th>cogs</th>\n",
       "      <th>gross margin percentage</th>\n",
       "      <th>gross income</th>\n",
       "      <th>Rating</th>\n",
       "    </tr>\n",
       "  </thead>\n",
       "  <tbody>\n",
       "    <tr>\n",
       "      <th>0</th>\n",
       "      <td>692-92-5582</td>\n",
       "      <td>B</td>\n",
       "      <td>Abuja</td>\n",
       "      <td>Member</td>\n",
       "      <td>Female</td>\n",
       "      <td>Food and beverages</td>\n",
       "      <td>19742.4</td>\n",
       "      <td>3</td>\n",
       "      <td>2961.36</td>\n",
       "      <td>62188.56</td>\n",
       "      <td>2/20/2019</td>\n",
       "      <td>13:27</td>\n",
       "      <td>Card</td>\n",
       "      <td>59227.2</td>\n",
       "      <td>4.761905</td>\n",
       "      <td>2961.36</td>\n",
       "      <td>5.9</td>\n",
       "    </tr>\n",
       "    <tr>\n",
       "      <th>1</th>\n",
       "      <td>351-62-0822</td>\n",
       "      <td>B</td>\n",
       "      <td>Abuja</td>\n",
       "      <td>Member</td>\n",
       "      <td>Female</td>\n",
       "      <td>Fashion accessories</td>\n",
       "      <td>5212.8</td>\n",
       "      <td>4</td>\n",
       "      <td>1042.56</td>\n",
       "      <td>21893.76</td>\n",
       "      <td>2/6/2019</td>\n",
       "      <td>18:07</td>\n",
       "      <td>Epay</td>\n",
       "      <td>20851.2</td>\n",
       "      <td>4.761905</td>\n",
       "      <td>1042.56</td>\n",
       "      <td>4.5</td>\n",
       "    </tr>\n",
       "    <tr>\n",
       "      <th>2</th>\n",
       "      <td>529-56-3974</td>\n",
       "      <td>B</td>\n",
       "      <td>Abuja</td>\n",
       "      <td>Member</td>\n",
       "      <td>Male</td>\n",
       "      <td>Electronic accessories</td>\n",
       "      <td>9183.6</td>\n",
       "      <td>4</td>\n",
       "      <td>1836.72</td>\n",
       "      <td>38571.12</td>\n",
       "      <td>3/9/2019</td>\n",
       "      <td>17:03</td>\n",
       "      <td>Cash</td>\n",
       "      <td>36734.4</td>\n",
       "      <td>4.761905</td>\n",
       "      <td>1836.72</td>\n",
       "      <td>6.8</td>\n",
       "    </tr>\n",
       "    <tr>\n",
       "      <th>3</th>\n",
       "      <td>299-46-1805</td>\n",
       "      <td>B</td>\n",
       "      <td>Abuja</td>\n",
       "      <td>Member</td>\n",
       "      <td>Female</td>\n",
       "      <td>Sports and travel</td>\n",
       "      <td>33739.2</td>\n",
       "      <td>6</td>\n",
       "      <td>10121.76</td>\n",
       "      <td>212556.96</td>\n",
       "      <td>1/15/2019</td>\n",
       "      <td>16:19</td>\n",
       "      <td>Cash</td>\n",
       "      <td>202435.2</td>\n",
       "      <td>4.761905</td>\n",
       "      <td>10121.76</td>\n",
       "      <td>4.5</td>\n",
       "    </tr>\n",
       "    <tr>\n",
       "      <th>4</th>\n",
       "      <td>319-50-3348</td>\n",
       "      <td>B</td>\n",
       "      <td>Abuja</td>\n",
       "      <td>Normal</td>\n",
       "      <td>Female</td>\n",
       "      <td>Home and lifestyle</td>\n",
       "      <td>14508.0</td>\n",
       "      <td>2</td>\n",
       "      <td>1450.80</td>\n",
       "      <td>30466.80</td>\n",
       "      <td>3/11/2019</td>\n",
       "      <td>15:30</td>\n",
       "      <td>Epay</td>\n",
       "      <td>29016.0</td>\n",
       "      <td>4.761905</td>\n",
       "      <td>1450.80</td>\n",
       "      <td>4.4</td>\n",
       "    </tr>\n",
       "  </tbody>\n",
       "</table>\n",
       "</div>"
      ],
      "text/plain": [
       "    Invoice ID Branch   City Customer type  Gender            Product line  \\\n",
       "0  692-92-5582      B  Abuja        Member  Female      Food and beverages   \n",
       "1  351-62-0822      B  Abuja        Member  Female     Fashion accessories   \n",
       "2  529-56-3974      B  Abuja        Member    Male  Electronic accessories   \n",
       "3  299-46-1805      B  Abuja        Member  Female       Sports and travel   \n",
       "4  319-50-3348      B  Abuja        Normal  Female      Home and lifestyle   \n",
       "\n",
       "   Unit price  Quantity    Tax 5%      Total       Date   Time Payment  \\\n",
       "0     19742.4         3   2961.36   62188.56  2/20/2019  13:27    Card   \n",
       "1      5212.8         4   1042.56   21893.76   2/6/2019  18:07    Epay   \n",
       "2      9183.6         4   1836.72   38571.12   3/9/2019  17:03    Cash   \n",
       "3     33739.2         6  10121.76  212556.96  1/15/2019  16:19    Cash   \n",
       "4     14508.0         2   1450.80   30466.80  3/11/2019  15:30    Epay   \n",
       "\n",
       "       cogs  gross margin percentage  gross income  Rating  \n",
       "0   59227.2                 4.761905       2961.36     5.9  \n",
       "1   20851.2                 4.761905       1042.56     4.5  \n",
       "2   36734.4                 4.761905       1836.72     6.8  \n",
       "3  202435.2                 4.761905      10121.76     4.5  \n",
       "4   29016.0                 4.761905       1450.80     4.4  "
      ]
     },
     "execution_count": 28,
     "metadata": {},
     "output_type": "execute_result"
    }
   ],
   "source": [
    "dff.head()"
   ]
  },
  {
   "cell_type": "code",
   "execution_count": 29,
   "id": "8f9bcb96",
   "metadata": {},
   "outputs": [],
   "source": [
    "dff['New_date'] = dff['Date'] + ' ' + dff['Time']"
   ]
  },
  {
   "cell_type": "code",
   "execution_count": 30,
   "id": "7c0db867",
   "metadata": {},
   "outputs": [],
   "source": [
    "dff['New_date'] = pd.to_datetime(dff['New_date'])"
   ]
  },
  {
   "cell_type": "code",
   "execution_count": 31,
   "id": "8aa0ee04",
   "metadata": {},
   "outputs": [
    {
     "data": {
      "text/plain": [
       "0     2019-02-20 13:27:00\n",
       "1     2019-02-06 18:07:00\n",
       "2     2019-03-09 17:03:00\n",
       "3     2019-01-15 16:19:00\n",
       "4     2019-03-11 15:30:00\n",
       "              ...        \n",
       "995   2019-01-23 10:33:00\n",
       "996   2019-01-09 11:40:00\n",
       "997   2019-03-29 19:12:00\n",
       "998   2019-02-18 11:40:00\n",
       "999   2019-01-29 13:46:00\n",
       "Name: New_date, Length: 1000, dtype: datetime64[ns]"
      ]
     },
     "execution_count": 31,
     "metadata": {},
     "output_type": "execute_result"
    }
   ],
   "source": [
    "dff['New_date']"
   ]
  },
  {
   "cell_type": "code",
   "execution_count": 32,
   "id": "cb9928cf",
   "metadata": {},
   "outputs": [],
   "source": [
    "dff['Day'] = dff['New_date'].dt.day"
   ]
  },
  {
   "cell_type": "code",
   "execution_count": 33,
   "id": "50f17139",
   "metadata": {},
   "outputs": [],
   "source": [
    "dff['Month'] = dff['New_date'].dt.month"
   ]
  },
  {
   "cell_type": "code",
   "execution_count": 34,
   "id": "e40bc214",
   "metadata": {},
   "outputs": [],
   "source": [
    "dff['Year'] = dff['New_date'].dt.year"
   ]
  },
  {
   "cell_type": "code",
   "execution_count": 35,
   "id": "cd20c114",
   "metadata": {},
   "outputs": [],
   "source": [
    "dff['Hour'] = dff['New_date'].dt.hour"
   ]
  },
  {
   "cell_type": "code",
   "execution_count": 36,
   "id": "edd60008",
   "metadata": {},
   "outputs": [
    {
     "data": {
      "text/html": [
       "<div>\n",
       "<style scoped>\n",
       "    .dataframe tbody tr th:only-of-type {\n",
       "        vertical-align: middle;\n",
       "    }\n",
       "\n",
       "    .dataframe tbody tr th {\n",
       "        vertical-align: top;\n",
       "    }\n",
       "\n",
       "    .dataframe thead th {\n",
       "        text-align: right;\n",
       "    }\n",
       "</style>\n",
       "<table border=\"1\" class=\"dataframe\">\n",
       "  <thead>\n",
       "    <tr style=\"text-align: right;\">\n",
       "      <th></th>\n",
       "      <th>Invoice ID</th>\n",
       "      <th>Branch</th>\n",
       "      <th>City</th>\n",
       "      <th>Customer type</th>\n",
       "      <th>Gender</th>\n",
       "      <th>Product line</th>\n",
       "      <th>Unit price</th>\n",
       "      <th>Quantity</th>\n",
       "      <th>Tax 5%</th>\n",
       "      <th>Total</th>\n",
       "      <th>...</th>\n",
       "      <th>Payment</th>\n",
       "      <th>cogs</th>\n",
       "      <th>gross margin percentage</th>\n",
       "      <th>gross income</th>\n",
       "      <th>Rating</th>\n",
       "      <th>New_date</th>\n",
       "      <th>Day</th>\n",
       "      <th>Month</th>\n",
       "      <th>Year</th>\n",
       "      <th>Hour</th>\n",
       "    </tr>\n",
       "  </thead>\n",
       "  <tbody>\n",
       "    <tr>\n",
       "      <th>0</th>\n",
       "      <td>692-92-5582</td>\n",
       "      <td>B</td>\n",
       "      <td>Abuja</td>\n",
       "      <td>Member</td>\n",
       "      <td>Female</td>\n",
       "      <td>Food and beverages</td>\n",
       "      <td>19742.4</td>\n",
       "      <td>3</td>\n",
       "      <td>2961.36</td>\n",
       "      <td>62188.56</td>\n",
       "      <td>...</td>\n",
       "      <td>Card</td>\n",
       "      <td>59227.2</td>\n",
       "      <td>4.761905</td>\n",
       "      <td>2961.36</td>\n",
       "      <td>5.9</td>\n",
       "      <td>2019-02-20 13:27:00</td>\n",
       "      <td>20</td>\n",
       "      <td>2</td>\n",
       "      <td>2019</td>\n",
       "      <td>13</td>\n",
       "    </tr>\n",
       "    <tr>\n",
       "      <th>1</th>\n",
       "      <td>351-62-0822</td>\n",
       "      <td>B</td>\n",
       "      <td>Abuja</td>\n",
       "      <td>Member</td>\n",
       "      <td>Female</td>\n",
       "      <td>Fashion accessories</td>\n",
       "      <td>5212.8</td>\n",
       "      <td>4</td>\n",
       "      <td>1042.56</td>\n",
       "      <td>21893.76</td>\n",
       "      <td>...</td>\n",
       "      <td>Epay</td>\n",
       "      <td>20851.2</td>\n",
       "      <td>4.761905</td>\n",
       "      <td>1042.56</td>\n",
       "      <td>4.5</td>\n",
       "      <td>2019-02-06 18:07:00</td>\n",
       "      <td>6</td>\n",
       "      <td>2</td>\n",
       "      <td>2019</td>\n",
       "      <td>18</td>\n",
       "    </tr>\n",
       "    <tr>\n",
       "      <th>2</th>\n",
       "      <td>529-56-3974</td>\n",
       "      <td>B</td>\n",
       "      <td>Abuja</td>\n",
       "      <td>Member</td>\n",
       "      <td>Male</td>\n",
       "      <td>Electronic accessories</td>\n",
       "      <td>9183.6</td>\n",
       "      <td>4</td>\n",
       "      <td>1836.72</td>\n",
       "      <td>38571.12</td>\n",
       "      <td>...</td>\n",
       "      <td>Cash</td>\n",
       "      <td>36734.4</td>\n",
       "      <td>4.761905</td>\n",
       "      <td>1836.72</td>\n",
       "      <td>6.8</td>\n",
       "      <td>2019-03-09 17:03:00</td>\n",
       "      <td>9</td>\n",
       "      <td>3</td>\n",
       "      <td>2019</td>\n",
       "      <td>17</td>\n",
       "    </tr>\n",
       "    <tr>\n",
       "      <th>3</th>\n",
       "      <td>299-46-1805</td>\n",
       "      <td>B</td>\n",
       "      <td>Abuja</td>\n",
       "      <td>Member</td>\n",
       "      <td>Female</td>\n",
       "      <td>Sports and travel</td>\n",
       "      <td>33739.2</td>\n",
       "      <td>6</td>\n",
       "      <td>10121.76</td>\n",
       "      <td>212556.96</td>\n",
       "      <td>...</td>\n",
       "      <td>Cash</td>\n",
       "      <td>202435.2</td>\n",
       "      <td>4.761905</td>\n",
       "      <td>10121.76</td>\n",
       "      <td>4.5</td>\n",
       "      <td>2019-01-15 16:19:00</td>\n",
       "      <td>15</td>\n",
       "      <td>1</td>\n",
       "      <td>2019</td>\n",
       "      <td>16</td>\n",
       "    </tr>\n",
       "    <tr>\n",
       "      <th>4</th>\n",
       "      <td>319-50-3348</td>\n",
       "      <td>B</td>\n",
       "      <td>Abuja</td>\n",
       "      <td>Normal</td>\n",
       "      <td>Female</td>\n",
       "      <td>Home and lifestyle</td>\n",
       "      <td>14508.0</td>\n",
       "      <td>2</td>\n",
       "      <td>1450.80</td>\n",
       "      <td>30466.80</td>\n",
       "      <td>...</td>\n",
       "      <td>Epay</td>\n",
       "      <td>29016.0</td>\n",
       "      <td>4.761905</td>\n",
       "      <td>1450.80</td>\n",
       "      <td>4.4</td>\n",
       "      <td>2019-03-11 15:30:00</td>\n",
       "      <td>11</td>\n",
       "      <td>3</td>\n",
       "      <td>2019</td>\n",
       "      <td>15</td>\n",
       "    </tr>\n",
       "  </tbody>\n",
       "</table>\n",
       "<p>5 rows × 22 columns</p>\n",
       "</div>"
      ],
      "text/plain": [
       "    Invoice ID Branch   City Customer type  Gender            Product line  \\\n",
       "0  692-92-5582      B  Abuja        Member  Female      Food and beverages   \n",
       "1  351-62-0822      B  Abuja        Member  Female     Fashion accessories   \n",
       "2  529-56-3974      B  Abuja        Member    Male  Electronic accessories   \n",
       "3  299-46-1805      B  Abuja        Member  Female       Sports and travel   \n",
       "4  319-50-3348      B  Abuja        Normal  Female      Home and lifestyle   \n",
       "\n",
       "   Unit price  Quantity    Tax 5%      Total  ... Payment      cogs  \\\n",
       "0     19742.4         3   2961.36   62188.56  ...    Card   59227.2   \n",
       "1      5212.8         4   1042.56   21893.76  ...    Epay   20851.2   \n",
       "2      9183.6         4   1836.72   38571.12  ...    Cash   36734.4   \n",
       "3     33739.2         6  10121.76  212556.96  ...    Cash  202435.2   \n",
       "4     14508.0         2   1450.80   30466.80  ...    Epay   29016.0   \n",
       "\n",
       "  gross margin percentage  gross income  Rating            New_date  Day  \\\n",
       "0                4.761905       2961.36     5.9 2019-02-20 13:27:00   20   \n",
       "1                4.761905       1042.56     4.5 2019-02-06 18:07:00    6   \n",
       "2                4.761905       1836.72     6.8 2019-03-09 17:03:00    9   \n",
       "3                4.761905      10121.76     4.5 2019-01-15 16:19:00   15   \n",
       "4                4.761905       1450.80     4.4 2019-03-11 15:30:00   11   \n",
       "\n",
       "  Month  Year  Hour  \n",
       "0     2  2019    13  \n",
       "1     2  2019    18  \n",
       "2     3  2019    17  \n",
       "3     1  2019    16  \n",
       "4     3  2019    15  \n",
       "\n",
       "[5 rows x 22 columns]"
      ]
     },
     "execution_count": 36,
     "metadata": {},
     "output_type": "execute_result"
    }
   ],
   "source": [
    "dff.head()"
   ]
  },
  {
   "cell_type": "code",
   "execution_count": 37,
   "id": "19280254",
   "metadata": {},
   "outputs": [
    {
     "data": {
      "text/plain": [
       "Invoice ID                         object\n",
       "Branch                             object\n",
       "City                               object\n",
       "Customer type                      object\n",
       "Gender                             object\n",
       "Product line                       object\n",
       "Unit price                        float64\n",
       "Quantity                            int64\n",
       "Tax 5%                            float64\n",
       "Total                             float64\n",
       "Date                               object\n",
       "Time                               object\n",
       "Payment                            object\n",
       "cogs                              float64\n",
       "gross margin percentage           float64\n",
       "gross income                      float64\n",
       "Rating                            float64\n",
       "New_date                   datetime64[ns]\n",
       "Day                                 int64\n",
       "Month                               int64\n",
       "Year                                int64\n",
       "Hour                                int64\n",
       "dtype: object"
      ]
     },
     "execution_count": 37,
     "metadata": {},
     "output_type": "execute_result"
    }
   ],
   "source": [
    "dff.dtypes"
   ]
  },
  {
   "cell_type": "markdown",
   "id": "5f320938",
   "metadata": {},
   "source": [
    "# Analysis"
   ]
  },
  {
   "cell_type": "code",
   "execution_count": 38,
   "id": "75223db3",
   "metadata": {},
   "outputs": [
    {
     "data": {
      "text/plain": [
       "11"
      ]
     },
     "execution_count": 38,
     "metadata": {},
     "output_type": "execute_result"
    }
   ],
   "source": [
    "dff['Hour'].nunique()"
   ]
  },
  {
   "cell_type": "code",
   "execution_count": 39,
   "id": "500e5e49",
   "metadata": {},
   "outputs": [
    {
     "data": {
      "text/plain": [
       "array([13, 18, 17, 16, 15, 10, 12, 19, 14, 11, 20], dtype=int64)"
      ]
     },
     "execution_count": 39,
     "metadata": {},
     "output_type": "execute_result"
    }
   ],
   "source": [
    "dff['Hour'].unique()"
   ]
  },
  {
   "cell_type": "markdown",
   "id": "d6712001",
   "metadata": {},
   "source": [
    "# Unique Values in Columns"
   ]
  },
  {
   "cell_type": "code",
   "execution_count": 40,
   "id": "7f6dc389",
   "metadata": {},
   "outputs": [],
   "source": [
    "categorical_columns = [col for col in dff.columns if dff[col].dtype == \"object\"]"
   ]
  },
  {
   "cell_type": "code",
   "execution_count": 41,
   "id": "6c027341",
   "metadata": {},
   "outputs": [
    {
     "data": {
      "text/plain": [
       "['Invoice ID',\n",
       " 'Branch',\n",
       " 'City',\n",
       " 'Customer type',\n",
       " 'Gender',\n",
       " 'Product line',\n",
       " 'Date',\n",
       " 'Time',\n",
       " 'Payment']"
      ]
     },
     "execution_count": 41,
     "metadata": {},
     "output_type": "execute_result"
    }
   ],
   "source": [
    "categorical_columns"
   ]
  },
  {
   "cell_type": "code",
   "execution_count": 42,
   "id": "dc98898b",
   "metadata": {},
   "outputs": [
    {
     "data": {
      "text/plain": [
       "['B', 'A', 'C']"
      ]
     },
     "execution_count": 42,
     "metadata": {},
     "output_type": "execute_result"
    }
   ],
   "source": [
    "dff['Branch'].unique().tolist()"
   ]
  },
  {
   "cell_type": "code",
   "execution_count": 43,
   "id": "60c7ae11",
   "metadata": {},
   "outputs": [
    {
     "name": "stdout",
     "output_type": "stream",
     "text": [
      "Total Number of unique values in the Branch Column : 3\n"
     ]
    }
   ],
   "source": [
    "print(\"Total Number of unique values in the Branch Column : {}\" . format(len(dff['Branch'].unique().tolist())))"
   ]
  },
  {
   "cell_type": "code",
   "execution_count": 44,
   "id": "0aa1a2e4",
   "metadata": {},
   "outputs": [
    {
     "data": {
      "text/plain": [
       "A    340\n",
       "B    332\n",
       "C    328\n",
       "Name: Branch, dtype: int64"
      ]
     },
     "execution_count": 44,
     "metadata": {},
     "output_type": "execute_result"
    }
   ],
   "source": [
    "dff['Branch'].value_counts()"
   ]
  },
  {
   "cell_type": "code",
   "execution_count": 45,
   "id": "099dc2a1",
   "metadata": {},
   "outputs": [
    {
     "data": {
      "text/plain": [
       "['Abuja', 'Lagos', 'Port Harcourt']"
      ]
     },
     "execution_count": 45,
     "metadata": {},
     "output_type": "execute_result"
    }
   ],
   "source": [
    "dff['City'].unique().tolist()"
   ]
  },
  {
   "cell_type": "code",
   "execution_count": 46,
   "id": "15b28f39",
   "metadata": {},
   "outputs": [
    {
     "name": "stdout",
     "output_type": "stream",
     "text": [
      "Total Number of unique values in the Branch Column : 3\n"
     ]
    }
   ],
   "source": [
    "print(\"Total Number of unique values in the Branch Column : {}\" . format(len(dff['City'].unique().tolist())))"
   ]
  },
  {
   "cell_type": "code",
   "execution_count": 47,
   "id": "13cde8b6",
   "metadata": {},
   "outputs": [
    {
     "data": {
      "text/plain": [
       "Lagos            340\n",
       "Abuja            332\n",
       "Port Harcourt    328\n",
       "Name: City, dtype: int64"
      ]
     },
     "execution_count": 47,
     "metadata": {},
     "output_type": "execute_result"
    }
   ],
   "source": [
    "dff['City'].value_counts()"
   ]
  },
  {
   "cell_type": "code",
   "execution_count": 48,
   "id": "f1925f41",
   "metadata": {},
   "outputs": [
    {
     "data": {
      "text/plain": [
       "['Member', 'Normal']"
      ]
     },
     "execution_count": 48,
     "metadata": {},
     "output_type": "execute_result"
    }
   ],
   "source": [
    "dff['Customer type'].unique().tolist()"
   ]
  },
  {
   "cell_type": "code",
   "execution_count": 49,
   "id": "c1834a2a",
   "metadata": {},
   "outputs": [
    {
     "name": "stdout",
     "output_type": "stream",
     "text": [
      "Total Number of unique values in the Branch Column : 2\n"
     ]
    }
   ],
   "source": [
    "print(\"Total Number of unique values in the Branch Column : {}\" . format(len(dff['Customer type'].unique().tolist())))"
   ]
  },
  {
   "cell_type": "code",
   "execution_count": 50,
   "id": "de322f19",
   "metadata": {},
   "outputs": [
    {
     "data": {
      "text/plain": [
       "Member    501\n",
       "Normal    499\n",
       "Name: Customer type, dtype: int64"
      ]
     },
     "execution_count": 50,
     "metadata": {},
     "output_type": "execute_result"
    }
   ],
   "source": [
    "dff['Customer type'].value_counts()"
   ]
  },
  {
   "cell_type": "code",
   "execution_count": 51,
   "id": "5e728b49",
   "metadata": {},
   "outputs": [
    {
     "data": {
      "text/plain": [
       "['Female', 'Male']"
      ]
     },
     "execution_count": 51,
     "metadata": {},
     "output_type": "execute_result"
    }
   ],
   "source": [
    "dff['Gender'].unique().tolist()"
   ]
  },
  {
   "cell_type": "code",
   "execution_count": 52,
   "id": "062bbd05",
   "metadata": {},
   "outputs": [
    {
     "name": "stdout",
     "output_type": "stream",
     "text": [
      "Total Number of unique values in the Branch Column : 2\n"
     ]
    }
   ],
   "source": [
    "print(\"Total Number of unique values in the Branch Column : {}\" . format(len(dff['Gender'].unique().tolist())))"
   ]
  },
  {
   "cell_type": "code",
   "execution_count": 53,
   "id": "204da1eb",
   "metadata": {},
   "outputs": [
    {
     "data": {
      "text/plain": [
       "Female    501\n",
       "Male      499\n",
       "Name: Gender, dtype: int64"
      ]
     },
     "execution_count": 53,
     "metadata": {},
     "output_type": "execute_result"
    }
   ],
   "source": [
    "dff['Gender'].value_counts()"
   ]
  },
  {
   "cell_type": "code",
   "execution_count": 54,
   "id": "fbec479b",
   "metadata": {},
   "outputs": [
    {
     "data": {
      "text/plain": [
       "['Food and beverages',\n",
       " 'Fashion accessories',\n",
       " 'Electronic accessories',\n",
       " 'Sports and travel',\n",
       " 'Home and lifestyle',\n",
       " 'Health and beauty']"
      ]
     },
     "execution_count": 54,
     "metadata": {},
     "output_type": "execute_result"
    }
   ],
   "source": [
    "dff['Product line'].unique().tolist()"
   ]
  },
  {
   "cell_type": "code",
   "execution_count": 55,
   "id": "5949db75",
   "metadata": {},
   "outputs": [
    {
     "name": "stdout",
     "output_type": "stream",
     "text": [
      "Total Number of unique values in the Branch Column : 6\n"
     ]
    }
   ],
   "source": [
    "print(\"Total Number of unique values in the Branch Column : {}\" . format(len(dff['Product line'].unique().tolist())))"
   ]
  },
  {
   "cell_type": "code",
   "execution_count": 56,
   "id": "047e51bf",
   "metadata": {},
   "outputs": [
    {
     "data": {
      "text/plain": [
       "Fashion accessories       178\n",
       "Food and beverages        174\n",
       "Electronic accessories    170\n",
       "Sports and travel         166\n",
       "Home and lifestyle        160\n",
       "Health and beauty         152\n",
       "Name: Product line, dtype: int64"
      ]
     },
     "execution_count": 56,
     "metadata": {},
     "output_type": "execute_result"
    }
   ],
   "source": [
    "dff['Product line'].value_counts()"
   ]
  },
  {
   "cell_type": "code",
   "execution_count": 57,
   "id": "bb884ff2",
   "metadata": {},
   "outputs": [
    {
     "data": {
      "text/plain": [
       "['2/20/2019',\n",
       " '2/6/2019',\n",
       " '3/9/2019',\n",
       " '1/15/2019',\n",
       " '3/11/2019',\n",
       " '3/5/2019',\n",
       " '3/15/2019',\n",
       " '2/8/2019',\n",
       " '1/25/2019',\n",
       " '2/25/2019',\n",
       " '1/28/2019',\n",
       " '1/10/2019',\n",
       " '3/3/2019',\n",
       " '1/17/2019',\n",
       " '2/27/2019',\n",
       " '2/10/2019',\n",
       " '3/22/2019',\n",
       " '3/7/2019',\n",
       " '2/3/2019',\n",
       " '2/14/2019',\n",
       " '1/7/2019',\n",
       " '1/26/2019',\n",
       " '3/12/2019',\n",
       " '3/29/2019',\n",
       " '3/19/2019',\n",
       " '2/5/2019',\n",
       " '2/15/2019',\n",
       " '1/16/2019',\n",
       " '1/20/2019',\n",
       " '2/17/2019',\n",
       " '2/16/2019',\n",
       " '3/6/2019',\n",
       " '3/23/2019',\n",
       " '1/4/2019',\n",
       " '3/30/2019',\n",
       " '3/27/2019',\n",
       " '1/19/2019',\n",
       " '1/18/2019',\n",
       " '2/11/2019',\n",
       " '3/28/2019',\n",
       " '3/2/2019',\n",
       " '3/20/2019',\n",
       " '3/24/2019',\n",
       " '2/12/2019',\n",
       " '3/10/2019',\n",
       " '1/31/2019',\n",
       " '2/26/2019',\n",
       " '2/21/2019',\n",
       " '2/2/2019',\n",
       " '2/9/2019',\n",
       " '1/14/2019',\n",
       " '1/29/2019',\n",
       " '3/13/2019',\n",
       " '1/8/2019',\n",
       " '1/24/2019',\n",
       " '2/23/2019',\n",
       " '2/7/2019',\n",
       " '2/24/2019',\n",
       " '3/14/2019',\n",
       " '3/1/2019',\n",
       " '3/16/2019',\n",
       " '1/5/2019',\n",
       " '1/30/2019',\n",
       " '3/4/2019',\n",
       " '2/22/2019',\n",
       " '1/2/2019',\n",
       " '1/12/2019',\n",
       " '3/26/2019',\n",
       " '1/1/2019',\n",
       " '2/13/2019',\n",
       " '3/21/2019',\n",
       " '2/28/2019',\n",
       " '2/4/2019',\n",
       " '1/21/2019',\n",
       " '3/25/2019',\n",
       " '1/13/2019',\n",
       " '3/17/2019',\n",
       " '3/18/2019',\n",
       " '3/8/2019',\n",
       " '1/22/2019',\n",
       " '2/19/2019',\n",
       " '1/6/2019',\n",
       " '1/3/2019',\n",
       " '1/27/2019',\n",
       " '1/9/2019',\n",
       " '2/18/2019',\n",
       " '2/1/2019',\n",
       " '1/11/2019',\n",
       " '1/23/2019']"
      ]
     },
     "execution_count": 57,
     "metadata": {},
     "output_type": "execute_result"
    }
   ],
   "source": [
    "dff['Date'].unique().tolist()"
   ]
  },
  {
   "cell_type": "code",
   "execution_count": 58,
   "id": "9f4336ab",
   "metadata": {},
   "outputs": [
    {
     "name": "stdout",
     "output_type": "stream",
     "text": [
      "Total Number of unique values in the Branch Column : 89\n"
     ]
    }
   ],
   "source": [
    "print(\"Total Number of unique values in the Branch Column : {}\" . format(len(dff['Date'].unique().tolist())))"
   ]
  },
  {
   "cell_type": "code",
   "execution_count": 59,
   "id": "8e4758fb",
   "metadata": {},
   "outputs": [
    {
     "data": {
      "text/plain": [
       "2/7/2019     20\n",
       "2/15/2019    19\n",
       "3/14/2019    18\n",
       "1/8/2019     18\n",
       "3/2/2019     18\n",
       "             ..\n",
       "2/28/2019     6\n",
       "3/17/2019     6\n",
       "3/21/2019     6\n",
       "2/21/2019     6\n",
       "1/4/2019      6\n",
       "Name: Date, Length: 89, dtype: int64"
      ]
     },
     "execution_count": 59,
     "metadata": {},
     "output_type": "execute_result"
    }
   ],
   "source": [
    "dff['Date'].value_counts()"
   ]
  },
  {
   "cell_type": "code",
   "execution_count": 60,
   "id": "115c6388",
   "metadata": {},
   "outputs": [
    {
     "data": {
      "text/plain": [
       "['13:27',\n",
       " '18:07',\n",
       " '17:03',\n",
       " '16:19',\n",
       " '15:30',\n",
       " '10:40',\n",
       " '12:20',\n",
       " '15:31',\n",
       " '19:48',\n",
       " '19:39',\n",
       " '12:43',\n",
       " '14:49',\n",
       " '13:01',\n",
       " '18:45',\n",
       " '13:03',\n",
       " '18:00',\n",
       " '17:24',\n",
       " '15:47',\n",
       " '12:45',\n",
       " '14:42',\n",
       " '11:49',\n",
       " '13:40',\n",
       " '14:35',\n",
       " '15:01',\n",
       " '18:17',\n",
       " '19:56',\n",
       " '17:55',\n",
       " '12:09',\n",
       " '10:25',\n",
       " '18:14',\n",
       " '18:19',\n",
       " '11:32',\n",
       " '12:44',\n",
       " '12:29',\n",
       " '15:26',\n",
       " '20:38',\n",
       " '17:26',\n",
       " '14:57',\n",
       " '11:15',\n",
       " '13:18',\n",
       " '18:36',\n",
       " '14:40',\n",
       " '12:21',\n",
       " '15:07',\n",
       " '19:20',\n",
       " '19:40',\n",
       " '13:58',\n",
       " '14:43',\n",
       " '19:18',\n",
       " '15:24',\n",
       " '14:12',\n",
       " '17:34',\n",
       " '12:04',\n",
       " '19:46',\n",
       " '19:00',\n",
       " '10:53',\n",
       " '10:39',\n",
       " '13:41',\n",
       " '20:23',\n",
       " '11:57',\n",
       " '14:51',\n",
       " '12:42',\n",
       " '19:42',\n",
       " '19:17',\n",
       " '13:24',\n",
       " '15:53',\n",
       " '18:27',\n",
       " '12:58',\n",
       " '18:59',\n",
       " '13:44',\n",
       " '13:46',\n",
       " '19:14',\n",
       " '10:52',\n",
       " '19:28',\n",
       " '13:52',\n",
       " '10:54',\n",
       " '18:31',\n",
       " '19:26',\n",
       " '18:42',\n",
       " '19:43',\n",
       " '19:06',\n",
       " '15:34',\n",
       " '19:22',\n",
       " '19:24',\n",
       " '20:55',\n",
       " '18:13',\n",
       " '16:52',\n",
       " '20:52',\n",
       " '18:01',\n",
       " '13:30',\n",
       " '17:37',\n",
       " '11:46',\n",
       " '16:46',\n",
       " '14:04',\n",
       " '19:53',\n",
       " '10:11',\n",
       " '18:48',\n",
       " '13:02',\n",
       " '18:23',\n",
       " '20:21',\n",
       " '11:06',\n",
       " '19:02',\n",
       " '14:16',\n",
       " '15:40',\n",
       " '16:58',\n",
       " '19:50',\n",
       " '13:32',\n",
       " '13:19',\n",
       " '10:26',\n",
       " '16:28',\n",
       " '10:43',\n",
       " '19:01',\n",
       " '13:00',\n",
       " '14:29',\n",
       " '17:13',\n",
       " '13:53',\n",
       " '17:27',\n",
       " '14:36',\n",
       " '19:35',\n",
       " '17:58',\n",
       " '20:07',\n",
       " '11:02',\n",
       " '19:07',\n",
       " '18:50',\n",
       " '16:59',\n",
       " '14:15',\n",
       " '20:24',\n",
       " '12:25',\n",
       " '18:33',\n",
       " '15:25',\n",
       " '13:21',\n",
       " '11:48',\n",
       " '14:14',\n",
       " '17:36',\n",
       " '17:53',\n",
       " '16:36',\n",
       " '12:50',\n",
       " '10:48',\n",
       " '14:28',\n",
       " '18:03',\n",
       " '16:48',\n",
       " '10:34',\n",
       " '20:03',\n",
       " '14:55',\n",
       " '11:28',\n",
       " '12:14',\n",
       " '20:40',\n",
       " '17:45',\n",
       " '20:31',\n",
       " '10:49',\n",
       " '12:34',\n",
       " '13:45',\n",
       " '19:38',\n",
       " '12:32',\n",
       " '10:33',\n",
       " '17:16',\n",
       " '19:55',\n",
       " '19:49',\n",
       " '18:43',\n",
       " '12:15',\n",
       " '15:58',\n",
       " '13:05',\n",
       " '11:30',\n",
       " '13:54',\n",
       " '10:37',\n",
       " '11:45',\n",
       " '19:51',\n",
       " '15:27',\n",
       " '11:25',\n",
       " '15:42',\n",
       " '16:04',\n",
       " '14:41',\n",
       " '11:29',\n",
       " '20:00',\n",
       " '15:08',\n",
       " '18:22',\n",
       " '11:52',\n",
       " '18:04',\n",
       " '13:06',\n",
       " '20:43',\n",
       " '10:01',\n",
       " '16:34',\n",
       " '13:10',\n",
       " '19:57',\n",
       " '19:29',\n",
       " '11:59',\n",
       " '19:11',\n",
       " '18:57',\n",
       " '11:18',\n",
       " '12:40',\n",
       " '14:06',\n",
       " '20:48',\n",
       " '15:04',\n",
       " '20:42',\n",
       " '18:53',\n",
       " '17:49',\n",
       " '10:38',\n",
       " '11:16',\n",
       " '15:05',\n",
       " '15:28',\n",
       " '15:12',\n",
       " '13:59',\n",
       " '18:51',\n",
       " '11:58',\n",
       " '18:08',\n",
       " '13:07',\n",
       " '20:32',\n",
       " '13:48',\n",
       " '16:26',\n",
       " '10:50',\n",
       " '16:45',\n",
       " '11:12',\n",
       " '14:38',\n",
       " '16:32',\n",
       " '11:36',\n",
       " '18:37',\n",
       " '11:01',\n",
       " '20:08',\n",
       " '17:38',\n",
       " '19:31',\n",
       " '13:51',\n",
       " '11:55',\n",
       " '11:42',\n",
       " '14:48',\n",
       " '11:51',\n",
       " '20:19',\n",
       " '10:17',\n",
       " '14:25',\n",
       " '15:18',\n",
       " '15:06',\n",
       " '20:57',\n",
       " '15:16',\n",
       " '17:47',\n",
       " '12:02',\n",
       " '14:08',\n",
       " '10:44',\n",
       " '20:29',\n",
       " '11:26',\n",
       " '12:36',\n",
       " '10:58',\n",
       " '11:10',\n",
       " '20:51',\n",
       " '13:33',\n",
       " '20:13',\n",
       " '14:26',\n",
       " '13:22',\n",
       " '15:55',\n",
       " '18:18',\n",
       " '19:44',\n",
       " '15:17',\n",
       " '15:10',\n",
       " '18:10',\n",
       " '19:30',\n",
       " '19:08',\n",
       " '15:46',\n",
       " '18:35',\n",
       " '13:08',\n",
       " '13:23',\n",
       " '20:33',\n",
       " '17:15',\n",
       " '19:21',\n",
       " '11:03',\n",
       " '12:17',\n",
       " '15:36',\n",
       " '10:12',\n",
       " '19:15',\n",
       " '17:17',\n",
       " '12:27',\n",
       " '16:40',\n",
       " '10:04',\n",
       " '10:55',\n",
       " '15:48',\n",
       " '20:35',\n",
       " '16:57',\n",
       " '16:42',\n",
       " '10:16',\n",
       " '16:44',\n",
       " '14:50',\n",
       " '18:44',\n",
       " '13:26',\n",
       " '20:34',\n",
       " '20:59',\n",
       " '15:39',\n",
       " '19:25',\n",
       " '16:37',\n",
       " '12:28',\n",
       " '11:56',\n",
       " '16:21',\n",
       " '16:20',\n",
       " '16:31',\n",
       " '17:01',\n",
       " '19:16',\n",
       " '11:19',\n",
       " '10:13',\n",
       " '16:55',\n",
       " '15:56',\n",
       " '12:55',\n",
       " '18:24',\n",
       " '18:09',\n",
       " '11:20',\n",
       " '16:49',\n",
       " '12:01',\n",
       " '14:47',\n",
       " '16:11',\n",
       " '11:22',\n",
       " '11:23',\n",
       " '10:46',\n",
       " '12:38',\n",
       " '13:25',\n",
       " '11:00',\n",
       " '16:05',\n",
       " '13:34',\n",
       " '11:44',\n",
       " '15:51',\n",
       " '11:09',\n",
       " '15:02',\n",
       " '14:21',\n",
       " '10:00',\n",
       " '15:54',\n",
       " '20:14',\n",
       " '17:09',\n",
       " '17:43',\n",
       " '10:08',\n",
       " '13:12',\n",
       " '12:48',\n",
       " '19:09',\n",
       " '15:59',\n",
       " '11:21',\n",
       " '15:49',\n",
       " '16:10',\n",
       " '17:44',\n",
       " '10:29',\n",
       " '12:46',\n",
       " '16:47',\n",
       " '12:52',\n",
       " '10:36',\n",
       " '20:36',\n",
       " '18:55',\n",
       " '19:36',\n",
       " '10:23',\n",
       " '15:37',\n",
       " '15:09',\n",
       " '13:47',\n",
       " '11:40',\n",
       " '17:04',\n",
       " '18:20',\n",
       " '20:54',\n",
       " '17:29',\n",
       " '18:05',\n",
       " '12:07',\n",
       " '13:55',\n",
       " '16:03',\n",
       " '19:41',\n",
       " '13:28',\n",
       " '16:23',\n",
       " '12:08',\n",
       " '10:28',\n",
       " '16:54',\n",
       " '14:33',\n",
       " '19:54',\n",
       " '14:03',\n",
       " '16:38',\n",
       " '12:23',\n",
       " '14:13',\n",
       " '14:22',\n",
       " '12:56',\n",
       " '10:18',\n",
       " '12:24',\n",
       " '12:37',\n",
       " '14:19',\n",
       " '17:46',\n",
       " '15:44',\n",
       " '10:22',\n",
       " '18:30',\n",
       " '13:57',\n",
       " '12:22',\n",
       " '17:59',\n",
       " '19:45',\n",
       " '20:26',\n",
       " '20:18',\n",
       " '16:06',\n",
       " '12:47',\n",
       " '19:33',\n",
       " '11:39',\n",
       " '15:29',\n",
       " '10:31',\n",
       " '12:30',\n",
       " '15:19',\n",
       " '17:48',\n",
       " '11:07',\n",
       " '16:09',\n",
       " '15:15',\n",
       " '20:06',\n",
       " '11:27',\n",
       " '18:41',\n",
       " '17:12',\n",
       " '18:06',\n",
       " '14:00',\n",
       " '10:57',\n",
       " '10:10',\n",
       " '10:05',\n",
       " '18:15',\n",
       " '15:21',\n",
       " '16:16',\n",
       " '13:11',\n",
       " '11:05',\n",
       " '12:35',\n",
       " '14:30',\n",
       " '13:35',\n",
       " '16:08',\n",
       " '13:37',\n",
       " '10:03',\n",
       " '13:14',\n",
       " '17:35',\n",
       " '16:30',\n",
       " '10:09',\n",
       " '17:54',\n",
       " '16:27',\n",
       " '14:53',\n",
       " '15:23',\n",
       " '18:02',\n",
       " '20:46',\n",
       " '15:33',\n",
       " '11:38',\n",
       " '11:24',\n",
       " '10:42',\n",
       " '20:39',\n",
       " '19:47',\n",
       " '17:08',\n",
       " '10:19',\n",
       " '15:43',\n",
       " '18:21',\n",
       " '14:20',\n",
       " '16:24',\n",
       " '18:56',\n",
       " '14:31',\n",
       " '20:05',\n",
       " '10:41',\n",
       " '19:52',\n",
       " '16:17',\n",
       " '15:57',\n",
       " '16:43',\n",
       " '17:11',\n",
       " '16:07',\n",
       " '15:00',\n",
       " '20:50',\n",
       " '19:58',\n",
       " '10:02',\n",
       " '17:07',\n",
       " '17:22',\n",
       " '13:29',\n",
       " '17:20',\n",
       " '13:42',\n",
       " '14:44',\n",
       " '10:21',\n",
       " '19:05',\n",
       " '11:34',\n",
       " '18:58',\n",
       " '20:01',\n",
       " '20:37',\n",
       " '12:12',\n",
       " '15:32',\n",
       " '12:31',\n",
       " '20:04',\n",
       " '13:38',\n",
       " '17:30',\n",
       " '16:53',\n",
       " '16:51',\n",
       " '20:15',\n",
       " '14:11',\n",
       " '12:10',\n",
       " '20:47',\n",
       " '11:17',\n",
       " '15:52',\n",
       " '11:43',\n",
       " '10:30',\n",
       " '10:06',\n",
       " '12:16',\n",
       " '14:58',\n",
       " '14:45',\n",
       " '17:10',\n",
       " '14:27',\n",
       " '12:51',\n",
       " '13:56',\n",
       " '16:18',\n",
       " '15:14',\n",
       " '20:10',\n",
       " '14:24',\n",
       " '12:39',\n",
       " '12:41',\n",
       " '15:20',\n",
       " '16:33',\n",
       " '20:44',\n",
       " '20:30',\n",
       " '16:50',\n",
       " '17:52',\n",
       " '11:33',\n",
       " '18:38',\n",
       " '15:11',\n",
       " '15:45',\n",
       " '16:35',\n",
       " '13:50',\n",
       " '17:56',\n",
       " '13:49',\n",
       " '14:05',\n",
       " '19:12']"
      ]
     },
     "execution_count": 60,
     "metadata": {},
     "output_type": "execute_result"
    }
   ],
   "source": [
    "dff['Time'].unique().tolist()"
   ]
  },
  {
   "cell_type": "code",
   "execution_count": 61,
   "id": "a0a91b8d",
   "metadata": {},
   "outputs": [
    {
     "name": "stdout",
     "output_type": "stream",
     "text": [
      "Total Number of unique values in the Branch Column : 506\n"
     ]
    }
   ],
   "source": [
    "print(\"Total Number of unique values in the Branch Column : {}\" . format(len(dff['Time'].unique().tolist())))"
   ]
  },
  {
   "cell_type": "code",
   "execution_count": 62,
   "id": "32344f90",
   "metadata": {},
   "outputs": [
    {
     "data": {
      "text/plain": [
       "14:42    7\n",
       "19:48    7\n",
       "17:38    6\n",
       "19:20    5\n",
       "19:39    5\n",
       "        ..\n",
       "16:20    1\n",
       "16:31    1\n",
       "11:19    1\n",
       "16:55    1\n",
       "19:12    1\n",
       "Name: Time, Length: 506, dtype: int64"
      ]
     },
     "execution_count": 62,
     "metadata": {},
     "output_type": "execute_result"
    }
   ],
   "source": [
    "dff['Time'].value_counts()"
   ]
  },
  {
   "cell_type": "code",
   "execution_count": 63,
   "id": "753d8977",
   "metadata": {},
   "outputs": [
    {
     "data": {
      "text/plain": [
       "['Card', 'Epay', 'Cash']"
      ]
     },
     "execution_count": 63,
     "metadata": {},
     "output_type": "execute_result"
    }
   ],
   "source": [
    "dff['Payment'].unique().tolist()"
   ]
  },
  {
   "cell_type": "code",
   "execution_count": 64,
   "id": "c59c8eba",
   "metadata": {},
   "outputs": [
    {
     "name": "stdout",
     "output_type": "stream",
     "text": [
      "Total Number of unique values in the Branch Column : 3\n"
     ]
    }
   ],
   "source": [
    "print(\"Total Number of unique values in the Branch Column : {}\" . format(len(dff['Payment'].unique().tolist())))"
   ]
  },
  {
   "cell_type": "code",
   "execution_count": 65,
   "id": "0add0d1b",
   "metadata": {},
   "outputs": [
    {
     "data": {
      "text/plain": [
       "Epay    345\n",
       "Cash    344\n",
       "Card    311\n",
       "Name: Payment, dtype: int64"
      ]
     },
     "execution_count": 65,
     "metadata": {},
     "output_type": "execute_result"
    }
   ],
   "source": [
    "dff['Payment'].value_counts()"
   ]
  },
  {
   "cell_type": "markdown",
   "id": "ca6a52af",
   "metadata": {},
   "source": [
    "# Aggregation with GroupBy"
   ]
  },
  {
   "cell_type": "code",
   "execution_count": 66,
   "id": "51e38d07",
   "metadata": {},
   "outputs": [],
   "source": [
    "City = dff.groupby('City')"
   ]
  },
  {
   "cell_type": "code",
   "execution_count": 67,
   "id": "91903be3",
   "metadata": {},
   "outputs": [
    {
     "data": {
      "text/plain": [
       "City\n",
       "Abuja            36410630.4\n",
       "Lagos            36411555.6\n",
       "Port Harcourt    37909270.8\n",
       "Name: cogs, dtype: float64"
      ]
     },
     "execution_count": 67,
     "metadata": {},
     "output_type": "execute_result"
    }
   ],
   "source": [
    "dff.groupby('City')['cogs'].sum()"
   ]
  },
  {
   "cell_type": "code",
   "execution_count": 68,
   "id": "1e8b36dd",
   "metadata": {},
   "outputs": [
    {
     "data": {
      "text/html": [
       "<div>\n",
       "<style scoped>\n",
       "    .dataframe tbody tr th:only-of-type {\n",
       "        vertical-align: middle;\n",
       "    }\n",
       "\n",
       "    .dataframe tbody tr th {\n",
       "        vertical-align: top;\n",
       "    }\n",
       "\n",
       "    .dataframe thead th {\n",
       "        text-align: right;\n",
       "    }\n",
       "</style>\n",
       "<table border=\"1\" class=\"dataframe\">\n",
       "  <thead>\n",
       "    <tr style=\"text-align: right;\">\n",
       "      <th></th>\n",
       "      <th>City</th>\n",
       "      <th>Unit price</th>\n",
       "      <th>Quantity</th>\n",
       "      <th>Tax 5%</th>\n",
       "      <th>Total</th>\n",
       "      <th>cogs</th>\n",
       "      <th>gross margin percentage</th>\n",
       "      <th>gross income</th>\n",
       "      <th>Rating</th>\n",
       "      <th>Day</th>\n",
       "      <th>Month</th>\n",
       "      <th>Year</th>\n",
       "      <th>Hour</th>\n",
       "    </tr>\n",
       "  </thead>\n",
       "  <tbody>\n",
       "    <tr>\n",
       "      <th>0</th>\n",
       "      <td>Port Harcourt</td>\n",
       "      <td>6684393.6</td>\n",
       "      <td>1831</td>\n",
       "      <td>1895463.54</td>\n",
       "      <td>39804734.34</td>\n",
       "      <td>37909270.8</td>\n",
       "      <td>1561.904762</td>\n",
       "      <td>1895463.54</td>\n",
       "      <td>2319.9</td>\n",
       "      <td>4956</td>\n",
       "      <td>640</td>\n",
       "      <td>662232</td>\n",
       "      <td>4894</td>\n",
       "    </tr>\n",
       "    <tr>\n",
       "      <th>1</th>\n",
       "      <td>Lagos</td>\n",
       "      <td>6705176.4</td>\n",
       "      <td>1859</td>\n",
       "      <td>1820577.78</td>\n",
       "      <td>38232133.38</td>\n",
       "      <td>36411555.6</td>\n",
       "      <td>1619.047619</td>\n",
       "      <td>1820577.78</td>\n",
       "      <td>2389.2</td>\n",
       "      <td>5232</td>\n",
       "      <td>688</td>\n",
       "      <td>686460</td>\n",
       "      <td>4987</td>\n",
       "    </tr>\n",
       "    <tr>\n",
       "      <th>2</th>\n",
       "      <td>Abuja</td>\n",
       "      <td>6652396.8</td>\n",
       "      <td>1820</td>\n",
       "      <td>1820531.52</td>\n",
       "      <td>38231161.92</td>\n",
       "      <td>36410630.4</td>\n",
       "      <td>1580.952381</td>\n",
       "      <td>1820531.52</td>\n",
       "      <td>2263.6</td>\n",
       "      <td>5068</td>\n",
       "      <td>665</td>\n",
       "      <td>670308</td>\n",
       "      <td>5029</td>\n",
       "    </tr>\n",
       "  </tbody>\n",
       "</table>\n",
       "</div>"
      ],
      "text/plain": [
       "            City  Unit price  Quantity      Tax 5%        Total        cogs  \\\n",
       "0  Port Harcourt   6684393.6      1831  1895463.54  39804734.34  37909270.8   \n",
       "1          Lagos   6705176.4      1859  1820577.78  38232133.38  36411555.6   \n",
       "2          Abuja   6652396.8      1820  1820531.52  38231161.92  36410630.4   \n",
       "\n",
       "   gross margin percentage  gross income  Rating   Day  Month    Year  Hour  \n",
       "0              1561.904762    1895463.54  2319.9  4956    640  662232  4894  \n",
       "1              1619.047619    1820577.78  2389.2  5232    688  686460  4987  \n",
       "2              1580.952381    1820531.52  2263.6  5068    665  670308  5029  "
      ]
     },
     "execution_count": 68,
     "metadata": {},
     "output_type": "execute_result"
    }
   ],
   "source": [
    "(dff.groupby('City').sum()).sort_values(by = 'cogs', ascending = False).reset_index()"
   ]
  },
  {
   "cell_type": "code",
   "execution_count": 69,
   "id": "402992a9",
   "metadata": {},
   "outputs": [],
   "source": [
    "City_cogs = dff.groupby('City')['cogs'].sum()"
   ]
  },
  {
   "cell_type": "code",
   "execution_count": 148,
   "id": "26791360",
   "metadata": {},
   "outputs": [
    {
     "data": {
      "text/plain": [
       "[]"
      ]
     },
     "execution_count": 148,
     "metadata": {},
     "output_type": "execute_result"
    },
    {
     "data": {
      "image/png": "[encoded data removed]",
      "text/plain": [
       "<Figure size 432x288 with 1 Axes>"
      ]
     },
     "metadata": {},
     "output_type": "display_data"
    }
   ],
   "source": [
    "fig = plt.figure(figsize = (6, 4))\n",
    "ax = fig.add_subplot(1, 1, 1)\n",
    "City_cogs.plot(kind = 'bar')\n",
    "plt.title('Sum of Cost of Good Sold for Each City', color = 'black', fontweight = 'bold', fontsize = 'xx-large', pad = 20)\n",
    "plt.xlabel('City', color = 'black', size = 25)\n",
    "plt.ylabel('Sum of cogs', color = 'black', size = 25, labelpad = 15)\n",
    "plt.xticks(color = 'black', size = 20)\n",
    "plt.yticks(color = 'black', size = 20)\n",
    "plt.xticks(color = 'black', size = 20)\n",
    "plt.yticks(color = 'black', size = 20)\n",
    "ax.spines['left'].set_color('black')\n",
    "ax.spines['bottom'].set_color('black')\n",
    "ax.spines['right'].set_color('black')\n",
    "ax.spines['top'].set_color('black')\n",
    "ax.spines['left'].set_linewidth(5)\n",
    "ax.spines['right'].set_linewidth(5)\n",
    "ax.spines['top'].set_linewidth(5)\n",
    "ax.spines['bottom'].set_linewidth(5)\n",
    "plt.savefig('Sum of Cost of Good Sold for Each City.png', transparent = True, bbox_inches = 'tight')\n",
    "plt.plot()"
   ]
  },
  {
   "cell_type": "code",
   "execution_count": 71,
   "id": "49d6ee0f",
   "metadata": {},
   "outputs": [],
   "source": [
    "# Port Harcourt is The City with The Highest sum of Cost of Good Sold(cogs) of 37909270.8"
   ]
  },
  {
   "cell_type": "code",
   "execution_count": 72,
   "id": "aa1756ca",
   "metadata": {},
   "outputs": [
    {
     "data": {
      "text/plain": [
       "City\n",
       "Abuja            109670.573494\n",
       "Lagos            107092.810588\n",
       "Port Harcourt    115577.045122\n",
       "Name: cogs, dtype: float64"
      ]
     },
     "execution_count": 72,
     "metadata": {},
     "output_type": "execute_result"
    }
   ],
   "source": [
    "dff.groupby('City')['cogs'].mean()"
   ]
  },
  {
   "cell_type": "code",
   "execution_count": 73,
   "id": "cefd1bb4",
   "metadata": {},
   "outputs": [
    {
     "data": {
      "text/html": [
       "<div>\n",
       "<style scoped>\n",
       "    .dataframe tbody tr th:only-of-type {\n",
       "        vertical-align: middle;\n",
       "    }\n",
       "\n",
       "    .dataframe tbody tr th {\n",
       "        vertical-align: top;\n",
       "    }\n",
       "\n",
       "    .dataframe thead th {\n",
       "        text-align: right;\n",
       "    }\n",
       "</style>\n",
       "<table border=\"1\" class=\"dataframe\">\n",
       "  <thead>\n",
       "    <tr style=\"text-align: right;\">\n",
       "      <th></th>\n",
       "      <th>City</th>\n",
       "      <th>Unit price</th>\n",
       "      <th>Quantity</th>\n",
       "      <th>Tax 5%</th>\n",
       "      <th>Total</th>\n",
       "      <th>cogs</th>\n",
       "      <th>gross margin percentage</th>\n",
       "      <th>gross income</th>\n",
       "      <th>Rating</th>\n",
       "      <th>Day</th>\n",
       "      <th>Month</th>\n",
       "      <th>Year</th>\n",
       "      <th>Hour</th>\n",
       "    </tr>\n",
       "  </thead>\n",
       "  <tbody>\n",
       "    <tr>\n",
       "      <th>0</th>\n",
       "      <td>Port Harcourt</td>\n",
       "      <td>20379.248780</td>\n",
       "      <td>5.582317</td>\n",
       "      <td>5778.852256</td>\n",
       "      <td>121355.897378</td>\n",
       "      <td>115577.045122</td>\n",
       "      <td>4.761905</td>\n",
       "      <td>5778.852256</td>\n",
       "      <td>7.072866</td>\n",
       "      <td>15.109756</td>\n",
       "      <td>1.951220</td>\n",
       "      <td>2019.0</td>\n",
       "      <td>14.920732</td>\n",
       "    </tr>\n",
       "    <tr>\n",
       "      <th>1</th>\n",
       "      <td>Abuja</td>\n",
       "      <td>20037.339759</td>\n",
       "      <td>5.481928</td>\n",
       "      <td>5483.528675</td>\n",
       "      <td>115154.102169</td>\n",
       "      <td>109670.573494</td>\n",
       "      <td>4.761905</td>\n",
       "      <td>5483.528675</td>\n",
       "      <td>6.818072</td>\n",
       "      <td>15.265060</td>\n",
       "      <td>2.003012</td>\n",
       "      <td>2019.0</td>\n",
       "      <td>15.147590</td>\n",
       "    </tr>\n",
       "    <tr>\n",
       "      <th>2</th>\n",
       "      <td>Lagos</td>\n",
       "      <td>19721.107059</td>\n",
       "      <td>5.467647</td>\n",
       "      <td>5354.640529</td>\n",
       "      <td>112447.451118</td>\n",
       "      <td>107092.810588</td>\n",
       "      <td>4.761905</td>\n",
       "      <td>5354.640529</td>\n",
       "      <td>7.027059</td>\n",
       "      <td>15.388235</td>\n",
       "      <td>2.023529</td>\n",
       "      <td>2019.0</td>\n",
       "      <td>14.667647</td>\n",
       "    </tr>\n",
       "  </tbody>\n",
       "</table>\n",
       "</div>"
      ],
      "text/plain": [
       "            City    Unit price  Quantity       Tax 5%          Total  \\\n",
       "0  Port Harcourt  20379.248780  5.582317  5778.852256  121355.897378   \n",
       "1          Abuja  20037.339759  5.481928  5483.528675  115154.102169   \n",
       "2          Lagos  19721.107059  5.467647  5354.640529  112447.451118   \n",
       "\n",
       "            cogs  gross margin percentage  gross income    Rating        Day  \\\n",
       "0  115577.045122                 4.761905   5778.852256  7.072866  15.109756   \n",
       "1  109670.573494                 4.761905   5483.528675  6.818072  15.265060   \n",
       "2  107092.810588                 4.761905   5354.640529  7.027059  15.388235   \n",
       "\n",
       "      Month    Year       Hour  \n",
       "0  1.951220  2019.0  14.920732  \n",
       "1  2.003012  2019.0  15.147590  \n",
       "2  2.023529  2019.0  14.667647  "
      ]
     },
     "execution_count": 73,
     "metadata": {},
     "output_type": "execute_result"
    }
   ],
   "source": [
    "(dff.groupby('City').mean()).sort_values(by = 'cogs', ascending = False).reset_index()"
   ]
  },
  {
   "cell_type": "code",
   "execution_count": 74,
   "id": "b6d85e64",
   "metadata": {},
   "outputs": [],
   "source": [
    "City_cogs_mean = dff.groupby('City')['cogs'].mean()"
   ]
  },
  {
   "cell_type": "code",
   "execution_count": 149,
   "id": "25ca3834",
   "metadata": {},
   "outputs": [
    {
     "data": {
      "text/plain": [
       "[]"
      ]
     },
     "execution_count": 149,
     "metadata": {},
     "output_type": "execute_result"
    },
    {
     "data": {
      "image/png": "[encoded data removed]",
      "text/plain": [
       "<Figure size 432x288 with 1 Axes>"
      ]
     },
     "metadata": {},
     "output_type": "display_data"
    }
   ],
   "source": [
    "fig = plt.figure(figsize = (6, 4))\n",
    "ax = fig.add_subplot(1, 1, 1)\n",
    "City_cogs_mean.plot(kind = 'bar', color = 'orange')\n",
    "plt.title('Mean of Cost of Good Sold for Each City', color = 'black', fontweight = 'bold', fontsize = 'xx-large', pad = 20)\n",
    "plt.xlabel('City', color = 'black', size = 25)\n",
    "plt.ylabel('Mean of cogs', color = 'black', size = 25)\n",
    "plt.xticks(color = 'purple', size = 20)\n",
    "plt.yticks(color = 'blue', size = 20)\n",
    "plt.xticks(color = 'black', size = 20)\n",
    "plt.yticks(color = 'black', size = 20)\n",
    "ax.spines['left'].set_color('black')\n",
    "ax.spines['bottom'].set_color('black')\n",
    "ax.spines['right'].set_color('black')\n",
    "ax.spines['top'].set_color('black')\n",
    "ax.spines['left'].set_linewidth(5)\n",
    "ax.spines['right'].set_linewidth(5)\n",
    "ax.spines['top'].set_linewidth(5)\n",
    "ax.spines['bottom'].set_linewidth(5)\n",
    "plt.savefig('Mean of Cost of Good Sold for Each City.png', transparent = True, bbox_inches = 'tight')\n",
    "plt.plot()"
   ]
  },
  {
   "cell_type": "code",
   "execution_count": 76,
   "id": "4d259978",
   "metadata": {},
   "outputs": [],
   "source": [
    "# Port Harcourt has The Highest mean of Cost of Good Sold(cogs) of 115577.045122"
   ]
  },
  {
   "cell_type": "code",
   "execution_count": 77,
   "id": "3aa1174c",
   "metadata": {},
   "outputs": [
    {
     "data": {
      "text/plain": [
       "City\n",
       "Abuja            1820531.52\n",
       "Lagos            1820577.78\n",
       "Port Harcourt    1895463.54\n",
       "Name: gross income, dtype: float64"
      ]
     },
     "execution_count": 77,
     "metadata": {},
     "output_type": "execute_result"
    }
   ],
   "source": [
    "dff.groupby('City')['gross income'].sum()"
   ]
  },
  {
   "cell_type": "code",
   "execution_count": 78,
   "id": "e6ba12bf",
   "metadata": {},
   "outputs": [
    {
     "data": {
      "text/html": [
       "<div>\n",
       "<style scoped>\n",
       "    .dataframe tbody tr th:only-of-type {\n",
       "        vertical-align: middle;\n",
       "    }\n",
       "\n",
       "    .dataframe tbody tr th {\n",
       "        vertical-align: top;\n",
       "    }\n",
       "\n",
       "    .dataframe thead th {\n",
       "        text-align: right;\n",
       "    }\n",
       "</style>\n",
       "<table border=\"1\" class=\"dataframe\">\n",
       "  <thead>\n",
       "    <tr style=\"text-align: right;\">\n",
       "      <th></th>\n",
       "      <th>City</th>\n",
       "      <th>Unit price</th>\n",
       "      <th>Quantity</th>\n",
       "      <th>Tax 5%</th>\n",
       "      <th>Total</th>\n",
       "      <th>cogs</th>\n",
       "      <th>gross margin percentage</th>\n",
       "      <th>gross income</th>\n",
       "      <th>Rating</th>\n",
       "      <th>Day</th>\n",
       "      <th>Month</th>\n",
       "      <th>Year</th>\n",
       "      <th>Hour</th>\n",
       "    </tr>\n",
       "  </thead>\n",
       "  <tbody>\n",
       "    <tr>\n",
       "      <th>0</th>\n",
       "      <td>Port Harcourt</td>\n",
       "      <td>6684393.6</td>\n",
       "      <td>1831</td>\n",
       "      <td>1895463.54</td>\n",
       "      <td>39804734.34</td>\n",
       "      <td>37909270.8</td>\n",
       "      <td>1561.904762</td>\n",
       "      <td>1895463.54</td>\n",
       "      <td>2319.9</td>\n",
       "      <td>4956</td>\n",
       "      <td>640</td>\n",
       "      <td>662232</td>\n",
       "      <td>4894</td>\n",
       "    </tr>\n",
       "    <tr>\n",
       "      <th>1</th>\n",
       "      <td>Lagos</td>\n",
       "      <td>6705176.4</td>\n",
       "      <td>1859</td>\n",
       "      <td>1820577.78</td>\n",
       "      <td>38232133.38</td>\n",
       "      <td>36411555.6</td>\n",
       "      <td>1619.047619</td>\n",
       "      <td>1820577.78</td>\n",
       "      <td>2389.2</td>\n",
       "      <td>5232</td>\n",
       "      <td>688</td>\n",
       "      <td>686460</td>\n",
       "      <td>4987</td>\n",
       "    </tr>\n",
       "    <tr>\n",
       "      <th>2</th>\n",
       "      <td>Abuja</td>\n",
       "      <td>6652396.8</td>\n",
       "      <td>1820</td>\n",
       "      <td>1820531.52</td>\n",
       "      <td>38231161.92</td>\n",
       "      <td>36410630.4</td>\n",
       "      <td>1580.952381</td>\n",
       "      <td>1820531.52</td>\n",
       "      <td>2263.6</td>\n",
       "      <td>5068</td>\n",
       "      <td>665</td>\n",
       "      <td>670308</td>\n",
       "      <td>5029</td>\n",
       "    </tr>\n",
       "  </tbody>\n",
       "</table>\n",
       "</div>"
      ],
      "text/plain": [
       "            City  Unit price  Quantity      Tax 5%        Total        cogs  \\\n",
       "0  Port Harcourt   6684393.6      1831  1895463.54  39804734.34  37909270.8   \n",
       "1          Lagos   6705176.4      1859  1820577.78  38232133.38  36411555.6   \n",
       "2          Abuja   6652396.8      1820  1820531.52  38231161.92  36410630.4   \n",
       "\n",
       "   gross margin percentage  gross income  Rating   Day  Month    Year  Hour  \n",
       "0              1561.904762    1895463.54  2319.9  4956    640  662232  4894  \n",
       "1              1619.047619    1820577.78  2389.2  5232    688  686460  4987  \n",
       "2              1580.952381    1820531.52  2263.6  5068    665  670308  5029  "
      ]
     },
     "execution_count": 78,
     "metadata": {},
     "output_type": "execute_result"
    }
   ],
   "source": [
    "(dff.groupby('City').sum()).sort_values(by = 'gross income', ascending = False).reset_index()"
   ]
  },
  {
   "cell_type": "code",
   "execution_count": 79,
   "id": "8c5480ab",
   "metadata": {},
   "outputs": [],
   "source": [
    "City_gross_income = dff.groupby('City')['gross income'].sum()"
   ]
  },
  {
   "cell_type": "code",
   "execution_count": 150,
   "id": "bfca5cd0",
   "metadata": {},
   "outputs": [
    {
     "data": {
      "text/plain": [
       "[]"
      ]
     },
     "execution_count": 150,
     "metadata": {},
     "output_type": "execute_result"
    },
    {
     "data": {
      "image/png": "[encoded data removed]",
      "text/plain": [
       "<Figure size 432x288 with 1 Axes>"
      ]
     },
     "metadata": {},
     "output_type": "display_data"
    }
   ],
   "source": [
    "fig = plt.figure(figsize = (6, 4))\n",
    "ax = fig.add_subplot(1, 1, 1)\n",
    "City_gross_income.plot(kind = 'bar', color = 'brown')\n",
    "plt.title('Sum of Gross Income for Each City', color = 'black', fontweight = 'bold', fontsize = 'xx-large', pad = 15)\n",
    "plt.xlabel('City', color = 'black', size = 30)\n",
    "plt.ylabel('Gross Income', color = 'black', size = 30, labelpad = 20)\n",
    "plt.xticks(color = 'black', size = 20)\n",
    "plt.yticks(color = 'black', size = 20)\n",
    "ax.spines['left'].set_color('black')\n",
    "ax.spines['bottom'].set_color('black')\n",
    "ax.spines['right'].set_color('black')\n",
    "ax.spines['top'].set_color('black')\n",
    "ax.spines['left'].set_linewidth(5)\n",
    "ax.spines['right'].set_linewidth(5)\n",
    "ax.spines['top'].set_linewidth(5)\n",
    "ax.spines['bottom'].set_linewidth(5)\n",
    "plt.savefig('Sum of Gross Income for Each City.png', transparent = True, bbox_inches = 'tight')\n",
    "plt.plot()"
   ]
  },
  {
   "cell_type": "code",
   "execution_count": 81,
   "id": "1c74a781",
   "metadata": {},
   "outputs": [],
   "source": [
    "# Port Harcourt has The Highest gross income of 1895463.54"
   ]
  },
  {
   "cell_type": "code",
   "execution_count": 82,
   "id": "2db12511",
   "metadata": {},
   "outputs": [
    {
     "data": {
      "text/plain": [
       "City\n",
       "Abuja            6652396.8\n",
       "Lagos            6705176.4\n",
       "Port Harcourt    6684393.6\n",
       "Name: Unit price, dtype: float64"
      ]
     },
     "execution_count": 82,
     "metadata": {},
     "output_type": "execute_result"
    }
   ],
   "source": [
    "dff.groupby('City')['Unit price'].sum()"
   ]
  },
  {
   "cell_type": "code",
   "execution_count": 83,
   "id": "915745f4",
   "metadata": {},
   "outputs": [
    {
     "data": {
      "text/html": [
       "<div>\n",
       "<style scoped>\n",
       "    .dataframe tbody tr th:only-of-type {\n",
       "        vertical-align: middle;\n",
       "    }\n",
       "\n",
       "    .dataframe tbody tr th {\n",
       "        vertical-align: top;\n",
       "    }\n",
       "\n",
       "    .dataframe thead th {\n",
       "        text-align: right;\n",
       "    }\n",
       "</style>\n",
       "<table border=\"1\" class=\"dataframe\">\n",
       "  <thead>\n",
       "    <tr style=\"text-align: right;\">\n",
       "      <th></th>\n",
       "      <th>City</th>\n",
       "      <th>Unit price</th>\n",
       "      <th>Quantity</th>\n",
       "      <th>Tax 5%</th>\n",
       "      <th>Total</th>\n",
       "      <th>cogs</th>\n",
       "      <th>gross margin percentage</th>\n",
       "      <th>gross income</th>\n",
       "      <th>Rating</th>\n",
       "      <th>Day</th>\n",
       "      <th>Month</th>\n",
       "      <th>Year</th>\n",
       "      <th>Hour</th>\n",
       "    </tr>\n",
       "  </thead>\n",
       "  <tbody>\n",
       "    <tr>\n",
       "      <th>0</th>\n",
       "      <td>Lagos</td>\n",
       "      <td>6705176.4</td>\n",
       "      <td>1859</td>\n",
       "      <td>1820577.78</td>\n",
       "      <td>38232133.38</td>\n",
       "      <td>36411555.6</td>\n",
       "      <td>1619.047619</td>\n",
       "      <td>1820577.78</td>\n",
       "      <td>2389.2</td>\n",
       "      <td>5232</td>\n",
       "      <td>688</td>\n",
       "      <td>686460</td>\n",
       "      <td>4987</td>\n",
       "    </tr>\n",
       "    <tr>\n",
       "      <th>1</th>\n",
       "      <td>Port Harcourt</td>\n",
       "      <td>6684393.6</td>\n",
       "      <td>1831</td>\n",
       "      <td>1895463.54</td>\n",
       "      <td>39804734.34</td>\n",
       "      <td>37909270.8</td>\n",
       "      <td>1561.904762</td>\n",
       "      <td>1895463.54</td>\n",
       "      <td>2319.9</td>\n",
       "      <td>4956</td>\n",
       "      <td>640</td>\n",
       "      <td>662232</td>\n",
       "      <td>4894</td>\n",
       "    </tr>\n",
       "    <tr>\n",
       "      <th>2</th>\n",
       "      <td>Abuja</td>\n",
       "      <td>6652396.8</td>\n",
       "      <td>1820</td>\n",
       "      <td>1820531.52</td>\n",
       "      <td>38231161.92</td>\n",
       "      <td>36410630.4</td>\n",
       "      <td>1580.952381</td>\n",
       "      <td>1820531.52</td>\n",
       "      <td>2263.6</td>\n",
       "      <td>5068</td>\n",
       "      <td>665</td>\n",
       "      <td>670308</td>\n",
       "      <td>5029</td>\n",
       "    </tr>\n",
       "  </tbody>\n",
       "</table>\n",
       "</div>"
      ],
      "text/plain": [
       "            City  Unit price  Quantity      Tax 5%        Total        cogs  \\\n",
       "0          Lagos   6705176.4      1859  1820577.78  38232133.38  36411555.6   \n",
       "1  Port Harcourt   6684393.6      1831  1895463.54  39804734.34  37909270.8   \n",
       "2          Abuja   6652396.8      1820  1820531.52  38231161.92  36410630.4   \n",
       "\n",
       "   gross margin percentage  gross income  Rating   Day  Month    Year  Hour  \n",
       "0              1619.047619    1820577.78  2389.2  5232    688  686460  4987  \n",
       "1              1561.904762    1895463.54  2319.9  4956    640  662232  4894  \n",
       "2              1580.952381    1820531.52  2263.6  5068    665  670308  5029  "
      ]
     },
     "execution_count": 83,
     "metadata": {},
     "output_type": "execute_result"
    }
   ],
   "source": [
    "(dff.groupby('City').sum()).sort_values(by = 'Unit price', ascending = False).reset_index()"
   ]
  },
  {
   "cell_type": "code",
   "execution_count": 84,
   "id": "5cf260fc",
   "metadata": {},
   "outputs": [],
   "source": [
    "City_Unit_price = dff.groupby('City')['Unit price'].sum()"
   ]
  },
  {
   "cell_type": "code",
   "execution_count": 151,
   "id": "3ae7b236",
   "metadata": {},
   "outputs": [
    {
     "data": {
      "text/plain": [
       "[]"
      ]
     },
     "execution_count": 151,
     "metadata": {},
     "output_type": "execute_result"
    },
    {
     "data": {
      "image/png": "[encoded data removed]",
      "text/plain": [
       "<Figure size 432x288 with 1 Axes>"
      ]
     },
     "metadata": {},
     "output_type": "display_data"
    }
   ],
   "source": [
    "fig = plt.figure(figsize = (6, 4))\n",
    "ax = fig.add_subplot(1, 1, 1)\n",
    "City_Unit_price.plot(kind = 'bar', color = 'magenta')\n",
    "plt.title('Unit Price for Each City', color = 'black', fontweight = 'bold', fontsize = 'xx-large', pad = 15)\n",
    "plt.xlabel('City', color = 'black', size = 30)\n",
    "plt.ylabel('Unit Price', color = 'black', size = 30, labelpad = 20)\n",
    "plt.xticks(color = 'black', size = 20)\n",
    "plt.yticks(color = 'black', size = 20)\n",
    "ax.spines['left'].set_color('black')\n",
    "ax.spines['bottom'].set_color('black')\n",
    "ax.spines['right'].set_color('black')\n",
    "ax.spines['top'].set_color('black')\n",
    "ax.spines['left'].set_linewidth(5)\n",
    "ax.spines['right'].set_linewidth(5)\n",
    "ax.spines['top'].set_linewidth(5)\n",
    "ax.spines['bottom'].set_linewidth(5)\n",
    "plt.savefig('Unit Price for Each City.png', transparent = True, bbox_inches = 'tight')\n",
    "plt.plot()"
   ]
  },
  {
   "cell_type": "code",
   "execution_count": 86,
   "id": "2315af93",
   "metadata": {},
   "outputs": [],
   "source": [
    "# The City with Highest Unit Price is Lagos"
   ]
  },
  {
   "cell_type": "code",
   "execution_count": 87,
   "id": "24be3eed",
   "metadata": {},
   "outputs": [
    {
     "data": {
      "text/plain": [
       "City\n",
       "Abuja            1820\n",
       "Lagos            1859\n",
       "Port Harcourt    1831\n",
       "Name: Quantity, dtype: int64"
      ]
     },
     "execution_count": 87,
     "metadata": {},
     "output_type": "execute_result"
    }
   ],
   "source": [
    "dff.groupby('City')['Quantity'].sum()"
   ]
  },
  {
   "cell_type": "code",
   "execution_count": 88,
   "id": "615709c5",
   "metadata": {},
   "outputs": [
    {
     "data": {
      "text/html": [
       "<div>\n",
       "<style scoped>\n",
       "    .dataframe tbody tr th:only-of-type {\n",
       "        vertical-align: middle;\n",
       "    }\n",
       "\n",
       "    .dataframe tbody tr th {\n",
       "        vertical-align: top;\n",
       "    }\n",
       "\n",
       "    .dataframe thead th {\n",
       "        text-align: right;\n",
       "    }\n",
       "</style>\n",
       "<table border=\"1\" class=\"dataframe\">\n",
       "  <thead>\n",
       "    <tr style=\"text-align: right;\">\n",
       "      <th></th>\n",
       "      <th>City</th>\n",
       "      <th>Unit price</th>\n",
       "      <th>Quantity</th>\n",
       "      <th>Tax 5%</th>\n",
       "      <th>Total</th>\n",
       "      <th>cogs</th>\n",
       "      <th>gross margin percentage</th>\n",
       "      <th>gross income</th>\n",
       "      <th>Rating</th>\n",
       "      <th>Day</th>\n",
       "      <th>Month</th>\n",
       "      <th>Year</th>\n",
       "      <th>Hour</th>\n",
       "    </tr>\n",
       "  </thead>\n",
       "  <tbody>\n",
       "    <tr>\n",
       "      <th>0</th>\n",
       "      <td>Lagos</td>\n",
       "      <td>6705176.4</td>\n",
       "      <td>1859</td>\n",
       "      <td>1820577.78</td>\n",
       "      <td>38232133.38</td>\n",
       "      <td>36411555.6</td>\n",
       "      <td>1619.047619</td>\n",
       "      <td>1820577.78</td>\n",
       "      <td>2389.2</td>\n",
       "      <td>5232</td>\n",
       "      <td>688</td>\n",
       "      <td>686460</td>\n",
       "      <td>4987</td>\n",
       "    </tr>\n",
       "    <tr>\n",
       "      <th>1</th>\n",
       "      <td>Port Harcourt</td>\n",
       "      <td>6684393.6</td>\n",
       "      <td>1831</td>\n",
       "      <td>1895463.54</td>\n",
       "      <td>39804734.34</td>\n",
       "      <td>37909270.8</td>\n",
       "      <td>1561.904762</td>\n",
       "      <td>1895463.54</td>\n",
       "      <td>2319.9</td>\n",
       "      <td>4956</td>\n",
       "      <td>640</td>\n",
       "      <td>662232</td>\n",
       "      <td>4894</td>\n",
       "    </tr>\n",
       "    <tr>\n",
       "      <th>2</th>\n",
       "      <td>Abuja</td>\n",
       "      <td>6652396.8</td>\n",
       "      <td>1820</td>\n",
       "      <td>1820531.52</td>\n",
       "      <td>38231161.92</td>\n",
       "      <td>36410630.4</td>\n",
       "      <td>1580.952381</td>\n",
       "      <td>1820531.52</td>\n",
       "      <td>2263.6</td>\n",
       "      <td>5068</td>\n",
       "      <td>665</td>\n",
       "      <td>670308</td>\n",
       "      <td>5029</td>\n",
       "    </tr>\n",
       "  </tbody>\n",
       "</table>\n",
       "</div>"
      ],
      "text/plain": [
       "            City  Unit price  Quantity      Tax 5%        Total        cogs  \\\n",
       "0          Lagos   6705176.4      1859  1820577.78  38232133.38  36411555.6   \n",
       "1  Port Harcourt   6684393.6      1831  1895463.54  39804734.34  37909270.8   \n",
       "2          Abuja   6652396.8      1820  1820531.52  38231161.92  36410630.4   \n",
       "\n",
       "   gross margin percentage  gross income  Rating   Day  Month    Year  Hour  \n",
       "0              1619.047619    1820577.78  2389.2  5232    688  686460  4987  \n",
       "1              1561.904762    1895463.54  2319.9  4956    640  662232  4894  \n",
       "2              1580.952381    1820531.52  2263.6  5068    665  670308  5029  "
      ]
     },
     "execution_count": 88,
     "metadata": {},
     "output_type": "execute_result"
    }
   ],
   "source": [
    "(dff.groupby('City').sum()).sort_values(by = 'Quantity', ascending = False).reset_index()"
   ]
  },
  {
   "cell_type": "code",
   "execution_count": 89,
   "id": "c7416918",
   "metadata": {},
   "outputs": [],
   "source": [
    "City_Quantity = dff.groupby('City')['Quantity'].sum()"
   ]
  },
  {
   "cell_type": "code",
   "execution_count": 152,
   "id": "a861f5f2",
   "metadata": {},
   "outputs": [
    {
     "data": {
      "text/plain": [
       "[]"
      ]
     },
     "execution_count": 152,
     "metadata": {},
     "output_type": "execute_result"
    },
    {
     "data": {
      "image/png": "[encoded data removed]",
      "text/plain": [
       "<Figure size 432x288 with 1 Axes>"
      ]
     },
     "metadata": {},
     "output_type": "display_data"
    }
   ],
   "source": [
    "fig = plt.figure(figsize = (6, 4))\n",
    "ax = fig.add_subplot(1, 1, 1)\n",
    "City_Quantity.plot(kind = 'bar', color = 'blue')\n",
    "plt.title('Quantity for Each City', color = 'black', fontweight = 'bold', fontsize = 'xx-large', pad = 15)\n",
    "plt.xlabel('City', color = 'black', size = 30)\n",
    "plt.ylabel('Quantity', color = 'black', size = 30, labelpad = 20)\n",
    "plt.xticks(color = 'black', size = 20)\n",
    "plt.yticks(color = 'black', size = 20)\n",
    "ax.spines['left'].set_color('black')\n",
    "ax.spines['bottom'].set_color('black')\n",
    "ax.spines['right'].set_color('black')\n",
    "ax.spines['top'].set_color('black')\n",
    "ax.spines['left'].set_linewidth(5)\n",
    "ax.spines['right'].set_linewidth(5)\n",
    "ax.spines['top'].set_linewidth(5)\n",
    "ax.spines['bottom'].set_linewidth(5)\n",
    "plt.savefig('Quantity for Each City.png', transparent = True, bbox_inches = 'tight')\n",
    "plt.plot()"
   ]
  },
  {
   "cell_type": "code",
   "execution_count": 91,
   "id": "bf75c323",
   "metadata": {},
   "outputs": [],
   "source": [
    "# The City with Highest Quantity is Lagos"
   ]
  },
  {
   "cell_type": "markdown",
   "id": "1947481a",
   "metadata": {},
   "source": [
    "# Sales Column needs to be created"
   ]
  },
  {
   "cell_type": "code",
   "execution_count": 92,
   "id": "47886d78",
   "metadata": {},
   "outputs": [],
   "source": [
    "dff['Sales'] = dff['Quantity']*dff['Unit price']"
   ]
  },
  {
   "cell_type": "code",
   "execution_count": 93,
   "id": "acaf93ed",
   "metadata": {},
   "outputs": [
    {
     "data": {
      "text/plain": [
       "0       59227.2\n",
       "1       20851.2\n",
       "2       36734.4\n",
       "3      202435.2\n",
       "4       29016.0\n",
       "         ...   \n",
       "995    251899.2\n",
       "996    242852.4\n",
       "997    296424.0\n",
       "998     21942.0\n",
       "999     14526.0\n",
       "Name: Sales, Length: 1000, dtype: float64"
      ]
     },
     "execution_count": 93,
     "metadata": {},
     "output_type": "execute_result"
    }
   ],
   "source": [
    "dff['Sales']"
   ]
  },
  {
   "cell_type": "code",
   "execution_count": 94,
   "id": "112c7a27",
   "metadata": {},
   "outputs": [
    {
     "data": {
      "text/html": [
       "<div>\n",
       "<style scoped>\n",
       "    .dataframe tbody tr th:only-of-type {\n",
       "        vertical-align: middle;\n",
       "    }\n",
       "\n",
       "    .dataframe tbody tr th {\n",
       "        vertical-align: top;\n",
       "    }\n",
       "\n",
       "    .dataframe thead th {\n",
       "        text-align: right;\n",
       "    }\n",
       "</style>\n",
       "<table border=\"1\" class=\"dataframe\">\n",
       "  <thead>\n",
       "    <tr style=\"text-align: right;\">\n",
       "      <th></th>\n",
       "      <th>Invoice ID</th>\n",
       "      <th>Branch</th>\n",
       "      <th>City</th>\n",
       "      <th>Customer type</th>\n",
       "      <th>Gender</th>\n",
       "      <th>Product line</th>\n",
       "      <th>Unit price</th>\n",
       "      <th>Quantity</th>\n",
       "      <th>Tax 5%</th>\n",
       "      <th>Total</th>\n",
       "      <th>...</th>\n",
       "      <th>cogs</th>\n",
       "      <th>gross margin percentage</th>\n",
       "      <th>gross income</th>\n",
       "      <th>Rating</th>\n",
       "      <th>New_date</th>\n",
       "      <th>Day</th>\n",
       "      <th>Month</th>\n",
       "      <th>Year</th>\n",
       "      <th>Hour</th>\n",
       "      <th>Sales</th>\n",
       "    </tr>\n",
       "  </thead>\n",
       "  <tbody>\n",
       "    <tr>\n",
       "      <th>0</th>\n",
       "      <td>692-92-5582</td>\n",
       "      <td>B</td>\n",
       "      <td>Abuja</td>\n",
       "      <td>Member</td>\n",
       "      <td>Female</td>\n",
       "      <td>Food and beverages</td>\n",
       "      <td>19742.4</td>\n",
       "      <td>3</td>\n",
       "      <td>2961.36</td>\n",
       "      <td>62188.56</td>\n",
       "      <td>...</td>\n",
       "      <td>59227.2</td>\n",
       "      <td>4.761905</td>\n",
       "      <td>2961.36</td>\n",
       "      <td>5.9</td>\n",
       "      <td>2019-02-20 13:27:00</td>\n",
       "      <td>20</td>\n",
       "      <td>2</td>\n",
       "      <td>2019</td>\n",
       "      <td>13</td>\n",
       "      <td>59227.2</td>\n",
       "    </tr>\n",
       "    <tr>\n",
       "      <th>1</th>\n",
       "      <td>351-62-0822</td>\n",
       "      <td>B</td>\n",
       "      <td>Abuja</td>\n",
       "      <td>Member</td>\n",
       "      <td>Female</td>\n",
       "      <td>Fashion accessories</td>\n",
       "      <td>5212.8</td>\n",
       "      <td>4</td>\n",
       "      <td>1042.56</td>\n",
       "      <td>21893.76</td>\n",
       "      <td>...</td>\n",
       "      <td>20851.2</td>\n",
       "      <td>4.761905</td>\n",
       "      <td>1042.56</td>\n",
       "      <td>4.5</td>\n",
       "      <td>2019-02-06 18:07:00</td>\n",
       "      <td>6</td>\n",
       "      <td>2</td>\n",
       "      <td>2019</td>\n",
       "      <td>18</td>\n",
       "      <td>20851.2</td>\n",
       "    </tr>\n",
       "    <tr>\n",
       "      <th>2</th>\n",
       "      <td>529-56-3974</td>\n",
       "      <td>B</td>\n",
       "      <td>Abuja</td>\n",
       "      <td>Member</td>\n",
       "      <td>Male</td>\n",
       "      <td>Electronic accessories</td>\n",
       "      <td>9183.6</td>\n",
       "      <td>4</td>\n",
       "      <td>1836.72</td>\n",
       "      <td>38571.12</td>\n",
       "      <td>...</td>\n",
       "      <td>36734.4</td>\n",
       "      <td>4.761905</td>\n",
       "      <td>1836.72</td>\n",
       "      <td>6.8</td>\n",
       "      <td>2019-03-09 17:03:00</td>\n",
       "      <td>9</td>\n",
       "      <td>3</td>\n",
       "      <td>2019</td>\n",
       "      <td>17</td>\n",
       "      <td>36734.4</td>\n",
       "    </tr>\n",
       "    <tr>\n",
       "      <th>3</th>\n",
       "      <td>299-46-1805</td>\n",
       "      <td>B</td>\n",
       "      <td>Abuja</td>\n",
       "      <td>Member</td>\n",
       "      <td>Female</td>\n",
       "      <td>Sports and travel</td>\n",
       "      <td>33739.2</td>\n",
       "      <td>6</td>\n",
       "      <td>10121.76</td>\n",
       "      <td>212556.96</td>\n",
       "      <td>...</td>\n",
       "      <td>202435.2</td>\n",
       "      <td>4.761905</td>\n",
       "      <td>10121.76</td>\n",
       "      <td>4.5</td>\n",
       "      <td>2019-01-15 16:19:00</td>\n",
       "      <td>15</td>\n",
       "      <td>1</td>\n",
       "      <td>2019</td>\n",
       "      <td>16</td>\n",
       "      <td>202435.2</td>\n",
       "    </tr>\n",
       "    <tr>\n",
       "      <th>4</th>\n",
       "      <td>319-50-3348</td>\n",
       "      <td>B</td>\n",
       "      <td>Abuja</td>\n",
       "      <td>Normal</td>\n",
       "      <td>Female</td>\n",
       "      <td>Home and lifestyle</td>\n",
       "      <td>14508.0</td>\n",
       "      <td>2</td>\n",
       "      <td>1450.80</td>\n",
       "      <td>30466.80</td>\n",
       "      <td>...</td>\n",
       "      <td>29016.0</td>\n",
       "      <td>4.761905</td>\n",
       "      <td>1450.80</td>\n",
       "      <td>4.4</td>\n",
       "      <td>2019-03-11 15:30:00</td>\n",
       "      <td>11</td>\n",
       "      <td>3</td>\n",
       "      <td>2019</td>\n",
       "      <td>15</td>\n",
       "      <td>29016.0</td>\n",
       "    </tr>\n",
       "  </tbody>\n",
       "</table>\n",
       "<p>5 rows × 23 columns</p>\n",
       "</div>"
      ],
      "text/plain": [
       "    Invoice ID Branch   City Customer type  Gender            Product line  \\\n",
       "0  692-92-5582      B  Abuja        Member  Female      Food and beverages   \n",
       "1  351-62-0822      B  Abuja        Member  Female     Fashion accessories   \n",
       "2  529-56-3974      B  Abuja        Member    Male  Electronic accessories   \n",
       "3  299-46-1805      B  Abuja        Member  Female       Sports and travel   \n",
       "4  319-50-3348      B  Abuja        Normal  Female      Home and lifestyle   \n",
       "\n",
       "   Unit price  Quantity    Tax 5%      Total  ...      cogs  \\\n",
       "0     19742.4         3   2961.36   62188.56  ...   59227.2   \n",
       "1      5212.8         4   1042.56   21893.76  ...   20851.2   \n",
       "2      9183.6         4   1836.72   38571.12  ...   36734.4   \n",
       "3     33739.2         6  10121.76  212556.96  ...  202435.2   \n",
       "4     14508.0         2   1450.80   30466.80  ...   29016.0   \n",
       "\n",
       "  gross margin percentage gross income  Rating            New_date  Day  \\\n",
       "0                4.761905      2961.36     5.9 2019-02-20 13:27:00   20   \n",
       "1                4.761905      1042.56     4.5 2019-02-06 18:07:00    6   \n",
       "2                4.761905      1836.72     6.8 2019-03-09 17:03:00    9   \n",
       "3                4.761905     10121.76     4.5 2019-01-15 16:19:00   15   \n",
       "4                4.761905      1450.80     4.4 2019-03-11 15:30:00   11   \n",
       "\n",
       "   Month  Year  Hour     Sales  \n",
       "0      2  2019    13   59227.2  \n",
       "1      2  2019    18   20851.2  \n",
       "2      3  2019    17   36734.4  \n",
       "3      1  2019    16  202435.2  \n",
       "4      3  2019    15   29016.0  \n",
       "\n",
       "[5 rows x 23 columns]"
      ]
     },
     "execution_count": 94,
     "metadata": {},
     "output_type": "execute_result"
    }
   ],
   "source": [
    "dff.head()"
   ]
  },
  {
   "cell_type": "code",
   "execution_count": 95,
   "id": "d7a9ac36",
   "metadata": {},
   "outputs": [],
   "source": [
    "dff.to_csv('dff.csv', index = False)"
   ]
  },
  {
   "cell_type": "code",
   "execution_count": 96,
   "id": "f53e84bb",
   "metadata": {},
   "outputs": [
    {
     "data": {
      "text/plain": [
       "City\n",
       "Abuja            36410630.4\n",
       "Lagos            36411555.6\n",
       "Port Harcourt    37909270.8\n",
       "Name: Sales, dtype: float64"
      ]
     },
     "execution_count": 96,
     "metadata": {},
     "output_type": "execute_result"
    }
   ],
   "source": [
    "dff.groupby('City').sum()['Sales']"
   ]
  },
  {
   "cell_type": "code",
   "execution_count": 97,
   "id": "dff58ec9",
   "metadata": {},
   "outputs": [
    {
     "data": {
      "text/html": [
       "<div>\n",
       "<style scoped>\n",
       "    .dataframe tbody tr th:only-of-type {\n",
       "        vertical-align: middle;\n",
       "    }\n",
       "\n",
       "    .dataframe tbody tr th {\n",
       "        vertical-align: top;\n",
       "    }\n",
       "\n",
       "    .dataframe thead th {\n",
       "        text-align: right;\n",
       "    }\n",
       "</style>\n",
       "<table border=\"1\" class=\"dataframe\">\n",
       "  <thead>\n",
       "    <tr style=\"text-align: right;\">\n",
       "      <th></th>\n",
       "      <th>City</th>\n",
       "      <th>Unit price</th>\n",
       "      <th>Quantity</th>\n",
       "      <th>Tax 5%</th>\n",
       "      <th>Total</th>\n",
       "      <th>cogs</th>\n",
       "      <th>gross margin percentage</th>\n",
       "      <th>gross income</th>\n",
       "      <th>Rating</th>\n",
       "      <th>Day</th>\n",
       "      <th>Month</th>\n",
       "      <th>Year</th>\n",
       "      <th>Hour</th>\n",
       "      <th>Sales</th>\n",
       "    </tr>\n",
       "  </thead>\n",
       "  <tbody>\n",
       "    <tr>\n",
       "      <th>0</th>\n",
       "      <td>Port Harcourt</td>\n",
       "      <td>6684393.6</td>\n",
       "      <td>1831</td>\n",
       "      <td>1895463.54</td>\n",
       "      <td>39804734.34</td>\n",
       "      <td>37909270.8</td>\n",
       "      <td>1561.904762</td>\n",
       "      <td>1895463.54</td>\n",
       "      <td>2319.9</td>\n",
       "      <td>4956</td>\n",
       "      <td>640</td>\n",
       "      <td>662232</td>\n",
       "      <td>4894</td>\n",
       "      <td>37909270.8</td>\n",
       "    </tr>\n",
       "    <tr>\n",
       "      <th>1</th>\n",
       "      <td>Lagos</td>\n",
       "      <td>6705176.4</td>\n",
       "      <td>1859</td>\n",
       "      <td>1820577.78</td>\n",
       "      <td>38232133.38</td>\n",
       "      <td>36411555.6</td>\n",
       "      <td>1619.047619</td>\n",
       "      <td>1820577.78</td>\n",
       "      <td>2389.2</td>\n",
       "      <td>5232</td>\n",
       "      <td>688</td>\n",
       "      <td>686460</td>\n",
       "      <td>4987</td>\n",
       "      <td>36411555.6</td>\n",
       "    </tr>\n",
       "    <tr>\n",
       "      <th>2</th>\n",
       "      <td>Abuja</td>\n",
       "      <td>6652396.8</td>\n",
       "      <td>1820</td>\n",
       "      <td>1820531.52</td>\n",
       "      <td>38231161.92</td>\n",
       "      <td>36410630.4</td>\n",
       "      <td>1580.952381</td>\n",
       "      <td>1820531.52</td>\n",
       "      <td>2263.6</td>\n",
       "      <td>5068</td>\n",
       "      <td>665</td>\n",
       "      <td>670308</td>\n",
       "      <td>5029</td>\n",
       "      <td>36410630.4</td>\n",
       "    </tr>\n",
       "  </tbody>\n",
       "</table>\n",
       "</div>"
      ],
      "text/plain": [
       "            City  Unit price  Quantity      Tax 5%        Total        cogs  \\\n",
       "0  Port Harcourt   6684393.6      1831  1895463.54  39804734.34  37909270.8   \n",
       "1          Lagos   6705176.4      1859  1820577.78  38232133.38  36411555.6   \n",
       "2          Abuja   6652396.8      1820  1820531.52  38231161.92  36410630.4   \n",
       "\n",
       "   gross margin percentage  gross income  Rating   Day  Month    Year  Hour  \\\n",
       "0              1561.904762    1895463.54  2319.9  4956    640  662232  4894   \n",
       "1              1619.047619    1820577.78  2389.2  5232    688  686460  4987   \n",
       "2              1580.952381    1820531.52  2263.6  5068    665  670308  5029   \n",
       "\n",
       "        Sales  \n",
       "0  37909270.8  \n",
       "1  36411555.6  \n",
       "2  36410630.4  "
      ]
     },
     "execution_count": 97,
     "metadata": {},
     "output_type": "execute_result"
    }
   ],
   "source": [
    "(dff.groupby('City').sum()).sort_values(by = 'Sales', ascending = False).reset_index()"
   ]
  },
  {
   "cell_type": "code",
   "execution_count": 98,
   "id": "8be3b72a",
   "metadata": {},
   "outputs": [],
   "source": [
    "City_Sales = dff.groupby('City')['Sales'].sum()"
   ]
  },
  {
   "cell_type": "code",
   "execution_count": 153,
   "id": "46966b8e",
   "metadata": {},
   "outputs": [
    {
     "data": {
      "text/plain": [
       "[]"
      ]
     },
     "execution_count": 153,
     "metadata": {},
     "output_type": "execute_result"
    },
    {
     "data": {
      "image/png": "[encoded data removed]",
      "text/plain": [
       "<Figure size 432x288 with 1 Axes>"
      ]
     },
     "metadata": {},
     "output_type": "display_data"
    }
   ],
   "source": [
    "fig = plt.figure(figsize = (6, 4))\n",
    "ax = fig.add_subplot(1, 1, 1)\n",
    "City_Sales.plot(kind = 'bar', color = 'grey')\n",
    "plt.title('City with The Most Sales', color = 'black', fontweight = 'bold', fontsize = 'xx-large', pad = 15)\n",
    "plt.xlabel('City', color = 'black', size = 30)\n",
    "plt.ylabel('Sales', color = 'black', size = 30, labelpad = 20)\n",
    "plt.xticks(color = 'black', size = 20)\n",
    "plt.yticks(color = 'black', size = 20)\n",
    "ax.spines['left'].set_color('black')\n",
    "ax.spines['bottom'].set_color('black')\n",
    "ax.spines['right'].set_color('black')\n",
    "ax.spines['top'].set_color('black')\n",
    "ax.spines['left'].set_linewidth(5)\n",
    "ax.spines['right'].set_linewidth(5)\n",
    "ax.spines['top'].set_linewidth(5)\n",
    "ax.spines['bottom'].set_linewidth(5)\n",
    "plt.savefig('City with The Most Sales.png', transparent = True, bbox_inches = 'tight')\n",
    "plt.plot()"
   ]
  },
  {
   "cell_type": "code",
   "execution_count": 100,
   "id": "5aa11c98",
   "metadata": {},
   "outputs": [],
   "source": [
    "# City with The Most Sales is Port Harcourt"
   ]
  },
  {
   "cell_type": "code",
   "execution_count": 101,
   "id": "134af6d2",
   "metadata": {},
   "outputs": [
    {
     "data": {
      "text/plain": [
       "Index(['Invoice ID', 'Branch', 'City', 'Customer type', 'Gender',\n",
       "       'Product line', 'Unit price', 'Quantity', 'Tax 5%', 'Total', 'Date',\n",
       "       'Time', 'Payment', 'cogs', 'gross margin percentage', 'gross income',\n",
       "       'Rating', 'New_date', 'Day', 'Month', 'Year', 'Hour', 'Sales'],\n",
       "      dtype='object')"
      ]
     },
     "execution_count": 101,
     "metadata": {},
     "output_type": "execute_result"
    }
   ],
   "source": [
    "dff.columns"
   ]
  },
  {
   "cell_type": "code",
   "execution_count": 102,
   "id": "cdbe8ce8",
   "metadata": {},
   "outputs": [
    {
     "data": {
      "image/png": "[encoded data removed]",
      "text/plain": [
       "<Figure size 432x288 with 1 Axes>"
      ]
     },
     "metadata": {},
     "output_type": "display_data"
    }
   ],
   "source": [
    "sns.countplot(dff['Branch'])\n",
    "plt.title('The Branch with Highest Sales Record', color = 'black', fontweight = 'bold', fontsize = 'xx-large', pad = 15)\n",
    "plt.savefig('The Branch with Highest Sales Record.png', transparent = True, bbox_inches='tight')\n",
    "plt.show()"
   ]
  },
  {
   "cell_type": "code",
   "execution_count": 103,
   "id": "fea2ef5e",
   "metadata": {},
   "outputs": [],
   "source": [
    "# The Branch with The Highest Sales Record is Lagos"
   ]
  },
  {
   "cell_type": "code",
   "execution_count": 104,
   "id": "cda894ef",
   "metadata": {},
   "outputs": [
    {
     "data": {
      "image/png": "[encoded data removed]",
      "text/plain": [
       "<Figure size 432x288 with 1 Axes>"
      ]
     },
     "metadata": {},
     "output_type": "display_data"
    }
   ],
   "source": [
    "sns.countplot(dff['Payment'])\n",
    "plt.title('The Most used Payment Method', color = 'black', fontweight = 'bold', fontsize = 'xx-large', pad = 15)\n",
    "plt.savefig('The Most used Payment Method.png', transparent = True, bbox_inches='tight')\n",
    "plt.show()"
   ]
  },
  {
   "cell_type": "code",
   "execution_count": 105,
   "id": "f0fd1ed5",
   "metadata": {},
   "outputs": [],
   "source": [
    "# The Most Used Payment Method is Epay"
   ]
  },
  {
   "cell_type": "code",
   "execution_count": 106,
   "id": "86493170",
   "metadata": {},
   "outputs": [
    {
     "data": {
      "text/plain": [
       "Product line\n",
       "Electronic accessories    18630010.8\n",
       "Fashion accessories       18619164.0\n",
       "Food and beverages        19249660.8\n",
       "Health and beauty         16866424.8\n",
       "Home and lifestyle        18466941.6\n",
       "Sports and travel         18899254.8\n",
       "Name: Sales, dtype: float64"
      ]
     },
     "execution_count": 106,
     "metadata": {},
     "output_type": "execute_result"
    }
   ],
   "source": [
    "dff.groupby('Product line').sum()['Sales']"
   ]
  },
  {
   "cell_type": "code",
   "execution_count": 107,
   "id": "395b39a1",
   "metadata": {},
   "outputs": [
    {
     "data": {
      "text/html": [
       "<div>\n",
       "<style scoped>\n",
       "    .dataframe tbody tr th:only-of-type {\n",
       "        vertical-align: middle;\n",
       "    }\n",
       "\n",
       "    .dataframe tbody tr th {\n",
       "        vertical-align: top;\n",
       "    }\n",
       "\n",
       "    .dataframe thead th {\n",
       "        text-align: right;\n",
       "    }\n",
       "</style>\n",
       "<table border=\"1\" class=\"dataframe\">\n",
       "  <thead>\n",
       "    <tr style=\"text-align: right;\">\n",
       "      <th></th>\n",
       "      <th>Product line</th>\n",
       "      <th>Unit price</th>\n",
       "      <th>Quantity</th>\n",
       "      <th>Tax 5%</th>\n",
       "      <th>Total</th>\n",
       "      <th>cogs</th>\n",
       "      <th>gross margin percentage</th>\n",
       "      <th>gross income</th>\n",
       "      <th>Rating</th>\n",
       "      <th>Day</th>\n",
       "      <th>Month</th>\n",
       "      <th>Year</th>\n",
       "      <th>Hour</th>\n",
       "      <th>Sales</th>\n",
       "    </tr>\n",
       "  </thead>\n",
       "  <tbody>\n",
       "    <tr>\n",
       "      <th>0</th>\n",
       "      <td>Food and beverages</td>\n",
       "      <td>3508394.4</td>\n",
       "      <td>952</td>\n",
       "      <td>962483.04</td>\n",
       "      <td>20212143.84</td>\n",
       "      <td>19249660.8</td>\n",
       "      <td>828.571429</td>\n",
       "      <td>962483.04</td>\n",
       "      <td>1237.7</td>\n",
       "      <td>2645</td>\n",
       "      <td>348</td>\n",
       "      <td>351306</td>\n",
       "      <td>2677</td>\n",
       "      <td>19249660.8</td>\n",
       "    </tr>\n",
       "    <tr>\n",
       "      <th>1</th>\n",
       "      <td>Sports and travel</td>\n",
       "      <td>3405916.8</td>\n",
       "      <td>920</td>\n",
       "      <td>944962.74</td>\n",
       "      <td>19844217.54</td>\n",
       "      <td>18899254.8</td>\n",
       "      <td>790.476190</td>\n",
       "      <td>944962.74</td>\n",
       "      <td>1148.1</td>\n",
       "      <td>2475</td>\n",
       "      <td>315</td>\n",
       "      <td>335154</td>\n",
       "      <td>2433</td>\n",
       "      <td>18899254.8</td>\n",
       "    </tr>\n",
       "    <tr>\n",
       "      <th>2</th>\n",
       "      <td>Electronic accessories</td>\n",
       "      <td>3277357.2</td>\n",
       "      <td>971</td>\n",
       "      <td>931500.54</td>\n",
       "      <td>19561511.34</td>\n",
       "      <td>18630010.8</td>\n",
       "      <td>809.523810</td>\n",
       "      <td>931500.54</td>\n",
       "      <td>1177.2</td>\n",
       "      <td>2759</td>\n",
       "      <td>348</td>\n",
       "      <td>343230</td>\n",
       "      <td>2548</td>\n",
       "      <td>18630010.8</td>\n",
       "    </tr>\n",
       "    <tr>\n",
       "      <th>3</th>\n",
       "      <td>Fashion accessories</td>\n",
       "      <td>3662406.0</td>\n",
       "      <td>902</td>\n",
       "      <td>930958.20</td>\n",
       "      <td>19550122.20</td>\n",
       "      <td>18619164.0</td>\n",
       "      <td>847.619048</td>\n",
       "      <td>930958.20</td>\n",
       "      <td>1251.2</td>\n",
       "      <td>2717</td>\n",
       "      <td>346</td>\n",
       "      <td>359382</td>\n",
       "      <td>2680</td>\n",
       "      <td>18619164.0</td>\n",
       "    </tr>\n",
       "    <tr>\n",
       "      <th>4</th>\n",
       "      <td>Home and lifestyle</td>\n",
       "      <td>3186255.6</td>\n",
       "      <td>911</td>\n",
       "      <td>923347.08</td>\n",
       "      <td>19390288.68</td>\n",
       "      <td>18466941.6</td>\n",
       "      <td>761.904762</td>\n",
       "      <td>923347.08</td>\n",
       "      <td>1094.0</td>\n",
       "      <td>2287</td>\n",
       "      <td>324</td>\n",
       "      <td>323040</td>\n",
       "      <td>2312</td>\n",
       "      <td>18466941.6</td>\n",
       "    </tr>\n",
       "    <tr>\n",
       "      <th>5</th>\n",
       "      <td>Health and beauty</td>\n",
       "      <td>3001636.8</td>\n",
       "      <td>854</td>\n",
       "      <td>843321.24</td>\n",
       "      <td>17709746.04</td>\n",
       "      <td>16866424.8</td>\n",
       "      <td>723.809524</td>\n",
       "      <td>843321.24</td>\n",
       "      <td>1064.5</td>\n",
       "      <td>2373</td>\n",
       "      <td>312</td>\n",
       "      <td>306888</td>\n",
       "      <td>2260</td>\n",
       "      <td>16866424.8</td>\n",
       "    </tr>\n",
       "  </tbody>\n",
       "</table>\n",
       "</div>"
      ],
      "text/plain": [
       "             Product line  Unit price  Quantity     Tax 5%        Total  \\\n",
       "0      Food and beverages   3508394.4       952  962483.04  20212143.84   \n",
       "1       Sports and travel   3405916.8       920  944962.74  19844217.54   \n",
       "2  Electronic accessories   3277357.2       971  931500.54  19561511.34   \n",
       "3     Fashion accessories   3662406.0       902  930958.20  19550122.20   \n",
       "4      Home and lifestyle   3186255.6       911  923347.08  19390288.68   \n",
       "5       Health and beauty   3001636.8       854  843321.24  17709746.04   \n",
       "\n",
       "         cogs  gross margin percentage  gross income  Rating   Day  Month  \\\n",
       "0  19249660.8               828.571429     962483.04  1237.7  2645    348   \n",
       "1  18899254.8               790.476190     944962.74  1148.1  2475    315   \n",
       "2  18630010.8               809.523810     931500.54  1177.2  2759    348   \n",
       "3  18619164.0               847.619048     930958.20  1251.2  2717    346   \n",
       "4  18466941.6               761.904762     923347.08  1094.0  2287    324   \n",
       "5  16866424.8               723.809524     843321.24  1064.5  2373    312   \n",
       "\n",
       "     Year  Hour       Sales  \n",
       "0  351306  2677  19249660.8  \n",
       "1  335154  2433  18899254.8  \n",
       "2  343230  2548  18630010.8  \n",
       "3  359382  2680  18619164.0  \n",
       "4  323040  2312  18466941.6  \n",
       "5  306888  2260  16866424.8  "
      ]
     },
     "execution_count": 107,
     "metadata": {},
     "output_type": "execute_result"
    }
   ],
   "source": [
    "(dff.groupby('Product line').sum()).sort_values(by = 'Sales', ascending = False).reset_index()"
   ]
  },
  {
   "cell_type": "code",
   "execution_count": 108,
   "id": "e5f846f2",
   "metadata": {},
   "outputs": [],
   "source": [
    "Most_Sold_Product_line = dff.groupby('Product line')['Sales'].sum()"
   ]
  },
  {
   "cell_type": "code",
   "execution_count": 154,
   "id": "582af1ef",
   "metadata": {},
   "outputs": [
    {
     "data": {
      "text/plain": [
       "[]"
      ]
     },
     "execution_count": 154,
     "metadata": {},
     "output_type": "execute_result"
    },
    {
     "data": {
      "image/png": "[encoded data removed]",
      "text/plain": [
       "<Figure size 504x360 with 1 Axes>"
      ]
     },
     "metadata": {},
     "output_type": "display_data"
    }
   ],
   "source": [
    "fig = plt.figure(figsize = (7, 5))\n",
    "ax = fig.add_subplot(1, 1, 1)\n",
    "Most_Sold_Product_line.plot(kind = 'bar', color = 'grey')\n",
    "plt.title('Most_Sold_Product_line', color = 'black', fontweight = 'bold', fontsize = 'xx-large', pad = 15)\n",
    "plt.xlabel('Product line', color = 'black', size = 30)\n",
    "plt.ylabel('Sales', color = 'black', size = 30, labelpad = 20)\n",
    "plt.xticks(color = 'black', size = 20)\n",
    "plt.yticks(color = 'black', size = 20)\n",
    "ax.spines['left'].set_color('black')\n",
    "ax.spines['bottom'].set_color('black')\n",
    "ax.spines['right'].set_color('black')\n",
    "ax.spines['top'].set_color('black')\n",
    "ax.spines['left'].set_linewidth(5)\n",
    "ax.spines['right'].set_linewidth(5)\n",
    "ax.spines['top'].set_linewidth(5)\n",
    "ax.spines['bottom'].set_linewidth(5)\n",
    "plt.savefig('Most Sold Product line.png', transparent = True, bbox_inches='tight')\n",
    "plt.plot()"
   ]
  },
  {
   "cell_type": "code",
   "execution_count": 110,
   "id": "06f40b9c",
   "metadata": {},
   "outputs": [],
   "source": [
    "# The Highest Sold Product line is Food and Beverages, closely followed by Sports and Travel.\n",
    "# While The Lowest Sold Product line is Heath and Beauty"
   ]
  },
  {
   "cell_type": "code",
   "execution_count": 111,
   "id": "3c3f0589",
   "metadata": {},
   "outputs": [
    {
     "data": {
      "text/plain": [
       "0      Card\n",
       "1      Epay\n",
       "2      Cash\n",
       "3      Cash\n",
       "4      Epay\n",
       "       ... \n",
       "995    Cash\n",
       "996    Cash\n",
       "997    Epay\n",
       "998    Epay\n",
       "999    Epay\n",
       "Name: Payment, Length: 1000, dtype: object"
      ]
     },
     "execution_count": 111,
     "metadata": {},
     "output_type": "execute_result"
    }
   ],
   "source": [
    "dff['Payment']"
   ]
  },
  {
   "cell_type": "code",
   "execution_count": 112,
   "id": "daecb166",
   "metadata": {},
   "outputs": [
    {
     "data": {
      "text/plain": [
       "Fashion accessories       65\n",
       "Home and lifestyle        64\n",
       "Food and beverages        56\n",
       "Sports and travel         54\n",
       "Health and beauty         53\n",
       "Electronic accessories    53\n",
       "Name: Product line, dtype: int64"
      ]
     },
     "execution_count": 112,
     "metadata": {},
     "output_type": "execute_result"
    }
   ],
   "source": [
    "dff[dff['Payment']=='Epay']['Product line'].value_counts()"
   ]
  },
  {
   "cell_type": "code",
   "execution_count": 113,
   "id": "c5b8b9fb",
   "metadata": {},
   "outputs": [
    {
     "data": {
      "text/plain": [
       "Electronic accessories    71\n",
       "Sports and travel         59\n",
       "Fashion accessories       57\n",
       "Food and beverages        57\n",
       "Home and lifestyle        51\n",
       "Health and beauty         49\n",
       "Name: Product line, dtype: int64"
      ]
     },
     "execution_count": 113,
     "metadata": {},
     "output_type": "execute_result"
    }
   ],
   "source": [
    "dff[dff['Payment']=='Cash']['Product line'].value_counts()"
   ]
  },
  {
   "cell_type": "code",
   "execution_count": 114,
   "id": "672c200d",
   "metadata": {},
   "outputs": [
    {
     "data": {
      "text/plain": [
       "Food and beverages        61\n",
       "Fashion accessories       56\n",
       "Sports and travel         53\n",
       "Health and beauty         50\n",
       "Electronic accessories    46\n",
       "Home and lifestyle        45\n",
       "Name: Product line, dtype: int64"
      ]
     },
     "execution_count": 114,
     "metadata": {},
     "output_type": "execute_result"
    }
   ],
   "source": [
    "dff[dff['Payment']=='Card']['Product line'].value_counts()"
   ]
  },
  {
   "cell_type": "code",
   "execution_count": 115,
   "id": "ea42d9d5",
   "metadata": {},
   "outputs": [
    {
     "data": {
      "image/png": "[encoded data removed]",
      "text/plain": [
       "<Figure size 432x288 with 1 Axes>"
      ]
     },
     "metadata": {},
     "output_type": "display_data"
    }
   ],
   "source": [
    "sns.countplot(y = dff['Product line'], hue = dff['Payment'])\n",
    "plt.title('The Payment Channel used by Most Customers', color = 'black', fontweight = 'bold', fontsize = 'xx-large', pad = 15)\n",
    "plt.savefig('The Payment Channel used by Most Customers.png', transparent = True, bbox_inches='tight')\n",
    "plt.show()"
   ]
  },
  {
   "cell_type": "code",
   "execution_count": 116,
   "id": "dec63b4d",
   "metadata": {},
   "outputs": [],
   "source": [
    "# The payment channel used by most customers to pay for Electronic Accessories is cash\n",
    "# The payment channel used by most customers to pay for Food and Beverages is card\n",
    "# The payment channel used by most customers to pay for Fashion Accessories is Epay\n",
    "# The payment channel used by most customers to pay for Sports and Travel is cash\n",
    "# The payment channel used by most customers to pay for Home and Lifestyle is Epay\n",
    "# The payment channel used by most customers to pay for Health and Beauty is Epay"
   ]
  },
  {
   "cell_type": "code",
   "execution_count": 117,
   "id": "d5509e2f",
   "metadata": {},
   "outputs": [
    {
     "data": {
      "text/plain": [
       "A    126\n",
       "B    113\n",
       "C    106\n",
       "Name: Branch, dtype: int64"
      ]
     },
     "execution_count": 117,
     "metadata": {},
     "output_type": "execute_result"
    }
   ],
   "source": [
    "dff[dff['Payment']=='Epay']['Branch'].value_counts()"
   ]
  },
  {
   "cell_type": "code",
   "execution_count": 118,
   "id": "4b5ff5c5",
   "metadata": {},
   "outputs": [
    {
     "data": {
      "text/plain": [
       "C    124\n",
       "B    110\n",
       "A    110\n",
       "Name: Branch, dtype: int64"
      ]
     },
     "execution_count": 118,
     "metadata": {},
     "output_type": "execute_result"
    }
   ],
   "source": [
    "dff[dff['Payment']=='Cash']['Branch'].value_counts()"
   ]
  },
  {
   "cell_type": "code",
   "execution_count": 119,
   "id": "dc611d84",
   "metadata": {},
   "outputs": [
    {
     "data": {
      "text/plain": [
       "B    109\n",
       "A    104\n",
       "C     98\n",
       "Name: Branch, dtype: int64"
      ]
     },
     "execution_count": 119,
     "metadata": {},
     "output_type": "execute_result"
    }
   ],
   "source": [
    "dff[dff['Payment']=='Card']['Branch'].value_counts()"
   ]
  },
  {
   "cell_type": "code",
   "execution_count": 120,
   "id": "0bdde5de",
   "metadata": {},
   "outputs": [
    {
     "data": {
      "image/png": "[encoded data removed]",
      "text/plain": [
       "<Figure size 432x288 with 1 Axes>"
      ]
     },
     "metadata": {},
     "output_type": "display_data"
    }
   ],
   "source": [
    "sns.countplot(y = dff['Payment'], hue = dff['Branch'])\n",
    "plt.title('The Highest Payment Channel for Each Branch', color = 'black', fontweight = 'bold', fontsize = 'xx-large', pad = 15)\n",
    "plt.savefig('The Highest Payment Channel for Each Branch.png', transparent = True, bbox_inches='tight')"
   ]
  },
  {
   "cell_type": "code",
   "execution_count": 121,
   "id": "48b1321c",
   "metadata": {},
   "outputs": [],
   "source": [
    "### The highest payment channel for Abuja_Branch is Card.\n",
    "### The highest payment channel for Lagos_Branch is Epay.\n",
    "### The highest payment channel for Port_Harcourt_Branch is Cash"
   ]
  },
  {
   "cell_type": "code",
   "execution_count": 122,
   "id": "4d9bf824",
   "metadata": {},
   "outputs": [
    {
     "data": {
      "text/plain": [
       "Lagos            60\n",
       "Abuja            55\n",
       "Port Harcourt    55\n",
       "Name: City, dtype: int64"
      ]
     },
     "execution_count": 122,
     "metadata": {},
     "output_type": "execute_result"
    }
   ],
   "source": [
    "dff[dff['Product line']=='Electronic accessories']['City'].value_counts()"
   ]
  },
  {
   "cell_type": "code",
   "execution_count": 123,
   "id": "3c3342cb",
   "metadata": {},
   "outputs": [
    {
     "data": {
      "text/plain": [
       "Port Harcourt    65\n",
       "Abuja            62\n",
       "Lagos            51\n",
       "Name: City, dtype: int64"
      ]
     },
     "execution_count": 123,
     "metadata": {},
     "output_type": "execute_result"
    }
   ],
   "source": [
    "dff[dff['Product line']=='Fashion accessories']['City'].value_counts()"
   ]
  },
  {
   "cell_type": "code",
   "execution_count": 124,
   "id": "c68fe36b",
   "metadata": {},
   "outputs": [
    {
     "data": {
      "text/plain": [
       "Port Harcourt    66\n",
       "Lagos            58\n",
       "Abuja            50\n",
       "Name: City, dtype: int64"
      ]
     },
     "execution_count": 124,
     "metadata": {},
     "output_type": "execute_result"
    }
   ],
   "source": [
    "dff[dff['Product line']=='Food and beverages']['City'].value_counts()"
   ]
  },
  {
   "cell_type": "code",
   "execution_count": 125,
   "id": "71adf435",
   "metadata": {},
   "outputs": [
    {
     "data": {
      "text/plain": [
       "Abuja            62\n",
       "Lagos            59\n",
       "Port Harcourt    45\n",
       "Name: City, dtype: int64"
      ]
     },
     "execution_count": 125,
     "metadata": {},
     "output_type": "execute_result"
    }
   ],
   "source": [
    "dff[dff['Product line']=='Sports and travel']['City'].value_counts()"
   ]
  },
  {
   "cell_type": "code",
   "execution_count": 126,
   "id": "46eb24ef",
   "metadata": {},
   "outputs": [
    {
     "data": {
      "text/plain": [
       "Lagos            65\n",
       "Abuja            50\n",
       "Port Harcourt    45\n",
       "Name: City, dtype: int64"
      ]
     },
     "execution_count": 126,
     "metadata": {},
     "output_type": "execute_result"
    }
   ],
   "source": [
    "dff[dff['Product line']=='Home and lifestyle']['City'].value_counts()"
   ]
  },
  {
   "cell_type": "code",
   "execution_count": 127,
   "id": "46dace39",
   "metadata": {},
   "outputs": [
    {
     "data": {
      "text/plain": [
       "Abuja            53\n",
       "Port Harcourt    52\n",
       "Lagos            47\n",
       "Name: City, dtype: int64"
      ]
     },
     "execution_count": 127,
     "metadata": {},
     "output_type": "execute_result"
    }
   ],
   "source": [
    "dff[dff['Product line']=='Health and beauty']['City'].value_counts()"
   ]
  },
  {
   "cell_type": "code",
   "execution_count": 146,
   "id": "89fdc32e",
   "metadata": {},
   "outputs": [
    {
     "data": {
      "image/png": "[encoded data removed]",
      "text/plain": [
       "<Figure size 432x288 with 1 Axes>"
      ]
     },
     "metadata": {},
     "output_type": "display_data"
    }
   ],
   "source": [
    "sns.countplot(y = dff['Product line'], hue = dff['City'])\n",
    "plt.title('The Highest Sold Product Line for Each City', color = 'black', fontweight = 'bold', fontsize = 'xx-large', pad = 15)\n",
    "plt.savefig('The Highest Sold Product Line for Each City.png', transparent = True, bbox_inches='tight')"
   ]
  },
  {
   "cell_type": "code",
   "execution_count": 147,
   "id": "7580f364",
   "metadata": {},
   "outputs": [],
   "source": [
    "# Lagos had the highest sales of Electronic Accessories\n",
    "# Port Harcourt had the highest sales of Fashion Accessories\n",
    "# Port Harcourt had the highest sales of Food and beverages\n",
    "# Abuja had the highest sales of Sports and travel\n",
    "# Lagos had the highest sales of Home and lifestyle\n",
    "# Abuja had the highest sales of Health and beauty"
   ]
  },
  {
   "cell_type": "code",
   "execution_count": 129,
   "id": "008ed023",
   "metadata": {},
   "outputs": [
    {
     "data": {
      "image/png": "[encoded data removed]",
      "text/plain": [
       "<Figure size 432x288 with 1 Axes>"
      ]
     },
     "metadata": {},
     "output_type": "display_data"
    }
   ],
   "source": [
    "sns.boxplot(x = dff['Branch'], y = dff['Rating'])\n",
    "plt.title('Branch with Highest and Lowest Rating', color = 'black', fontweight = 'bold', fontsize = 'xx-large', pad = 15)\n",
    "plt.savefig('Branch with Highest and Lowest Rating.png', transparent = True, bbox_inches='tight')"
   ]
  },
  {
   "cell_type": "code",
   "execution_count": 130,
   "id": "be029f13",
   "metadata": {},
   "outputs": [],
   "source": [
    "### The Branch with Lowest Rating is Abuja\n",
    "### The Branch with Highest Rating is Lagos"
   ]
  },
  {
   "cell_type": "code",
   "execution_count": 131,
   "id": "db76f05d",
   "metadata": {},
   "outputs": [
    {
     "data": {
      "text/html": [
       "<div>\n",
       "<style scoped>\n",
       "    .dataframe tbody tr th:only-of-type {\n",
       "        vertical-align: middle;\n",
       "    }\n",
       "\n",
       "    .dataframe tbody tr th {\n",
       "        vertical-align: top;\n",
       "    }\n",
       "\n",
       "    .dataframe thead th {\n",
       "        text-align: right;\n",
       "    }\n",
       "</style>\n",
       "<table border=\"1\" class=\"dataframe\">\n",
       "  <thead>\n",
       "    <tr style=\"text-align: right;\">\n",
       "      <th></th>\n",
       "      <th>Product line</th>\n",
       "      <th>Quantity</th>\n",
       "    </tr>\n",
       "  </thead>\n",
       "  <tbody>\n",
       "    <tr>\n",
       "      <th>0</th>\n",
       "      <td>Electronic accessories</td>\n",
       "      <td>971</td>\n",
       "    </tr>\n",
       "    <tr>\n",
       "      <th>1</th>\n",
       "      <td>Fashion accessories</td>\n",
       "      <td>902</td>\n",
       "    </tr>\n",
       "    <tr>\n",
       "      <th>2</th>\n",
       "      <td>Food and beverages</td>\n",
       "      <td>952</td>\n",
       "    </tr>\n",
       "    <tr>\n",
       "      <th>3</th>\n",
       "      <td>Health and beauty</td>\n",
       "      <td>854</td>\n",
       "    </tr>\n",
       "    <tr>\n",
       "      <th>4</th>\n",
       "      <td>Home and lifestyle</td>\n",
       "      <td>911</td>\n",
       "    </tr>\n",
       "    <tr>\n",
       "      <th>5</th>\n",
       "      <td>Sports and travel</td>\n",
       "      <td>920</td>\n",
       "    </tr>\n",
       "  </tbody>\n",
       "</table>\n",
       "</div>"
      ],
      "text/plain": [
       "             Product line  Quantity\n",
       "0  Electronic accessories       971\n",
       "1     Fashion accessories       902\n",
       "2      Food and beverages       952\n",
       "3       Health and beauty       854\n",
       "4      Home and lifestyle       911\n",
       "5       Sports and travel       920"
      ]
     },
     "execution_count": 131,
     "metadata": {},
     "output_type": "execute_result"
    }
   ],
   "source": [
    "dff.groupby(['Product line'])['Quantity'].sum().reset_index()"
   ]
  },
  {
   "cell_type": "code",
   "execution_count": 132,
   "id": "0329c001",
   "metadata": {},
   "outputs": [
    {
     "data": {
      "text/html": [
       "<div>\n",
       "<style scoped>\n",
       "    .dataframe tbody tr th:only-of-type {\n",
       "        vertical-align: middle;\n",
       "    }\n",
       "\n",
       "    .dataframe tbody tr th {\n",
       "        vertical-align: top;\n",
       "    }\n",
       "\n",
       "    .dataframe thead th {\n",
       "        text-align: right;\n",
       "    }\n",
       "</style>\n",
       "<table border=\"1\" class=\"dataframe\">\n",
       "  <thead>\n",
       "    <tr style=\"text-align: right;\">\n",
       "      <th></th>\n",
       "      <th>Product line</th>\n",
       "      <th>Unit price</th>\n",
       "      <th>Quantity</th>\n",
       "      <th>Tax 5%</th>\n",
       "      <th>Total</th>\n",
       "      <th>cogs</th>\n",
       "      <th>gross margin percentage</th>\n",
       "      <th>gross income</th>\n",
       "      <th>Rating</th>\n",
       "      <th>Day</th>\n",
       "      <th>Month</th>\n",
       "      <th>Year</th>\n",
       "      <th>Hour</th>\n",
       "      <th>Sales</th>\n",
       "    </tr>\n",
       "  </thead>\n",
       "  <tbody>\n",
       "    <tr>\n",
       "      <th>0</th>\n",
       "      <td>Electronic accessories</td>\n",
       "      <td>3277357.2</td>\n",
       "      <td>971</td>\n",
       "      <td>931500.54</td>\n",
       "      <td>19561511.34</td>\n",
       "      <td>18630010.8</td>\n",
       "      <td>809.523810</td>\n",
       "      <td>931500.54</td>\n",
       "      <td>1177.2</td>\n",
       "      <td>2759</td>\n",
       "      <td>348</td>\n",
       "      <td>343230</td>\n",
       "      <td>2548</td>\n",
       "      <td>18630010.8</td>\n",
       "    </tr>\n",
       "    <tr>\n",
       "      <th>1</th>\n",
       "      <td>Food and beverages</td>\n",
       "      <td>3508394.4</td>\n",
       "      <td>952</td>\n",
       "      <td>962483.04</td>\n",
       "      <td>20212143.84</td>\n",
       "      <td>19249660.8</td>\n",
       "      <td>828.571429</td>\n",
       "      <td>962483.04</td>\n",
       "      <td>1237.7</td>\n",
       "      <td>2645</td>\n",
       "      <td>348</td>\n",
       "      <td>351306</td>\n",
       "      <td>2677</td>\n",
       "      <td>19249660.8</td>\n",
       "    </tr>\n",
       "    <tr>\n",
       "      <th>2</th>\n",
       "      <td>Sports and travel</td>\n",
       "      <td>3405916.8</td>\n",
       "      <td>920</td>\n",
       "      <td>944962.74</td>\n",
       "      <td>19844217.54</td>\n",
       "      <td>18899254.8</td>\n",
       "      <td>790.476190</td>\n",
       "      <td>944962.74</td>\n",
       "      <td>1148.1</td>\n",
       "      <td>2475</td>\n",
       "      <td>315</td>\n",
       "      <td>335154</td>\n",
       "      <td>2433</td>\n",
       "      <td>18899254.8</td>\n",
       "    </tr>\n",
       "    <tr>\n",
       "      <th>3</th>\n",
       "      <td>Home and lifestyle</td>\n",
       "      <td>3186255.6</td>\n",
       "      <td>911</td>\n",
       "      <td>923347.08</td>\n",
       "      <td>19390288.68</td>\n",
       "      <td>18466941.6</td>\n",
       "      <td>761.904762</td>\n",
       "      <td>923347.08</td>\n",
       "      <td>1094.0</td>\n",
       "      <td>2287</td>\n",
       "      <td>324</td>\n",
       "      <td>323040</td>\n",
       "      <td>2312</td>\n",
       "      <td>18466941.6</td>\n",
       "    </tr>\n",
       "    <tr>\n",
       "      <th>4</th>\n",
       "      <td>Fashion accessories</td>\n",
       "      <td>3662406.0</td>\n",
       "      <td>902</td>\n",
       "      <td>930958.20</td>\n",
       "      <td>19550122.20</td>\n",
       "      <td>18619164.0</td>\n",
       "      <td>847.619048</td>\n",
       "      <td>930958.20</td>\n",
       "      <td>1251.2</td>\n",
       "      <td>2717</td>\n",
       "      <td>346</td>\n",
       "      <td>359382</td>\n",
       "      <td>2680</td>\n",
       "      <td>18619164.0</td>\n",
       "    </tr>\n",
       "    <tr>\n",
       "      <th>5</th>\n",
       "      <td>Health and beauty</td>\n",
       "      <td>3001636.8</td>\n",
       "      <td>854</td>\n",
       "      <td>843321.24</td>\n",
       "      <td>17709746.04</td>\n",
       "      <td>16866424.8</td>\n",
       "      <td>723.809524</td>\n",
       "      <td>843321.24</td>\n",
       "      <td>1064.5</td>\n",
       "      <td>2373</td>\n",
       "      <td>312</td>\n",
       "      <td>306888</td>\n",
       "      <td>2260</td>\n",
       "      <td>16866424.8</td>\n",
       "    </tr>\n",
       "  </tbody>\n",
       "</table>\n",
       "</div>"
      ],
      "text/plain": [
       "             Product line  Unit price  Quantity     Tax 5%        Total  \\\n",
       "0  Electronic accessories   3277357.2       971  931500.54  19561511.34   \n",
       "1      Food and beverages   3508394.4       952  962483.04  20212143.84   \n",
       "2       Sports and travel   3405916.8       920  944962.74  19844217.54   \n",
       "3      Home and lifestyle   3186255.6       911  923347.08  19390288.68   \n",
       "4     Fashion accessories   3662406.0       902  930958.20  19550122.20   \n",
       "5       Health and beauty   3001636.8       854  843321.24  17709746.04   \n",
       "\n",
       "         cogs  gross margin percentage  gross income  Rating   Day  Month  \\\n",
       "0  18630010.8               809.523810     931500.54  1177.2  2759    348   \n",
       "1  19249660.8               828.571429     962483.04  1237.7  2645    348   \n",
       "2  18899254.8               790.476190     944962.74  1148.1  2475    315   \n",
       "3  18466941.6               761.904762     923347.08  1094.0  2287    324   \n",
       "4  18619164.0               847.619048     930958.20  1251.2  2717    346   \n",
       "5  16866424.8               723.809524     843321.24  1064.5  2373    312   \n",
       "\n",
       "     Year  Hour       Sales  \n",
       "0  343230  2548  18630010.8  \n",
       "1  351306  2677  19249660.8  \n",
       "2  335154  2433  18899254.8  \n",
       "3  323040  2312  18466941.6  \n",
       "4  359382  2680  18619164.0  \n",
       "5  306888  2260  16866424.8  "
      ]
     },
     "execution_count": 132,
     "metadata": {},
     "output_type": "execute_result"
    }
   ],
   "source": [
    "(dff.groupby('Product line').sum()).sort_values(by = 'Quantity', ascending = False).reset_index()"
   ]
  },
  {
   "cell_type": "code",
   "execution_count": 155,
   "id": "d0031f12",
   "metadata": {},
   "outputs": [],
   "source": [
    "most_available_product_line = dff.groupby('Product line')['Quantity'].sum()"
   ]
  },
  {
   "cell_type": "code",
   "execution_count": 157,
   "id": "a7939bf8",
   "metadata": {},
   "outputs": [
    {
     "data": {
      "text/plain": [
       "[]"
      ]
     },
     "execution_count": 157,
     "metadata": {},
     "output_type": "execute_result"
    },
    {
     "data": {
      "image/png": "[encoded data removed]",
      "text/plain": [
       "<Figure size 504x360 with 1 Axes>"
      ]
     },
     "metadata": {},
     "output_type": "display_data"
    }
   ],
   "source": [
    "fig = plt.figure(figsize = (7, 5))\n",
    "ax = fig.add_subplot(1, 1, 1)\n",
    "most_available_product_line.plot(kind = 'bar', color = 'grey')\n",
    "plt.title('Most Available Product Line in Terms of Qty', color = 'black', fontweight = 'bold', fontsize = 'xx-large', pad = 15)\n",
    "plt.xlabel('Product line', color = 'black', size = 30)\n",
    "plt.ylabel('Quantity', color = 'black', size = 30, labelpad = 20)\n",
    "plt.xticks(color = 'black', size = 20)\n",
    "plt.yticks(color = 'black', size = 20)\n",
    "ax.spines['left'].set_color('black')\n",
    "ax.spines['bottom'].set_color('black')\n",
    "ax.spines['right'].set_color('black')\n",
    "ax.spines['top'].set_color('black')\n",
    "ax.spines['left'].set_linewidth(5)\n",
    "ax.spines['right'].set_linewidth(5)\n",
    "ax.spines['top'].set_linewidth(5)\n",
    "ax.spines['bottom'].set_linewidth(5)\n",
    "plt.savefig('Most Available Product Line in Terms of Qty.png', transparent = True, bbox_inches='tight')\n",
    "plt.plot()"
   ]
  },
  {
   "cell_type": "code",
   "execution_count": 135,
   "id": "912a8219",
   "metadata": {},
   "outputs": [],
   "source": [
    "# The Most Purchased Product line in Terms of Qty is Electronic Accessories"
   ]
  },
  {
   "cell_type": "code",
   "execution_count": 136,
   "id": "37170a94",
   "metadata": {},
   "outputs": [
    {
     "data": {
      "text/html": [
       "<div>\n",
       "<style scoped>\n",
       "    .dataframe tbody tr th:only-of-type {\n",
       "        vertical-align: middle;\n",
       "    }\n",
       "\n",
       "    .dataframe tbody tr th {\n",
       "        vertical-align: top;\n",
       "    }\n",
       "\n",
       "    .dataframe thead th {\n",
       "        text-align: right;\n",
       "    }\n",
       "</style>\n",
       "<table border=\"1\" class=\"dataframe\">\n",
       "  <thead>\n",
       "    <tr style=\"text-align: right;\">\n",
       "      <th></th>\n",
       "      <th>Product line</th>\n",
       "      <th>Quantity</th>\n",
       "      <th>Unit price</th>\n",
       "    </tr>\n",
       "  </thead>\n",
       "  <tbody>\n",
       "    <tr>\n",
       "      <th>0</th>\n",
       "      <td>Electronic accessories</td>\n",
       "      <td>971</td>\n",
       "      <td>3277357.2</td>\n",
       "    </tr>\n",
       "    <tr>\n",
       "      <th>1</th>\n",
       "      <td>Fashion accessories</td>\n",
       "      <td>902</td>\n",
       "      <td>3662406.0</td>\n",
       "    </tr>\n",
       "    <tr>\n",
       "      <th>2</th>\n",
       "      <td>Food and beverages</td>\n",
       "      <td>952</td>\n",
       "      <td>3508394.4</td>\n",
       "    </tr>\n",
       "    <tr>\n",
       "      <th>3</th>\n",
       "      <td>Health and beauty</td>\n",
       "      <td>854</td>\n",
       "      <td>3001636.8</td>\n",
       "    </tr>\n",
       "    <tr>\n",
       "      <th>4</th>\n",
       "      <td>Home and lifestyle</td>\n",
       "      <td>911</td>\n",
       "      <td>3186255.6</td>\n",
       "    </tr>\n",
       "    <tr>\n",
       "      <th>5</th>\n",
       "      <td>Sports and travel</td>\n",
       "      <td>920</td>\n",
       "      <td>3405916.8</td>\n",
       "    </tr>\n",
       "  </tbody>\n",
       "</table>\n",
       "</div>"
      ],
      "text/plain": [
       "             Product line  Quantity  Unit price\n",
       "0  Electronic accessories       971   3277357.2\n",
       "1     Fashion accessories       902   3662406.0\n",
       "2      Food and beverages       952   3508394.4\n",
       "3       Health and beauty       854   3001636.8\n",
       "4      Home and lifestyle       911   3186255.6\n",
       "5       Sports and travel       920   3405916.8"
      ]
     },
     "execution_count": 136,
     "metadata": {},
     "output_type": "execute_result"
    }
   ],
   "source": [
    "dff.groupby(['Product line'])['Quantity', 'Unit price'].sum().reset_index()"
   ]
  },
  {
   "cell_type": "code",
   "execution_count": 137,
   "id": "a1ba8ec7",
   "metadata": {},
   "outputs": [],
   "source": [
    "quantity_unit_price = dff.groupby(['Product line'])['Quantity', 'Unit price'].sum().reset_index()"
   ]
  },
  {
   "cell_type": "code",
   "execution_count": 138,
   "id": "d930a801",
   "metadata": {},
   "outputs": [],
   "source": [
    "df = pd.DataFrame(quantity_unit_price, columns = ['Product line', 'Quantity', 'Unit price'])"
   ]
  },
  {
   "cell_type": "code",
   "execution_count": 139,
   "id": "b0da2eb7",
   "metadata": {},
   "outputs": [],
   "source": [
    "df.to_csv('quantity_unit_price.csv', index = False)"
   ]
  },
  {
   "cell_type": "code",
   "execution_count": 140,
   "id": "15f03d92",
   "metadata": {},
   "outputs": [],
   "source": [
    "df = pd.read_csv('quantity_unit_price.csv')"
   ]
  },
  {
   "cell_type": "code",
   "execution_count": 141,
   "id": "6194dc02",
   "metadata": {},
   "outputs": [
    {
     "data": {
      "text/html": [
       "<div>\n",
       "<style scoped>\n",
       "    .dataframe tbody tr th:only-of-type {\n",
       "        vertical-align: middle;\n",
       "    }\n",
       "\n",
       "    .dataframe tbody tr th {\n",
       "        vertical-align: top;\n",
       "    }\n",
       "\n",
       "    .dataframe thead th {\n",
       "        text-align: right;\n",
       "    }\n",
       "</style>\n",
       "<table border=\"1\" class=\"dataframe\">\n",
       "  <thead>\n",
       "    <tr style=\"text-align: right;\">\n",
       "      <th></th>\n",
       "      <th>Product line</th>\n",
       "      <th>Quantity</th>\n",
       "      <th>Unit price</th>\n",
       "    </tr>\n",
       "  </thead>\n",
       "  <tbody>\n",
       "    <tr>\n",
       "      <th>0</th>\n",
       "      <td>Electronic accessories</td>\n",
       "      <td>971</td>\n",
       "      <td>3277357.2</td>\n",
       "    </tr>\n",
       "    <tr>\n",
       "      <th>1</th>\n",
       "      <td>Fashion accessories</td>\n",
       "      <td>902</td>\n",
       "      <td>3662406.0</td>\n",
       "    </tr>\n",
       "    <tr>\n",
       "      <th>2</th>\n",
       "      <td>Food and beverages</td>\n",
       "      <td>952</td>\n",
       "      <td>3508394.4</td>\n",
       "    </tr>\n",
       "    <tr>\n",
       "      <th>3</th>\n",
       "      <td>Health and beauty</td>\n",
       "      <td>854</td>\n",
       "      <td>3001636.8</td>\n",
       "    </tr>\n",
       "    <tr>\n",
       "      <th>4</th>\n",
       "      <td>Home and lifestyle</td>\n",
       "      <td>911</td>\n",
       "      <td>3186255.6</td>\n",
       "    </tr>\n",
       "    <tr>\n",
       "      <th>5</th>\n",
       "      <td>Sports and travel</td>\n",
       "      <td>920</td>\n",
       "      <td>3405916.8</td>\n",
       "    </tr>\n",
       "  </tbody>\n",
       "</table>\n",
       "</div>"
      ],
      "text/plain": [
       "             Product line  Quantity  Unit price\n",
       "0  Electronic accessories       971   3277357.2\n",
       "1     Fashion accessories       902   3662406.0\n",
       "2      Food and beverages       952   3508394.4\n",
       "3       Health and beauty       854   3001636.8\n",
       "4      Home and lifestyle       911   3186255.6\n",
       "5       Sports and travel       920   3405916.8"
      ]
     },
     "execution_count": 141,
     "metadata": {},
     "output_type": "execute_result"
    }
   ],
   "source": [
    "df"
   ]
  },
  {
   "cell_type": "code",
   "execution_count": 142,
   "id": "a1cd4411",
   "metadata": {},
   "outputs": [],
   "source": [
    "new_dff1 = (dff.groupby('Product line').sum()).sort_values(by = 'Quantity', ascending = False).reset_index()"
   ]
  },
  {
   "cell_type": "code",
   "execution_count": 143,
   "id": "61fbddaa",
   "metadata": {},
   "outputs": [
    {
     "data": {
      "text/html": [
       "<div>\n",
       "<style scoped>\n",
       "    .dataframe tbody tr th:only-of-type {\n",
       "        vertical-align: middle;\n",
       "    }\n",
       "\n",
       "    .dataframe tbody tr th {\n",
       "        vertical-align: top;\n",
       "    }\n",
       "\n",
       "    .dataframe thead th {\n",
       "        text-align: right;\n",
       "    }\n",
       "</style>\n",
       "<table border=\"1\" class=\"dataframe\">\n",
       "  <thead>\n",
       "    <tr style=\"text-align: right;\">\n",
       "      <th></th>\n",
       "      <th>Product line</th>\n",
       "      <th>Unit price</th>\n",
       "      <th>Quantity</th>\n",
       "      <th>Tax 5%</th>\n",
       "      <th>Total</th>\n",
       "      <th>cogs</th>\n",
       "      <th>gross margin percentage</th>\n",
       "      <th>gross income</th>\n",
       "      <th>Rating</th>\n",
       "      <th>Day</th>\n",
       "      <th>Month</th>\n",
       "      <th>Year</th>\n",
       "      <th>Hour</th>\n",
       "      <th>Sales</th>\n",
       "    </tr>\n",
       "  </thead>\n",
       "  <tbody>\n",
       "    <tr>\n",
       "      <th>0</th>\n",
       "      <td>Electronic accessories</td>\n",
       "      <td>3277357.2</td>\n",
       "      <td>971</td>\n",
       "      <td>931500.54</td>\n",
       "      <td>19561511.34</td>\n",
       "      <td>18630010.8</td>\n",
       "      <td>809.523810</td>\n",
       "      <td>931500.54</td>\n",
       "      <td>1177.2</td>\n",
       "      <td>2759</td>\n",
       "      <td>348</td>\n",
       "      <td>343230</td>\n",
       "      <td>2548</td>\n",
       "      <td>18630010.8</td>\n",
       "    </tr>\n",
       "    <tr>\n",
       "      <th>1</th>\n",
       "      <td>Food and beverages</td>\n",
       "      <td>3508394.4</td>\n",
       "      <td>952</td>\n",
       "      <td>962483.04</td>\n",
       "      <td>20212143.84</td>\n",
       "      <td>19249660.8</td>\n",
       "      <td>828.571429</td>\n",
       "      <td>962483.04</td>\n",
       "      <td>1237.7</td>\n",
       "      <td>2645</td>\n",
       "      <td>348</td>\n",
       "      <td>351306</td>\n",
       "      <td>2677</td>\n",
       "      <td>19249660.8</td>\n",
       "    </tr>\n",
       "    <tr>\n",
       "      <th>2</th>\n",
       "      <td>Sports and travel</td>\n",
       "      <td>3405916.8</td>\n",
       "      <td>920</td>\n",
       "      <td>944962.74</td>\n",
       "      <td>19844217.54</td>\n",
       "      <td>18899254.8</td>\n",
       "      <td>790.476190</td>\n",
       "      <td>944962.74</td>\n",
       "      <td>1148.1</td>\n",
       "      <td>2475</td>\n",
       "      <td>315</td>\n",
       "      <td>335154</td>\n",
       "      <td>2433</td>\n",
       "      <td>18899254.8</td>\n",
       "    </tr>\n",
       "    <tr>\n",
       "      <th>3</th>\n",
       "      <td>Home and lifestyle</td>\n",
       "      <td>3186255.6</td>\n",
       "      <td>911</td>\n",
       "      <td>923347.08</td>\n",
       "      <td>19390288.68</td>\n",
       "      <td>18466941.6</td>\n",
       "      <td>761.904762</td>\n",
       "      <td>923347.08</td>\n",
       "      <td>1094.0</td>\n",
       "      <td>2287</td>\n",
       "      <td>324</td>\n",
       "      <td>323040</td>\n",
       "      <td>2312</td>\n",
       "      <td>18466941.6</td>\n",
       "    </tr>\n",
       "    <tr>\n",
       "      <th>4</th>\n",
       "      <td>Fashion accessories</td>\n",
       "      <td>3662406.0</td>\n",
       "      <td>902</td>\n",
       "      <td>930958.20</td>\n",
       "      <td>19550122.20</td>\n",
       "      <td>18619164.0</td>\n",
       "      <td>847.619048</td>\n",
       "      <td>930958.20</td>\n",
       "      <td>1251.2</td>\n",
       "      <td>2717</td>\n",
       "      <td>346</td>\n",
       "      <td>359382</td>\n",
       "      <td>2680</td>\n",
       "      <td>18619164.0</td>\n",
       "    </tr>\n",
       "    <tr>\n",
       "      <th>5</th>\n",
       "      <td>Health and beauty</td>\n",
       "      <td>3001636.8</td>\n",
       "      <td>854</td>\n",
       "      <td>843321.24</td>\n",
       "      <td>17709746.04</td>\n",
       "      <td>16866424.8</td>\n",
       "      <td>723.809524</td>\n",
       "      <td>843321.24</td>\n",
       "      <td>1064.5</td>\n",
       "      <td>2373</td>\n",
       "      <td>312</td>\n",
       "      <td>306888</td>\n",
       "      <td>2260</td>\n",
       "      <td>16866424.8</td>\n",
       "    </tr>\n",
       "  </tbody>\n",
       "</table>\n",
       "</div>"
      ],
      "text/plain": [
       "             Product line  Unit price  Quantity     Tax 5%        Total  \\\n",
       "0  Electronic accessories   3277357.2       971  931500.54  19561511.34   \n",
       "1      Food and beverages   3508394.4       952  962483.04  20212143.84   \n",
       "2       Sports and travel   3405916.8       920  944962.74  19844217.54   \n",
       "3      Home and lifestyle   3186255.6       911  923347.08  19390288.68   \n",
       "4     Fashion accessories   3662406.0       902  930958.20  19550122.20   \n",
       "5       Health and beauty   3001636.8       854  843321.24  17709746.04   \n",
       "\n",
       "         cogs  gross margin percentage  gross income  Rating   Day  Month  \\\n",
       "0  18630010.8               809.523810     931500.54  1177.2  2759    348   \n",
       "1  19249660.8               828.571429     962483.04  1237.7  2645    348   \n",
       "2  18899254.8               790.476190     944962.74  1148.1  2475    315   \n",
       "3  18466941.6               761.904762     923347.08  1094.0  2287    324   \n",
       "4  18619164.0               847.619048     930958.20  1251.2  2717    346   \n",
       "5  16866424.8               723.809524     843321.24  1064.5  2373    312   \n",
       "\n",
       "     Year  Hour       Sales  \n",
       "0  343230  2548  18630010.8  \n",
       "1  351306  2677  19249660.8  \n",
       "2  335154  2433  18899254.8  \n",
       "3  323040  2312  18466941.6  \n",
       "4  359382  2680  18619164.0  \n",
       "5  306888  2260  16866424.8  "
      ]
     },
     "execution_count": 143,
     "metadata": {},
     "output_type": "execute_result"
    }
   ],
   "source": [
    "new_dff1"
   ]
  },
  {
   "cell_type": "code",
   "execution_count": 144,
   "id": "89560ed8",
   "metadata": {},
   "outputs": [
    {
     "data": {
      "image/png": "[encoded data removed]",
      "text/plain": [
       "<Figure size 504x360 with 2 Axes>"
      ]
     },
     "metadata": {},
     "output_type": "display_data"
    }
   ],
   "source": [
    "fig = plt.figure(figsize = (7, 5))\n",
    "ax1 = fig.add_subplot(1, 1, 1)\n",
    "color1 = 'orange'\n",
    "line1, = ax1.plot(new_dff1['Product line'], new_dff1['Quantity'], color = color1, marker = 'o', ms = '8', mec = 'k', mfc ='k')\n",
    "ax1.set_xlabel('Product line', color = 'black', fontsize = 30, fontweight = 'bold', labelpad = 2)\n",
    "ax1.set_ylabel('Quantity', color = 'black', fontsize = 25, fontweight = 'bold', labelpad = 20)\n",
    "plt.xticks(rotation = 'vertical')\n",
    "\n",
    "ax2 = ax1.twinx()\n",
    "color2 = 'black'\n",
    "line2, = ax2.plot(new_dff1['Product line'], new_dff1['Unit price'], \n",
    "color = color2, marker = 'o', ms = '8', mec = 'orange', mfc ='orange')\n",
    "ax2.set_ylabel('Unit price', color = 'black', fontsize = 25, fontweight = 'bold', labelpad = 20)\n",
    "ax2.spines['left'].set_color(color2)\n",
    "ax2.spines['right'].set_color(color2)\n",
    "ax2.spines['top'].set_color(color2)\n",
    "ax2.spines['bottom'].set_color(color2)\n",
    "ax2.spines['left'].set_linewidth(5)\n",
    "ax2.spines['right'].set_linewidth(5)\n",
    "ax2.spines['top'].set_linewidth(5)\n",
    "ax2.spines['bottom'].set_linewidth(5)\n",
    "plt.title('Interaction of Unit Price & The Quantity of Goods Purchased', fontsize = 'xx-large', color = color2)             \n",
    "plt.legend([line1, line2], ['Quantity', 'Unit price'], loc = 'upper center', fancybox = True, shadow = True, framealpha = 1)\n",
    "plt.savefig('Interaction of Unit Price & The Quantity of Goods Purchased.png', transparent = True, bbox_inches='tight')"
   ]
  },
  {
   "cell_type": "code",
   "execution_count": 145,
   "id": "317fd2a0",
   "metadata": {},
   "outputs": [],
   "source": [
    "# Based on the analysis here, electronic accessories were the most sold Product line with a bit higher price.\n",
    "# Fashion accessories were so expensive and very little quantities were purchased. Meanwhile, health and beauty\n",
    "# accessories were the least sold Product line despite lower prices. "
   ]
  },
  {
   "cell_type": "code",
   "execution_count": null,
   "id": "dd19cddf",
   "metadata": {},
   "outputs": [],
   "source": []
  },
  {
   "cell_type": "code",
   "execution_count": null,
   "id": "ecd675f4",
   "metadata": {},
   "outputs": [],
   "source": []
  }
 ],
 "metadata": {
  "kernelspec": {
   "display_name": "Python 3 (ipykernel)",
   "language": "python",
   "name": "python3"
  },
  "language_info": {
   "codemirror_mode": {
    "name": "ipython",
    "version": 3
   },
   "file_extension": ".py",
   "mimetype": "text/x-python",
   "name": "python",
   "nbconvert_exporter": "python",
   "pygments_lexer": "ipython3",
   "version": "3.9.12"
  }
 },
 "nbformat": 4,
 "nbformat_minor": 5
}
