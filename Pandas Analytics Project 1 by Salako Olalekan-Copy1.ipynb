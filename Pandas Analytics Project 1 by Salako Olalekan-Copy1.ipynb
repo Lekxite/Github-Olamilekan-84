{
 "cells": [
  {
   "cell_type": "markdown",
   "id": "3f79561f",
   "metadata": {},
   "source": [
    "# Pandas Analytics Project"
   ]
  },
  {
   "cell_type": "code",
   "execution_count": 1,
   "id": "1326de26",
   "metadata": {},
   "outputs": [],
   "source": [
    "import os\n",
    "import glob\n",
    "import pandas as pd\n",
    "import matplotlib.pyplot as plt"
   ]
  },
  {
   "cell_type": "code",
   "execution_count": 2,
   "id": "57caaaa6",
   "metadata": {},
   "outputs": [],
   "source": [
    "extension = 'csv'"
   ]
  },
  {
   "cell_type": "code",
   "execution_count": 3,
   "id": "06bba508",
   "metadata": {},
   "outputs": [],
   "source": [
    "df1 = pd.read_csv('Abuja_Branch.csv')"
   ]
  },
  {
   "cell_type": "code",
   "execution_count": 4,
   "id": "0fe141ef",
   "metadata": {},
   "outputs": [],
   "source": [
    "df2 = pd.read_csv('Lagos_Branch.csv')"
   ]
  },
  {
   "cell_type": "code",
   "execution_count": 5,
   "id": "467d79ea",
   "metadata": {},
   "outputs": [],
   "source": [
    "df3 = pd.read_csv('Port_Harcourt_Branch.csv')"
   ]
  },
  {
   "cell_type": "code",
   "execution_count": 6,
   "id": "4bb180c5",
   "metadata": {},
   "outputs": [],
   "source": [
    "dff = pd.concat([df1, df2, df3])"
   ]
  },
  {
   "cell_type": "code",
   "execution_count": 7,
   "id": "73b408e6",
   "metadata": {},
   "outputs": [
    {
     "data": {
      "text/html": [
       "<div>\n",
       "<style scoped>\n",
       "    .dataframe tbody tr th:only-of-type {\n",
       "        vertical-align: middle;\n",
       "    }\n",
       "\n",
       "    .dataframe tbody tr th {\n",
       "        vertical-align: top;\n",
       "    }\n",
       "\n",
       "    .dataframe thead th {\n",
       "        text-align: right;\n",
       "    }\n",
       "</style>\n",
       "<table border=\"1\" class=\"dataframe\">\n",
       "  <thead>\n",
       "    <tr style=\"text-align: right;\">\n",
       "      <th></th>\n",
       "      <th>Invoice ID</th>\n",
       "      <th>Branch</th>\n",
       "      <th>City</th>\n",
       "      <th>Customer type</th>\n",
       "      <th>Gender</th>\n",
       "      <th>Product line</th>\n",
       "      <th>Unit price</th>\n",
       "      <th>Quantity</th>\n",
       "      <th>Tax 5%</th>\n",
       "      <th>Total</th>\n",
       "      <th>Date</th>\n",
       "      <th>Time</th>\n",
       "      <th>Payment</th>\n",
       "      <th>cogs</th>\n",
       "      <th>gross margin percentage</th>\n",
       "      <th>gross income</th>\n",
       "      <th>Rating</th>\n",
       "    </tr>\n",
       "  </thead>\n",
       "  <tbody>\n",
       "    <tr>\n",
       "      <th>0</th>\n",
       "      <td>692-92-5582</td>\n",
       "      <td>B</td>\n",
       "      <td>Abuja</td>\n",
       "      <td>Member</td>\n",
       "      <td>Female</td>\n",
       "      <td>Food and beverages</td>\n",
       "      <td>19742.4</td>\n",
       "      <td>3</td>\n",
       "      <td>2961.36</td>\n",
       "      <td>62188.56</td>\n",
       "      <td>2/20/2019</td>\n",
       "      <td>13:27</td>\n",
       "      <td>Card</td>\n",
       "      <td>59227.2</td>\n",
       "      <td>4.761905</td>\n",
       "      <td>2961.36</td>\n",
       "      <td>5.9</td>\n",
       "    </tr>\n",
       "    <tr>\n",
       "      <th>1</th>\n",
       "      <td>351-62-0822</td>\n",
       "      <td>B</td>\n",
       "      <td>Abuja</td>\n",
       "      <td>Member</td>\n",
       "      <td>Female</td>\n",
       "      <td>Fashion accessories</td>\n",
       "      <td>5212.8</td>\n",
       "      <td>4</td>\n",
       "      <td>1042.56</td>\n",
       "      <td>21893.76</td>\n",
       "      <td>2/6/2019</td>\n",
       "      <td>18:07</td>\n",
       "      <td>Epay</td>\n",
       "      <td>20851.2</td>\n",
       "      <td>4.761905</td>\n",
       "      <td>1042.56</td>\n",
       "      <td>4.5</td>\n",
       "    </tr>\n",
       "    <tr>\n",
       "      <th>2</th>\n",
       "      <td>529-56-3974</td>\n",
       "      <td>B</td>\n",
       "      <td>Abuja</td>\n",
       "      <td>Member</td>\n",
       "      <td>Male</td>\n",
       "      <td>Electronic accessories</td>\n",
       "      <td>9183.6</td>\n",
       "      <td>4</td>\n",
       "      <td>1836.72</td>\n",
       "      <td>38571.12</td>\n",
       "      <td>3/9/2019</td>\n",
       "      <td>17:03</td>\n",
       "      <td>Cash</td>\n",
       "      <td>36734.4</td>\n",
       "      <td>4.761905</td>\n",
       "      <td>1836.72</td>\n",
       "      <td>6.8</td>\n",
       "    </tr>\n",
       "    <tr>\n",
       "      <th>3</th>\n",
       "      <td>299-46-1805</td>\n",
       "      <td>B</td>\n",
       "      <td>Abuja</td>\n",
       "      <td>Member</td>\n",
       "      <td>Female</td>\n",
       "      <td>Sports and travel</td>\n",
       "      <td>33739.2</td>\n",
       "      <td>6</td>\n",
       "      <td>10121.76</td>\n",
       "      <td>212556.96</td>\n",
       "      <td>1/15/2019</td>\n",
       "      <td>16:19</td>\n",
       "      <td>Cash</td>\n",
       "      <td>202435.2</td>\n",
       "      <td>4.761905</td>\n",
       "      <td>10121.76</td>\n",
       "      <td>4.5</td>\n",
       "    </tr>\n",
       "    <tr>\n",
       "      <th>4</th>\n",
       "      <td>319-50-3348</td>\n",
       "      <td>B</td>\n",
       "      <td>Abuja</td>\n",
       "      <td>Normal</td>\n",
       "      <td>Female</td>\n",
       "      <td>Home and lifestyle</td>\n",
       "      <td>14508.0</td>\n",
       "      <td>2</td>\n",
       "      <td>1450.80</td>\n",
       "      <td>30466.80</td>\n",
       "      <td>3/11/2019</td>\n",
       "      <td>15:30</td>\n",
       "      <td>Epay</td>\n",
       "      <td>29016.0</td>\n",
       "      <td>4.761905</td>\n",
       "      <td>1450.80</td>\n",
       "      <td>4.4</td>\n",
       "    </tr>\n",
       "  </tbody>\n",
       "</table>\n",
       "</div>"
      ],
      "text/plain": [
       "    Invoice ID Branch   City Customer type  Gender            Product line  \\\n",
       "0  692-92-5582      B  Abuja        Member  Female      Food and beverages   \n",
       "1  351-62-0822      B  Abuja        Member  Female     Fashion accessories   \n",
       "2  529-56-3974      B  Abuja        Member    Male  Electronic accessories   \n",
       "3  299-46-1805      B  Abuja        Member  Female       Sports and travel   \n",
       "4  319-50-3348      B  Abuja        Normal  Female      Home and lifestyle   \n",
       "\n",
       "   Unit price  Quantity    Tax 5%      Total       Date   Time Payment  \\\n",
       "0     19742.4         3   2961.36   62188.56  2/20/2019  13:27    Card   \n",
       "1      5212.8         4   1042.56   21893.76   2/6/2019  18:07    Epay   \n",
       "2      9183.6         4   1836.72   38571.12   3/9/2019  17:03    Cash   \n",
       "3     33739.2         6  10121.76  212556.96  1/15/2019  16:19    Cash   \n",
       "4     14508.0         2   1450.80   30466.80  3/11/2019  15:30    Epay   \n",
       "\n",
       "       cogs  gross margin percentage  gross income  Rating  \n",
       "0   59227.2                 4.761905       2961.36     5.9  \n",
       "1   20851.2                 4.761905       1042.56     4.5  \n",
       "2   36734.4                 4.761905       1836.72     6.8  \n",
       "3  202435.2                 4.761905      10121.76     4.5  \n",
       "4   29016.0                 4.761905       1450.80     4.4  "
      ]
     },
     "execution_count": 7,
     "metadata": {},
     "output_type": "execute_result"
    }
   ],
   "source": [
    "dff.head()"
   ]
  },
  {
   "cell_type": "code",
   "execution_count": 8,
   "id": "aebe8fae",
   "metadata": {},
   "outputs": [],
   "source": [
    "Newdataset = ['df1', 'df2', 'df3']"
   ]
  },
  {
   "cell_type": "code",
   "execution_count": 9,
   "id": "c914f4e9",
   "metadata": {},
   "outputs": [],
   "source": [
    "dff.to_csv('Newdataset.csv')"
   ]
  },
  {
   "cell_type": "code",
   "execution_count": 10,
   "id": "bb9f4c14",
   "metadata": {},
   "outputs": [],
   "source": [
    "dff = pd.read_csv('Newdataset.csv')"
   ]
  },
  {
   "cell_type": "code",
   "execution_count": 11,
   "id": "6a30ef4d",
   "metadata": {},
   "outputs": [
    {
     "data": {
      "text/html": [
       "<div>\n",
       "<style scoped>\n",
       "    .dataframe tbody tr th:only-of-type {\n",
       "        vertical-align: middle;\n",
       "    }\n",
       "\n",
       "    .dataframe tbody tr th {\n",
       "        vertical-align: top;\n",
       "    }\n",
       "\n",
       "    .dataframe thead th {\n",
       "        text-align: right;\n",
       "    }\n",
       "</style>\n",
       "<table border=\"1\" class=\"dataframe\">\n",
       "  <thead>\n",
       "    <tr style=\"text-align: right;\">\n",
       "      <th></th>\n",
       "      <th>Unnamed: 0</th>\n",
       "      <th>Invoice ID</th>\n",
       "      <th>Branch</th>\n",
       "      <th>City</th>\n",
       "      <th>Customer type</th>\n",
       "      <th>Gender</th>\n",
       "      <th>Product line</th>\n",
       "      <th>Unit price</th>\n",
       "      <th>Quantity</th>\n",
       "      <th>Tax 5%</th>\n",
       "      <th>Total</th>\n",
       "      <th>Date</th>\n",
       "      <th>Time</th>\n",
       "      <th>Payment</th>\n",
       "      <th>cogs</th>\n",
       "      <th>gross margin percentage</th>\n",
       "      <th>gross income</th>\n",
       "      <th>Rating</th>\n",
       "    </tr>\n",
       "  </thead>\n",
       "  <tbody>\n",
       "    <tr>\n",
       "      <th>0</th>\n",
       "      <td>0</td>\n",
       "      <td>692-92-5582</td>\n",
       "      <td>B</td>\n",
       "      <td>Abuja</td>\n",
       "      <td>Member</td>\n",
       "      <td>Female</td>\n",
       "      <td>Food and beverages</td>\n",
       "      <td>19742.4</td>\n",
       "      <td>3</td>\n",
       "      <td>2961.36</td>\n",
       "      <td>62188.56</td>\n",
       "      <td>2/20/2019</td>\n",
       "      <td>13:27</td>\n",
       "      <td>Card</td>\n",
       "      <td>59227.2</td>\n",
       "      <td>4.761905</td>\n",
       "      <td>2961.36</td>\n",
       "      <td>5.9</td>\n",
       "    </tr>\n",
       "    <tr>\n",
       "      <th>1</th>\n",
       "      <td>1</td>\n",
       "      <td>351-62-0822</td>\n",
       "      <td>B</td>\n",
       "      <td>Abuja</td>\n",
       "      <td>Member</td>\n",
       "      <td>Female</td>\n",
       "      <td>Fashion accessories</td>\n",
       "      <td>5212.8</td>\n",
       "      <td>4</td>\n",
       "      <td>1042.56</td>\n",
       "      <td>21893.76</td>\n",
       "      <td>2/6/2019</td>\n",
       "      <td>18:07</td>\n",
       "      <td>Epay</td>\n",
       "      <td>20851.2</td>\n",
       "      <td>4.761905</td>\n",
       "      <td>1042.56</td>\n",
       "      <td>4.5</td>\n",
       "    </tr>\n",
       "    <tr>\n",
       "      <th>2</th>\n",
       "      <td>2</td>\n",
       "      <td>529-56-3974</td>\n",
       "      <td>B</td>\n",
       "      <td>Abuja</td>\n",
       "      <td>Member</td>\n",
       "      <td>Male</td>\n",
       "      <td>Electronic accessories</td>\n",
       "      <td>9183.6</td>\n",
       "      <td>4</td>\n",
       "      <td>1836.72</td>\n",
       "      <td>38571.12</td>\n",
       "      <td>3/9/2019</td>\n",
       "      <td>17:03</td>\n",
       "      <td>Cash</td>\n",
       "      <td>36734.4</td>\n",
       "      <td>4.761905</td>\n",
       "      <td>1836.72</td>\n",
       "      <td>6.8</td>\n",
       "    </tr>\n",
       "    <tr>\n",
       "      <th>3</th>\n",
       "      <td>3</td>\n",
       "      <td>299-46-1805</td>\n",
       "      <td>B</td>\n",
       "      <td>Abuja</td>\n",
       "      <td>Member</td>\n",
       "      <td>Female</td>\n",
       "      <td>Sports and travel</td>\n",
       "      <td>33739.2</td>\n",
       "      <td>6</td>\n",
       "      <td>10121.76</td>\n",
       "      <td>212556.96</td>\n",
       "      <td>1/15/2019</td>\n",
       "      <td>16:19</td>\n",
       "      <td>Cash</td>\n",
       "      <td>202435.2</td>\n",
       "      <td>4.761905</td>\n",
       "      <td>10121.76</td>\n",
       "      <td>4.5</td>\n",
       "    </tr>\n",
       "    <tr>\n",
       "      <th>4</th>\n",
       "      <td>4</td>\n",
       "      <td>319-50-3348</td>\n",
       "      <td>B</td>\n",
       "      <td>Abuja</td>\n",
       "      <td>Normal</td>\n",
       "      <td>Female</td>\n",
       "      <td>Home and lifestyle</td>\n",
       "      <td>14508.0</td>\n",
       "      <td>2</td>\n",
       "      <td>1450.80</td>\n",
       "      <td>30466.80</td>\n",
       "      <td>3/11/2019</td>\n",
       "      <td>15:30</td>\n",
       "      <td>Epay</td>\n",
       "      <td>29016.0</td>\n",
       "      <td>4.761905</td>\n",
       "      <td>1450.80</td>\n",
       "      <td>4.4</td>\n",
       "    </tr>\n",
       "  </tbody>\n",
       "</table>\n",
       "</div>"
      ],
      "text/plain": [
       "   Unnamed: 0   Invoice ID Branch   City Customer type  Gender  \\\n",
       "0           0  692-92-5582      B  Abuja        Member  Female   \n",
       "1           1  351-62-0822      B  Abuja        Member  Female   \n",
       "2           2  529-56-3974      B  Abuja        Member    Male   \n",
       "3           3  299-46-1805      B  Abuja        Member  Female   \n",
       "4           4  319-50-3348      B  Abuja        Normal  Female   \n",
       "\n",
       "             Product line  Unit price  Quantity    Tax 5%      Total  \\\n",
       "0      Food and beverages     19742.4         3   2961.36   62188.56   \n",
       "1     Fashion accessories      5212.8         4   1042.56   21893.76   \n",
       "2  Electronic accessories      9183.6         4   1836.72   38571.12   \n",
       "3       Sports and travel     33739.2         6  10121.76  212556.96   \n",
       "4      Home and lifestyle     14508.0         2   1450.80   30466.80   \n",
       "\n",
       "        Date   Time Payment      cogs  gross margin percentage  gross income  \\\n",
       "0  2/20/2019  13:27    Card   59227.2                 4.761905       2961.36   \n",
       "1   2/6/2019  18:07    Epay   20851.2                 4.761905       1042.56   \n",
       "2   3/9/2019  17:03    Cash   36734.4                 4.761905       1836.72   \n",
       "3  1/15/2019  16:19    Cash  202435.2                 4.761905      10121.76   \n",
       "4  3/11/2019  15:30    Epay   29016.0                 4.761905       1450.80   \n",
       "\n",
       "   Rating  \n",
       "0     5.9  \n",
       "1     4.5  \n",
       "2     6.8  \n",
       "3     4.5  \n",
       "4     4.4  "
      ]
     },
     "execution_count": 11,
     "metadata": {},
     "output_type": "execute_result"
    }
   ],
   "source": [
    "dff.head()"
   ]
  },
  {
   "cell_type": "markdown",
   "id": "6c0312a8",
   "metadata": {},
   "source": [
    "# Step 2-Data Exploration"
   ]
  },
  {
   "cell_type": "code",
   "execution_count": 12,
   "id": "09d16df7",
   "metadata": {},
   "outputs": [],
   "source": [
    "import pandas as pd\n",
    "import numpy as np\n",
    "import seaborn as sns\n",
    "import matplotlib.pyplot as plt\n",
    "%matplotlib inline\n",
    "plt.style.use('fivethirtyeight')\n",
    "import warnings\n",
    "warnings.filterwarnings('ignore')"
   ]
  },
  {
   "cell_type": "code",
   "execution_count": 13,
   "id": "de10a15c",
   "metadata": {},
   "outputs": [],
   "source": [
    "dff = pd.read_csv('Newdataset.csv')"
   ]
  },
  {
   "cell_type": "code",
   "execution_count": 14,
   "id": "94164f4a",
   "metadata": {},
   "outputs": [
    {
     "data": {
      "text/html": [
       "<div>\n",
       "<style scoped>\n",
       "    .dataframe tbody tr th:only-of-type {\n",
       "        vertical-align: middle;\n",
       "    }\n",
       "\n",
       "    .dataframe tbody tr th {\n",
       "        vertical-align: top;\n",
       "    }\n",
       "\n",
       "    .dataframe thead th {\n",
       "        text-align: right;\n",
       "    }\n",
       "</style>\n",
       "<table border=\"1\" class=\"dataframe\">\n",
       "  <thead>\n",
       "    <tr style=\"text-align: right;\">\n",
       "      <th></th>\n",
       "      <th>Unnamed: 0</th>\n",
       "      <th>Invoice ID</th>\n",
       "      <th>Branch</th>\n",
       "      <th>City</th>\n",
       "      <th>Customer type</th>\n",
       "      <th>Gender</th>\n",
       "      <th>Product line</th>\n",
       "      <th>Unit price</th>\n",
       "      <th>Quantity</th>\n",
       "      <th>Tax 5%</th>\n",
       "      <th>Total</th>\n",
       "      <th>Date</th>\n",
       "      <th>Time</th>\n",
       "      <th>Payment</th>\n",
       "      <th>cogs</th>\n",
       "      <th>gross margin percentage</th>\n",
       "      <th>gross income</th>\n",
       "      <th>Rating</th>\n",
       "    </tr>\n",
       "  </thead>\n",
       "  <tbody>\n",
       "    <tr>\n",
       "      <th>0</th>\n",
       "      <td>0</td>\n",
       "      <td>692-92-5582</td>\n",
       "      <td>B</td>\n",
       "      <td>Abuja</td>\n",
       "      <td>Member</td>\n",
       "      <td>Female</td>\n",
       "      <td>Food and beverages</td>\n",
       "      <td>19742.4</td>\n",
       "      <td>3</td>\n",
       "      <td>2961.36</td>\n",
       "      <td>62188.56</td>\n",
       "      <td>2/20/2019</td>\n",
       "      <td>13:27</td>\n",
       "      <td>Card</td>\n",
       "      <td>59227.2</td>\n",
       "      <td>4.761905</td>\n",
       "      <td>2961.36</td>\n",
       "      <td>5.9</td>\n",
       "    </tr>\n",
       "    <tr>\n",
       "      <th>1</th>\n",
       "      <td>1</td>\n",
       "      <td>351-62-0822</td>\n",
       "      <td>B</td>\n",
       "      <td>Abuja</td>\n",
       "      <td>Member</td>\n",
       "      <td>Female</td>\n",
       "      <td>Fashion accessories</td>\n",
       "      <td>5212.8</td>\n",
       "      <td>4</td>\n",
       "      <td>1042.56</td>\n",
       "      <td>21893.76</td>\n",
       "      <td>2/6/2019</td>\n",
       "      <td>18:07</td>\n",
       "      <td>Epay</td>\n",
       "      <td>20851.2</td>\n",
       "      <td>4.761905</td>\n",
       "      <td>1042.56</td>\n",
       "      <td>4.5</td>\n",
       "    </tr>\n",
       "    <tr>\n",
       "      <th>2</th>\n",
       "      <td>2</td>\n",
       "      <td>529-56-3974</td>\n",
       "      <td>B</td>\n",
       "      <td>Abuja</td>\n",
       "      <td>Member</td>\n",
       "      <td>Male</td>\n",
       "      <td>Electronic accessories</td>\n",
       "      <td>9183.6</td>\n",
       "      <td>4</td>\n",
       "      <td>1836.72</td>\n",
       "      <td>38571.12</td>\n",
       "      <td>3/9/2019</td>\n",
       "      <td>17:03</td>\n",
       "      <td>Cash</td>\n",
       "      <td>36734.4</td>\n",
       "      <td>4.761905</td>\n",
       "      <td>1836.72</td>\n",
       "      <td>6.8</td>\n",
       "    </tr>\n",
       "    <tr>\n",
       "      <th>3</th>\n",
       "      <td>3</td>\n",
       "      <td>299-46-1805</td>\n",
       "      <td>B</td>\n",
       "      <td>Abuja</td>\n",
       "      <td>Member</td>\n",
       "      <td>Female</td>\n",
       "      <td>Sports and travel</td>\n",
       "      <td>33739.2</td>\n",
       "      <td>6</td>\n",
       "      <td>10121.76</td>\n",
       "      <td>212556.96</td>\n",
       "      <td>1/15/2019</td>\n",
       "      <td>16:19</td>\n",
       "      <td>Cash</td>\n",
       "      <td>202435.2</td>\n",
       "      <td>4.761905</td>\n",
       "      <td>10121.76</td>\n",
       "      <td>4.5</td>\n",
       "    </tr>\n",
       "    <tr>\n",
       "      <th>4</th>\n",
       "      <td>4</td>\n",
       "      <td>319-50-3348</td>\n",
       "      <td>B</td>\n",
       "      <td>Abuja</td>\n",
       "      <td>Normal</td>\n",
       "      <td>Female</td>\n",
       "      <td>Home and lifestyle</td>\n",
       "      <td>14508.0</td>\n",
       "      <td>2</td>\n",
       "      <td>1450.80</td>\n",
       "      <td>30466.80</td>\n",
       "      <td>3/11/2019</td>\n",
       "      <td>15:30</td>\n",
       "      <td>Epay</td>\n",
       "      <td>29016.0</td>\n",
       "      <td>4.761905</td>\n",
       "      <td>1450.80</td>\n",
       "      <td>4.4</td>\n",
       "    </tr>\n",
       "  </tbody>\n",
       "</table>\n",
       "</div>"
      ],
      "text/plain": [
       "   Unnamed: 0   Invoice ID Branch   City Customer type  Gender  \\\n",
       "0           0  692-92-5582      B  Abuja        Member  Female   \n",
       "1           1  351-62-0822      B  Abuja        Member  Female   \n",
       "2           2  529-56-3974      B  Abuja        Member    Male   \n",
       "3           3  299-46-1805      B  Abuja        Member  Female   \n",
       "4           4  319-50-3348      B  Abuja        Normal  Female   \n",
       "\n",
       "             Product line  Unit price  Quantity    Tax 5%      Total  \\\n",
       "0      Food and beverages     19742.4         3   2961.36   62188.56   \n",
       "1     Fashion accessories      5212.8         4   1042.56   21893.76   \n",
       "2  Electronic accessories      9183.6         4   1836.72   38571.12   \n",
       "3       Sports and travel     33739.2         6  10121.76  212556.96   \n",
       "4      Home and lifestyle     14508.0         2   1450.80   30466.80   \n",
       "\n",
       "        Date   Time Payment      cogs  gross margin percentage  gross income  \\\n",
       "0  2/20/2019  13:27    Card   59227.2                 4.761905       2961.36   \n",
       "1   2/6/2019  18:07    Epay   20851.2                 4.761905       1042.56   \n",
       "2   3/9/2019  17:03    Cash   36734.4                 4.761905       1836.72   \n",
       "3  1/15/2019  16:19    Cash  202435.2                 4.761905      10121.76   \n",
       "4  3/11/2019  15:30    Epay   29016.0                 4.761905       1450.80   \n",
       "\n",
       "   Rating  \n",
       "0     5.9  \n",
       "1     4.5  \n",
       "2     6.8  \n",
       "3     4.5  \n",
       "4     4.4  "
      ]
     },
     "execution_count": 14,
     "metadata": {},
     "output_type": "execute_result"
    }
   ],
   "source": [
    "dff.head()"
   ]
  },
  {
   "cell_type": "markdown",
   "id": "2f917929",
   "metadata": {},
   "source": [
    "# Number of Rows and Columns"
   ]
  },
  {
   "cell_type": "code",
   "execution_count": 15,
   "id": "fe03669a",
   "metadata": {},
   "outputs": [
    {
     "name": "stdout",
     "output_type": "stream",
     "text": [
      "Number of Rows 1000\n",
      "Number of Columns 18\n"
     ]
    }
   ],
   "source": [
    "print('Number of Rows', dff.shape[0])\n",
    "print('Number of Columns', dff.shape[1])"
   ]
  },
  {
   "cell_type": "markdown",
   "id": "ddf51028",
   "metadata": {},
   "source": [
    "# Names of The Columns"
   ]
  },
  {
   "cell_type": "code",
   "execution_count": 16,
   "id": "65da1c4b",
   "metadata": {},
   "outputs": [
    {
     "data": {
      "text/plain": [
       "Index(['Unnamed: 0', 'Invoice ID', 'Branch', 'City', 'Customer type', 'Gender',\n",
       "       'Product line', 'Unit price', 'Quantity', 'Tax 5%', 'Total', 'Date',\n",
       "       'Time', 'Payment', 'cogs', 'gross margin percentage', 'gross income',\n",
       "       'Rating'],\n",
       "      dtype='object')"
      ]
     },
     "execution_count": 16,
     "metadata": {},
     "output_type": "execute_result"
    }
   ],
   "source": [
    "dff.columns"
   ]
  },
  {
   "cell_type": "markdown",
   "id": "464f0d68",
   "metadata": {},
   "source": [
    "# Data Statistical Summary"
   ]
  },
  {
   "cell_type": "code",
   "execution_count": 17,
   "id": "7f8b74bc",
   "metadata": {},
   "outputs": [
    {
     "data": {
      "text/html": [
       "<div>\n",
       "<style scoped>\n",
       "    .dataframe tbody tr th:only-of-type {\n",
       "        vertical-align: middle;\n",
       "    }\n",
       "\n",
       "    .dataframe tbody tr th {\n",
       "        vertical-align: top;\n",
       "    }\n",
       "\n",
       "    .dataframe thead th {\n",
       "        text-align: right;\n",
       "    }\n",
       "</style>\n",
       "<table border=\"1\" class=\"dataframe\">\n",
       "  <thead>\n",
       "    <tr style=\"text-align: right;\">\n",
       "      <th></th>\n",
       "      <th>Unnamed: 0</th>\n",
       "      <th>Unit price</th>\n",
       "      <th>Quantity</th>\n",
       "      <th>Tax 5%</th>\n",
       "      <th>Total</th>\n",
       "      <th>cogs</th>\n",
       "      <th>gross margin percentage</th>\n",
       "      <th>gross income</th>\n",
       "      <th>Rating</th>\n",
       "    </tr>\n",
       "  </thead>\n",
       "  <tbody>\n",
       "    <tr>\n",
       "      <th>count</th>\n",
       "      <td>1000.000000</td>\n",
       "      <td>1000.000000</td>\n",
       "      <td>1000.000000</td>\n",
       "      <td>1000.000000</td>\n",
       "      <td>1000.000000</td>\n",
       "      <td>1000.000000</td>\n",
       "      <td>1.000000e+03</td>\n",
       "      <td>1000.000000</td>\n",
       "      <td>1000.00000</td>\n",
       "    </tr>\n",
       "    <tr>\n",
       "      <th>mean</th>\n",
       "      <td>166.204000</td>\n",
       "      <td>20041.966800</td>\n",
       "      <td>5.510000</td>\n",
       "      <td>5536.572840</td>\n",
       "      <td>116268.029640</td>\n",
       "      <td>110731.456800</td>\n",
       "      <td>4.761905e+00</td>\n",
       "      <td>5536.572840</td>\n",
       "      <td>6.97270</td>\n",
       "    </tr>\n",
       "    <tr>\n",
       "      <th>std</th>\n",
       "      <td>96.337673</td>\n",
       "      <td>9538.066205</td>\n",
       "      <td>2.923431</td>\n",
       "      <td>4215.177173</td>\n",
       "      <td>88518.720636</td>\n",
       "      <td>84303.543463</td>\n",
       "      <td>6.131498e-14</td>\n",
       "      <td>4215.177173</td>\n",
       "      <td>1.71858</td>\n",
       "    </tr>\n",
       "    <tr>\n",
       "      <th>min</th>\n",
       "      <td>0.000000</td>\n",
       "      <td>3628.800000</td>\n",
       "      <td>1.000000</td>\n",
       "      <td>183.060000</td>\n",
       "      <td>3844.260000</td>\n",
       "      <td>3661.200000</td>\n",
       "      <td>4.761905e+00</td>\n",
       "      <td>183.060000</td>\n",
       "      <td>4.00000</td>\n",
       "    </tr>\n",
       "    <tr>\n",
       "      <th>25%</th>\n",
       "      <td>83.000000</td>\n",
       "      <td>11835.000000</td>\n",
       "      <td>3.000000</td>\n",
       "      <td>2132.955000</td>\n",
       "      <td>44792.055000</td>\n",
       "      <td>42659.100000</td>\n",
       "      <td>4.761905e+00</td>\n",
       "      <td>2132.955000</td>\n",
       "      <td>5.50000</td>\n",
       "    </tr>\n",
       "    <tr>\n",
       "      <th>50%</th>\n",
       "      <td>166.000000</td>\n",
       "      <td>19882.800000</td>\n",
       "      <td>5.000000</td>\n",
       "      <td>4351.680000</td>\n",
       "      <td>91385.280000</td>\n",
       "      <td>87033.600000</td>\n",
       "      <td>4.761905e+00</td>\n",
       "      <td>4351.680000</td>\n",
       "      <td>7.00000</td>\n",
       "    </tr>\n",
       "    <tr>\n",
       "      <th>75%</th>\n",
       "      <td>249.250000</td>\n",
       "      <td>28056.600000</td>\n",
       "      <td>8.000000</td>\n",
       "      <td>8080.290000</td>\n",
       "      <td>169686.090000</td>\n",
       "      <td>161605.800000</td>\n",
       "      <td>4.761905e+00</td>\n",
       "      <td>8080.290000</td>\n",
       "      <td>8.50000</td>\n",
       "    </tr>\n",
       "    <tr>\n",
       "      <th>max</th>\n",
       "      <td>339.000000</td>\n",
       "      <td>35985.600000</td>\n",
       "      <td>10.000000</td>\n",
       "      <td>17874.000000</td>\n",
       "      <td>375354.000000</td>\n",
       "      <td>357480.000000</td>\n",
       "      <td>4.761905e+00</td>\n",
       "      <td>17874.000000</td>\n",
       "      <td>10.00000</td>\n",
       "    </tr>\n",
       "  </tbody>\n",
       "</table>\n",
       "</div>"
      ],
      "text/plain": [
       "        Unnamed: 0    Unit price     Quantity        Tax 5%          Total  \\\n",
       "count  1000.000000   1000.000000  1000.000000   1000.000000    1000.000000   \n",
       "mean    166.204000  20041.966800     5.510000   5536.572840  116268.029640   \n",
       "std      96.337673   9538.066205     2.923431   4215.177173   88518.720636   \n",
       "min       0.000000   3628.800000     1.000000    183.060000    3844.260000   \n",
       "25%      83.000000  11835.000000     3.000000   2132.955000   44792.055000   \n",
       "50%     166.000000  19882.800000     5.000000   4351.680000   91385.280000   \n",
       "75%     249.250000  28056.600000     8.000000   8080.290000  169686.090000   \n",
       "max     339.000000  35985.600000    10.000000  17874.000000  375354.000000   \n",
       "\n",
       "                cogs  gross margin percentage  gross income      Rating  \n",
       "count    1000.000000             1.000000e+03   1000.000000  1000.00000  \n",
       "mean   110731.456800             4.761905e+00   5536.572840     6.97270  \n",
       "std     84303.543463             6.131498e-14   4215.177173     1.71858  \n",
       "min      3661.200000             4.761905e+00    183.060000     4.00000  \n",
       "25%     42659.100000             4.761905e+00   2132.955000     5.50000  \n",
       "50%     87033.600000             4.761905e+00   4351.680000     7.00000  \n",
       "75%    161605.800000             4.761905e+00   8080.290000     8.50000  \n",
       "max    357480.000000             4.761905e+00  17874.000000    10.00000  "
      ]
     },
     "execution_count": 17,
     "metadata": {},
     "output_type": "execute_result"
    }
   ],
   "source": [
    "dff.describe()"
   ]
  },
  {
   "cell_type": "markdown",
   "id": "6fe80d37",
   "metadata": {},
   "source": [
    "#### This Data Statistical Summary highlights the aggregation of each row and column such as count, mean, standard deviation, minimum value, maximum value, 1st percentile, 2nd percentile and 3rd percentile respectively."
   ]
  },
  {
   "cell_type": "markdown",
   "id": "7e65d4d1",
   "metadata": {},
   "source": [
    "# Missing Values"
   ]
  },
  {
   "cell_type": "code",
   "execution_count": 18,
   "id": "faf9ec0c",
   "metadata": {},
   "outputs": [
    {
     "data": {
      "text/plain": [
       "Unnamed: 0                 0\n",
       "Invoice ID                 0\n",
       "Branch                     0\n",
       "City                       0\n",
       "Customer type              0\n",
       "Gender                     0\n",
       "Product line               0\n",
       "Unit price                 0\n",
       "Quantity                   0\n",
       "Tax 5%                     0\n",
       "Total                      0\n",
       "Date                       0\n",
       "Time                       0\n",
       "Payment                    0\n",
       "cogs                       0\n",
       "gross margin percentage    0\n",
       "gross income               0\n",
       "Rating                     0\n",
       "dtype: int64"
      ]
     },
     "execution_count": 18,
     "metadata": {},
     "output_type": "execute_result"
    }
   ],
   "source": [
    "dff.isnull().sum()"
   ]
  },
  {
   "cell_type": "code",
   "execution_count": 19,
   "id": "cfbf149e",
   "metadata": {},
   "outputs": [
    {
     "data": {
      "text/plain": [
       "Unnamed: 0                 1000\n",
       "Invoice ID                 1000\n",
       "Branch                     1000\n",
       "City                       1000\n",
       "Customer type              1000\n",
       "Gender                     1000\n",
       "Product line               1000\n",
       "Unit price                 1000\n",
       "Quantity                   1000\n",
       "Tax 5%                     1000\n",
       "Total                      1000\n",
       "Date                       1000\n",
       "Time                       1000\n",
       "Payment                    1000\n",
       "cogs                       1000\n",
       "gross margin percentage    1000\n",
       "gross income               1000\n",
       "Rating                     1000\n",
       "dtype: int64"
      ]
     },
     "execution_count": 19,
     "metadata": {},
     "output_type": "execute_result"
    }
   ],
   "source": [
    "dff.notna().sum()"
   ]
  },
  {
   "cell_type": "markdown",
   "id": "1ba4b698",
   "metadata": {},
   "source": [
    "# Data Information"
   ]
  },
  {
   "cell_type": "code",
   "execution_count": 20,
   "id": "c4a94fa8",
   "metadata": {},
   "outputs": [
    {
     "name": "stdout",
     "output_type": "stream",
     "text": [
      "<class 'pandas.core.frame.DataFrame'>\n",
      "RangeIndex: 1000 entries, 0 to 999\n",
      "Data columns (total 18 columns):\n",
      " #   Column                   Non-Null Count  Dtype  \n",
      "---  ------                   --------------  -----  \n",
      " 0   Unnamed: 0               1000 non-null   int64  \n",
      " 1   Invoice ID               1000 non-null   object \n",
      " 2   Branch                   1000 non-null   object \n",
      " 3   City                     1000 non-null   object \n",
      " 4   Customer type            1000 non-null   object \n",
      " 5   Gender                   1000 non-null   object \n",
      " 6   Product line             1000 non-null   object \n",
      " 7   Unit price               1000 non-null   float64\n",
      " 8   Quantity                 1000 non-null   int64  \n",
      " 9   Tax 5%                   1000 non-null   float64\n",
      " 10  Total                    1000 non-null   float64\n",
      " 11  Date                     1000 non-null   object \n",
      " 12  Time                     1000 non-null   object \n",
      " 13  Payment                  1000 non-null   object \n",
      " 14  cogs                     1000 non-null   float64\n",
      " 15  gross margin percentage  1000 non-null   float64\n",
      " 16  gross income             1000 non-null   float64\n",
      " 17  Rating                   1000 non-null   float64\n",
      "dtypes: float64(7), int64(2), object(9)\n",
      "memory usage: 140.8+ KB\n"
     ]
    }
   ],
   "source": [
    "dff.info()"
   ]
  },
  {
   "cell_type": "markdown",
   "id": "b3dc0379",
   "metadata": {},
   "source": [
    "# Step 3-Dealing with Datetime Features"
   ]
  },
  {
   "cell_type": "code",
   "execution_count": 21,
   "id": "bb38ef47",
   "metadata": {},
   "outputs": [],
   "source": [
    "import datetime as dt\n",
    "import pandas as pd"
   ]
  },
  {
   "cell_type": "code",
   "execution_count": 22,
   "id": "e30b3f64",
   "metadata": {},
   "outputs": [],
   "source": [
    "dff = pd.read_csv('Newdataset.csv')"
   ]
  },
  {
   "cell_type": "code",
   "execution_count": 23,
   "id": "02b5425b",
   "metadata": {},
   "outputs": [
    {
     "data": {
      "text/html": [
       "<div>\n",
       "<style scoped>\n",
       "    .dataframe tbody tr th:only-of-type {\n",
       "        vertical-align: middle;\n",
       "    }\n",
       "\n",
       "    .dataframe tbody tr th {\n",
       "        vertical-align: top;\n",
       "    }\n",
       "\n",
       "    .dataframe thead th {\n",
       "        text-align: right;\n",
       "    }\n",
       "</style>\n",
       "<table border=\"1\" class=\"dataframe\">\n",
       "  <thead>\n",
       "    <tr style=\"text-align: right;\">\n",
       "      <th></th>\n",
       "      <th>Unnamed: 0</th>\n",
       "      <th>Invoice ID</th>\n",
       "      <th>Branch</th>\n",
       "      <th>City</th>\n",
       "      <th>Customer type</th>\n",
       "      <th>Gender</th>\n",
       "      <th>Product line</th>\n",
       "      <th>Unit price</th>\n",
       "      <th>Quantity</th>\n",
       "      <th>Tax 5%</th>\n",
       "      <th>Total</th>\n",
       "      <th>Date</th>\n",
       "      <th>Time</th>\n",
       "      <th>Payment</th>\n",
       "      <th>cogs</th>\n",
       "      <th>gross margin percentage</th>\n",
       "      <th>gross income</th>\n",
       "      <th>Rating</th>\n",
       "    </tr>\n",
       "  </thead>\n",
       "  <tbody>\n",
       "    <tr>\n",
       "      <th>0</th>\n",
       "      <td>0</td>\n",
       "      <td>692-92-5582</td>\n",
       "      <td>B</td>\n",
       "      <td>Abuja</td>\n",
       "      <td>Member</td>\n",
       "      <td>Female</td>\n",
       "      <td>Food and beverages</td>\n",
       "      <td>19742.4</td>\n",
       "      <td>3</td>\n",
       "      <td>2961.36</td>\n",
       "      <td>62188.56</td>\n",
       "      <td>2/20/2019</td>\n",
       "      <td>13:27</td>\n",
       "      <td>Card</td>\n",
       "      <td>59227.2</td>\n",
       "      <td>4.761905</td>\n",
       "      <td>2961.36</td>\n",
       "      <td>5.9</td>\n",
       "    </tr>\n",
       "    <tr>\n",
       "      <th>1</th>\n",
       "      <td>1</td>\n",
       "      <td>351-62-0822</td>\n",
       "      <td>B</td>\n",
       "      <td>Abuja</td>\n",
       "      <td>Member</td>\n",
       "      <td>Female</td>\n",
       "      <td>Fashion accessories</td>\n",
       "      <td>5212.8</td>\n",
       "      <td>4</td>\n",
       "      <td>1042.56</td>\n",
       "      <td>21893.76</td>\n",
       "      <td>2/6/2019</td>\n",
       "      <td>18:07</td>\n",
       "      <td>Epay</td>\n",
       "      <td>20851.2</td>\n",
       "      <td>4.761905</td>\n",
       "      <td>1042.56</td>\n",
       "      <td>4.5</td>\n",
       "    </tr>\n",
       "    <tr>\n",
       "      <th>2</th>\n",
       "      <td>2</td>\n",
       "      <td>529-56-3974</td>\n",
       "      <td>B</td>\n",
       "      <td>Abuja</td>\n",
       "      <td>Member</td>\n",
       "      <td>Male</td>\n",
       "      <td>Electronic accessories</td>\n",
       "      <td>9183.6</td>\n",
       "      <td>4</td>\n",
       "      <td>1836.72</td>\n",
       "      <td>38571.12</td>\n",
       "      <td>3/9/2019</td>\n",
       "      <td>17:03</td>\n",
       "      <td>Cash</td>\n",
       "      <td>36734.4</td>\n",
       "      <td>4.761905</td>\n",
       "      <td>1836.72</td>\n",
       "      <td>6.8</td>\n",
       "    </tr>\n",
       "    <tr>\n",
       "      <th>3</th>\n",
       "      <td>3</td>\n",
       "      <td>299-46-1805</td>\n",
       "      <td>B</td>\n",
       "      <td>Abuja</td>\n",
       "      <td>Member</td>\n",
       "      <td>Female</td>\n",
       "      <td>Sports and travel</td>\n",
       "      <td>33739.2</td>\n",
       "      <td>6</td>\n",
       "      <td>10121.76</td>\n",
       "      <td>212556.96</td>\n",
       "      <td>1/15/2019</td>\n",
       "      <td>16:19</td>\n",
       "      <td>Cash</td>\n",
       "      <td>202435.2</td>\n",
       "      <td>4.761905</td>\n",
       "      <td>10121.76</td>\n",
       "      <td>4.5</td>\n",
       "    </tr>\n",
       "    <tr>\n",
       "      <th>4</th>\n",
       "      <td>4</td>\n",
       "      <td>319-50-3348</td>\n",
       "      <td>B</td>\n",
       "      <td>Abuja</td>\n",
       "      <td>Normal</td>\n",
       "      <td>Female</td>\n",
       "      <td>Home and lifestyle</td>\n",
       "      <td>14508.0</td>\n",
       "      <td>2</td>\n",
       "      <td>1450.80</td>\n",
       "      <td>30466.80</td>\n",
       "      <td>3/11/2019</td>\n",
       "      <td>15:30</td>\n",
       "      <td>Epay</td>\n",
       "      <td>29016.0</td>\n",
       "      <td>4.761905</td>\n",
       "      <td>1450.80</td>\n",
       "      <td>4.4</td>\n",
       "    </tr>\n",
       "  </tbody>\n",
       "</table>\n",
       "</div>"
      ],
      "text/plain": [
       "   Unnamed: 0   Invoice ID Branch   City Customer type  Gender  \\\n",
       "0           0  692-92-5582      B  Abuja        Member  Female   \n",
       "1           1  351-62-0822      B  Abuja        Member  Female   \n",
       "2           2  529-56-3974      B  Abuja        Member    Male   \n",
       "3           3  299-46-1805      B  Abuja        Member  Female   \n",
       "4           4  319-50-3348      B  Abuja        Normal  Female   \n",
       "\n",
       "             Product line  Unit price  Quantity    Tax 5%      Total  \\\n",
       "0      Food and beverages     19742.4         3   2961.36   62188.56   \n",
       "1     Fashion accessories      5212.8         4   1042.56   21893.76   \n",
       "2  Electronic accessories      9183.6         4   1836.72   38571.12   \n",
       "3       Sports and travel     33739.2         6  10121.76  212556.96   \n",
       "4      Home and lifestyle     14508.0         2   1450.80   30466.80   \n",
       "\n",
       "        Date   Time Payment      cogs  gross margin percentage  gross income  \\\n",
       "0  2/20/2019  13:27    Card   59227.2                 4.761905       2961.36   \n",
       "1   2/6/2019  18:07    Epay   20851.2                 4.761905       1042.56   \n",
       "2   3/9/2019  17:03    Cash   36734.4                 4.761905       1836.72   \n",
       "3  1/15/2019  16:19    Cash  202435.2                 4.761905      10121.76   \n",
       "4  3/11/2019  15:30    Epay   29016.0                 4.761905       1450.80   \n",
       "\n",
       "   Rating  \n",
       "0     5.9  \n",
       "1     4.5  \n",
       "2     6.8  \n",
       "3     4.5  \n",
       "4     4.4  "
      ]
     },
     "execution_count": 23,
     "metadata": {},
     "output_type": "execute_result"
    }
   ],
   "source": [
    "dff.head()"
   ]
  },
  {
   "cell_type": "code",
   "execution_count": 24,
   "id": "8f9bcb96",
   "metadata": {},
   "outputs": [],
   "source": [
    "dff['New_date'] = dff['Date'] + ' ' + dff['Time']"
   ]
  },
  {
   "cell_type": "code",
   "execution_count": 25,
   "id": "7c0db867",
   "metadata": {},
   "outputs": [],
   "source": [
    "dff['New_date'] = pd.to_datetime(dff['New_date'])"
   ]
  },
  {
   "cell_type": "code",
   "execution_count": 26,
   "id": "8aa0ee04",
   "metadata": {},
   "outputs": [
    {
     "data": {
      "text/plain": [
       "0     2019-02-20 13:27:00\n",
       "1     2019-02-06 18:07:00\n",
       "2     2019-03-09 17:03:00\n",
       "3     2019-01-15 16:19:00\n",
       "4     2019-03-11 15:30:00\n",
       "              ...        \n",
       "995   2019-01-23 10:33:00\n",
       "996   2019-01-09 11:40:00\n",
       "997   2019-03-29 19:12:00\n",
       "998   2019-02-18 11:40:00\n",
       "999   2019-01-29 13:46:00\n",
       "Name: New_date, Length: 1000, dtype: datetime64[ns]"
      ]
     },
     "execution_count": 26,
     "metadata": {},
     "output_type": "execute_result"
    }
   ],
   "source": [
    "dff['New_date']"
   ]
  },
  {
   "cell_type": "code",
   "execution_count": 27,
   "id": "cb9928cf",
   "metadata": {},
   "outputs": [],
   "source": [
    "dff['Day'] = dff['New_date'].dt.day"
   ]
  },
  {
   "cell_type": "code",
   "execution_count": 28,
   "id": "50f17139",
   "metadata": {},
   "outputs": [],
   "source": [
    "dff['Month'] = dff['New_date'].dt.month"
   ]
  },
  {
   "cell_type": "code",
   "execution_count": 29,
   "id": "e40bc214",
   "metadata": {},
   "outputs": [],
   "source": [
    "dff['Year'] = dff['New_date'].dt.year"
   ]
  },
  {
   "cell_type": "code",
   "execution_count": 30,
   "id": "cd20c114",
   "metadata": {},
   "outputs": [],
   "source": [
    "dff['Hour'] = dff['New_date'].dt.hour"
   ]
  },
  {
   "cell_type": "code",
   "execution_count": 31,
   "id": "edd60008",
   "metadata": {},
   "outputs": [
    {
     "data": {
      "text/html": [
       "<div>\n",
       "<style scoped>\n",
       "    .dataframe tbody tr th:only-of-type {\n",
       "        vertical-align: middle;\n",
       "    }\n",
       "\n",
       "    .dataframe tbody tr th {\n",
       "        vertical-align: top;\n",
       "    }\n",
       "\n",
       "    .dataframe thead th {\n",
       "        text-align: right;\n",
       "    }\n",
       "</style>\n",
       "<table border=\"1\" class=\"dataframe\">\n",
       "  <thead>\n",
       "    <tr style=\"text-align: right;\">\n",
       "      <th></th>\n",
       "      <th>Unnamed: 0</th>\n",
       "      <th>Invoice ID</th>\n",
       "      <th>Branch</th>\n",
       "      <th>City</th>\n",
       "      <th>Customer type</th>\n",
       "      <th>Gender</th>\n",
       "      <th>Product line</th>\n",
       "      <th>Unit price</th>\n",
       "      <th>Quantity</th>\n",
       "      <th>Tax 5%</th>\n",
       "      <th>...</th>\n",
       "      <th>Payment</th>\n",
       "      <th>cogs</th>\n",
       "      <th>gross margin percentage</th>\n",
       "      <th>gross income</th>\n",
       "      <th>Rating</th>\n",
       "      <th>New_date</th>\n",
       "      <th>Day</th>\n",
       "      <th>Month</th>\n",
       "      <th>Year</th>\n",
       "      <th>Hour</th>\n",
       "    </tr>\n",
       "  </thead>\n",
       "  <tbody>\n",
       "    <tr>\n",
       "      <th>0</th>\n",
       "      <td>0</td>\n",
       "      <td>692-92-5582</td>\n",
       "      <td>B</td>\n",
       "      <td>Abuja</td>\n",
       "      <td>Member</td>\n",
       "      <td>Female</td>\n",
       "      <td>Food and beverages</td>\n",
       "      <td>19742.4</td>\n",
       "      <td>3</td>\n",
       "      <td>2961.36</td>\n",
       "      <td>...</td>\n",
       "      <td>Card</td>\n",
       "      <td>59227.2</td>\n",
       "      <td>4.761905</td>\n",
       "      <td>2961.36</td>\n",
       "      <td>5.9</td>\n",
       "      <td>2019-02-20 13:27:00</td>\n",
       "      <td>20</td>\n",
       "      <td>2</td>\n",
       "      <td>2019</td>\n",
       "      <td>13</td>\n",
       "    </tr>\n",
       "    <tr>\n",
       "      <th>1</th>\n",
       "      <td>1</td>\n",
       "      <td>351-62-0822</td>\n",
       "      <td>B</td>\n",
       "      <td>Abuja</td>\n",
       "      <td>Member</td>\n",
       "      <td>Female</td>\n",
       "      <td>Fashion accessories</td>\n",
       "      <td>5212.8</td>\n",
       "      <td>4</td>\n",
       "      <td>1042.56</td>\n",
       "      <td>...</td>\n",
       "      <td>Epay</td>\n",
       "      <td>20851.2</td>\n",
       "      <td>4.761905</td>\n",
       "      <td>1042.56</td>\n",
       "      <td>4.5</td>\n",
       "      <td>2019-02-06 18:07:00</td>\n",
       "      <td>6</td>\n",
       "      <td>2</td>\n",
       "      <td>2019</td>\n",
       "      <td>18</td>\n",
       "    </tr>\n",
       "    <tr>\n",
       "      <th>2</th>\n",
       "      <td>2</td>\n",
       "      <td>529-56-3974</td>\n",
       "      <td>B</td>\n",
       "      <td>Abuja</td>\n",
       "      <td>Member</td>\n",
       "      <td>Male</td>\n",
       "      <td>Electronic accessories</td>\n",
       "      <td>9183.6</td>\n",
       "      <td>4</td>\n",
       "      <td>1836.72</td>\n",
       "      <td>...</td>\n",
       "      <td>Cash</td>\n",
       "      <td>36734.4</td>\n",
       "      <td>4.761905</td>\n",
       "      <td>1836.72</td>\n",
       "      <td>6.8</td>\n",
       "      <td>2019-03-09 17:03:00</td>\n",
       "      <td>9</td>\n",
       "      <td>3</td>\n",
       "      <td>2019</td>\n",
       "      <td>17</td>\n",
       "    </tr>\n",
       "    <tr>\n",
       "      <th>3</th>\n",
       "      <td>3</td>\n",
       "      <td>299-46-1805</td>\n",
       "      <td>B</td>\n",
       "      <td>Abuja</td>\n",
       "      <td>Member</td>\n",
       "      <td>Female</td>\n",
       "      <td>Sports and travel</td>\n",
       "      <td>33739.2</td>\n",
       "      <td>6</td>\n",
       "      <td>10121.76</td>\n",
       "      <td>...</td>\n",
       "      <td>Cash</td>\n",
       "      <td>202435.2</td>\n",
       "      <td>4.761905</td>\n",
       "      <td>10121.76</td>\n",
       "      <td>4.5</td>\n",
       "      <td>2019-01-15 16:19:00</td>\n",
       "      <td>15</td>\n",
       "      <td>1</td>\n",
       "      <td>2019</td>\n",
       "      <td>16</td>\n",
       "    </tr>\n",
       "    <tr>\n",
       "      <th>4</th>\n",
       "      <td>4</td>\n",
       "      <td>319-50-3348</td>\n",
       "      <td>B</td>\n",
       "      <td>Abuja</td>\n",
       "      <td>Normal</td>\n",
       "      <td>Female</td>\n",
       "      <td>Home and lifestyle</td>\n",
       "      <td>14508.0</td>\n",
       "      <td>2</td>\n",
       "      <td>1450.80</td>\n",
       "      <td>...</td>\n",
       "      <td>Epay</td>\n",
       "      <td>29016.0</td>\n",
       "      <td>4.761905</td>\n",
       "      <td>1450.80</td>\n",
       "      <td>4.4</td>\n",
       "      <td>2019-03-11 15:30:00</td>\n",
       "      <td>11</td>\n",
       "      <td>3</td>\n",
       "      <td>2019</td>\n",
       "      <td>15</td>\n",
       "    </tr>\n",
       "  </tbody>\n",
       "</table>\n",
       "<p>5 rows × 23 columns</p>\n",
       "</div>"
      ],
      "text/plain": [
       "   Unnamed: 0   Invoice ID Branch   City Customer type  Gender  \\\n",
       "0           0  692-92-5582      B  Abuja        Member  Female   \n",
       "1           1  351-62-0822      B  Abuja        Member  Female   \n",
       "2           2  529-56-3974      B  Abuja        Member    Male   \n",
       "3           3  299-46-1805      B  Abuja        Member  Female   \n",
       "4           4  319-50-3348      B  Abuja        Normal  Female   \n",
       "\n",
       "             Product line  Unit price  Quantity    Tax 5%  ...  Payment  \\\n",
       "0      Food and beverages     19742.4         3   2961.36  ...     Card   \n",
       "1     Fashion accessories      5212.8         4   1042.56  ...     Epay   \n",
       "2  Electronic accessories      9183.6         4   1836.72  ...     Cash   \n",
       "3       Sports and travel     33739.2         6  10121.76  ...     Cash   \n",
       "4      Home and lifestyle     14508.0         2   1450.80  ...     Epay   \n",
       "\n",
       "       cogs gross margin percentage gross income  Rating            New_date  \\\n",
       "0   59227.2                4.761905      2961.36     5.9 2019-02-20 13:27:00   \n",
       "1   20851.2                4.761905      1042.56     4.5 2019-02-06 18:07:00   \n",
       "2   36734.4                4.761905      1836.72     6.8 2019-03-09 17:03:00   \n",
       "3  202435.2                4.761905     10121.76     4.5 2019-01-15 16:19:00   \n",
       "4   29016.0                4.761905      1450.80     4.4 2019-03-11 15:30:00   \n",
       "\n",
       "   Day  Month  Year  Hour  \n",
       "0   20      2  2019    13  \n",
       "1    6      2  2019    18  \n",
       "2    9      3  2019    17  \n",
       "3   15      1  2019    16  \n",
       "4   11      3  2019    15  \n",
       "\n",
       "[5 rows x 23 columns]"
      ]
     },
     "execution_count": 31,
     "metadata": {},
     "output_type": "execute_result"
    }
   ],
   "source": [
    "dff.head()"
   ]
  },
  {
   "cell_type": "code",
   "execution_count": 32,
   "id": "19280254",
   "metadata": {},
   "outputs": [
    {
     "data": {
      "text/plain": [
       "Unnamed: 0                          int64\n",
       "Invoice ID                         object\n",
       "Branch                             object\n",
       "City                               object\n",
       "Customer type                      object\n",
       "Gender                             object\n",
       "Product line                       object\n",
       "Unit price                        float64\n",
       "Quantity                            int64\n",
       "Tax 5%                            float64\n",
       "Total                             float64\n",
       "Date                               object\n",
       "Time                               object\n",
       "Payment                            object\n",
       "cogs                              float64\n",
       "gross margin percentage           float64\n",
       "gross income                      float64\n",
       "Rating                            float64\n",
       "New_date                   datetime64[ns]\n",
       "Day                                 int64\n",
       "Month                               int64\n",
       "Year                                int64\n",
       "Hour                                int64\n",
       "dtype: object"
      ]
     },
     "execution_count": 32,
     "metadata": {},
     "output_type": "execute_result"
    }
   ],
   "source": [
    "dff.dtypes"
   ]
  },
  {
   "cell_type": "code",
   "execution_count": 33,
   "id": "75223db3",
   "metadata": {},
   "outputs": [
    {
     "data": {
      "text/plain": [
       "11"
      ]
     },
     "execution_count": 33,
     "metadata": {},
     "output_type": "execute_result"
    }
   ],
   "source": [
    "dff['Hour'].nunique()"
   ]
  },
  {
   "cell_type": "code",
   "execution_count": 34,
   "id": "500e5e49",
   "metadata": {},
   "outputs": [
    {
     "data": {
      "text/plain": [
       "array([13, 18, 17, 16, 15, 10, 12, 19, 14, 11, 20], dtype=int64)"
      ]
     },
     "execution_count": 34,
     "metadata": {},
     "output_type": "execute_result"
    }
   ],
   "source": [
    "dff['Hour'].unique()"
   ]
  },
  {
   "cell_type": "markdown",
   "id": "33b430f3",
   "metadata": {},
   "source": [
    "# Step 4-Unique Values in Columns"
   ]
  },
  {
   "cell_type": "code",
   "execution_count": 35,
   "id": "7f6dc389",
   "metadata": {},
   "outputs": [],
   "source": [
    "categorical_columns = [col for col in dff.columns if dff[col].dtype == \"object\"]"
   ]
  },
  {
   "cell_type": "code",
   "execution_count": 36,
   "id": "6c027341",
   "metadata": {},
   "outputs": [
    {
     "data": {
      "text/plain": [
       "['Invoice ID',\n",
       " 'Branch',\n",
       " 'City',\n",
       " 'Customer type',\n",
       " 'Gender',\n",
       " 'Product line',\n",
       " 'Date',\n",
       " 'Time',\n",
       " 'Payment']"
      ]
     },
     "execution_count": 36,
     "metadata": {},
     "output_type": "execute_result"
    }
   ],
   "source": [
    "categorical_columns"
   ]
  },
  {
   "cell_type": "code",
   "execution_count": 37,
   "id": "dc98898b",
   "metadata": {},
   "outputs": [
    {
     "data": {
      "text/plain": [
       "['B', 'A', 'C']"
      ]
     },
     "execution_count": 37,
     "metadata": {},
     "output_type": "execute_result"
    }
   ],
   "source": [
    "dff['Branch'].unique().tolist()"
   ]
  },
  {
   "cell_type": "code",
   "execution_count": 38,
   "id": "60c7ae11",
   "metadata": {},
   "outputs": [
    {
     "name": "stdout",
     "output_type": "stream",
     "text": [
      "Total Number of unique values in the Branch Column : 3\n"
     ]
    }
   ],
   "source": [
    "print(\"Total Number of unique values in the Branch Column : {}\" . format(len(dff['Branch'].unique().tolist())))"
   ]
  },
  {
   "cell_type": "code",
   "execution_count": 39,
   "id": "13cde8b6",
   "metadata": {},
   "outputs": [
    {
     "data": {
      "text/plain": [
       "Lagos            340\n",
       "Abuja            332\n",
       "Port Harcourt    328\n",
       "Name: City, dtype: int64"
      ]
     },
     "execution_count": 39,
     "metadata": {},
     "output_type": "execute_result"
    }
   ],
   "source": [
    "dff['City'].value_counts()"
   ]
  },
  {
   "cell_type": "markdown",
   "id": "1b91b2f4",
   "metadata": {},
   "source": [
    "# Step 5-Aggregation with GroupBy"
   ]
  },
  {
   "cell_type": "code",
   "execution_count": 40,
   "id": "51e38d07",
   "metadata": {},
   "outputs": [],
   "source": [
    "City = dff.groupby('City')"
   ]
  },
  {
   "cell_type": "code",
   "execution_count": 41,
   "id": "91903be3",
   "metadata": {},
   "outputs": [
    {
     "data": {
      "text/plain": [
       "City\n",
       "Abuja            36410630.4\n",
       "Lagos            36411555.6\n",
       "Port Harcourt    37909270.8\n",
       "Name: cogs, dtype: float64"
      ]
     },
     "execution_count": 41,
     "metadata": {},
     "output_type": "execute_result"
    }
   ],
   "source": [
    "dff.groupby('City')['cogs'].sum()"
   ]
  },
  {
   "cell_type": "code",
   "execution_count": 42,
   "id": "1e8b36dd",
   "metadata": {},
   "outputs": [
    {
     "data": {
      "text/html": [
       "<div>\n",
       "<style scoped>\n",
       "    .dataframe tbody tr th:only-of-type {\n",
       "        vertical-align: middle;\n",
       "    }\n",
       "\n",
       "    .dataframe tbody tr th {\n",
       "        vertical-align: top;\n",
       "    }\n",
       "\n",
       "    .dataframe thead th {\n",
       "        text-align: right;\n",
       "    }\n",
       "</style>\n",
       "<table border=\"1\" class=\"dataframe\">\n",
       "  <thead>\n",
       "    <tr style=\"text-align: right;\">\n",
       "      <th></th>\n",
       "      <th>Unnamed: 0</th>\n",
       "      <th>Unit price</th>\n",
       "      <th>Quantity</th>\n",
       "      <th>Tax 5%</th>\n",
       "      <th>Total</th>\n",
       "      <th>cogs</th>\n",
       "      <th>gross margin percentage</th>\n",
       "      <th>gross income</th>\n",
       "      <th>Rating</th>\n",
       "      <th>Day</th>\n",
       "      <th>Month</th>\n",
       "      <th>Year</th>\n",
       "      <th>Hour</th>\n",
       "    </tr>\n",
       "    <tr>\n",
       "      <th>City</th>\n",
       "      <th></th>\n",
       "      <th></th>\n",
       "      <th></th>\n",
       "      <th></th>\n",
       "      <th></th>\n",
       "      <th></th>\n",
       "      <th></th>\n",
       "      <th></th>\n",
       "      <th></th>\n",
       "      <th></th>\n",
       "      <th></th>\n",
       "      <th></th>\n",
       "      <th></th>\n",
       "    </tr>\n",
       "  </thead>\n",
       "  <tbody>\n",
       "    <tr>\n",
       "      <th>Port Harcourt</th>\n",
       "      <td>53628</td>\n",
       "      <td>6684393.6</td>\n",
       "      <td>1831</td>\n",
       "      <td>1895463.54</td>\n",
       "      <td>39804734.34</td>\n",
       "      <td>37909270.8</td>\n",
       "      <td>1561.904762</td>\n",
       "      <td>1895463.54</td>\n",
       "      <td>2319.9</td>\n",
       "      <td>4956</td>\n",
       "      <td>640</td>\n",
       "      <td>662232</td>\n",
       "      <td>4894</td>\n",
       "    </tr>\n",
       "    <tr>\n",
       "      <th>Lagos</th>\n",
       "      <td>57630</td>\n",
       "      <td>6705176.4</td>\n",
       "      <td>1859</td>\n",
       "      <td>1820577.78</td>\n",
       "      <td>38232133.38</td>\n",
       "      <td>36411555.6</td>\n",
       "      <td>1619.047619</td>\n",
       "      <td>1820577.78</td>\n",
       "      <td>2389.2</td>\n",
       "      <td>5232</td>\n",
       "      <td>688</td>\n",
       "      <td>686460</td>\n",
       "      <td>4987</td>\n",
       "    </tr>\n",
       "    <tr>\n",
       "      <th>Abuja</th>\n",
       "      <td>54946</td>\n",
       "      <td>6652396.8</td>\n",
       "      <td>1820</td>\n",
       "      <td>1820531.52</td>\n",
       "      <td>38231161.92</td>\n",
       "      <td>36410630.4</td>\n",
       "      <td>1580.952381</td>\n",
       "      <td>1820531.52</td>\n",
       "      <td>2263.6</td>\n",
       "      <td>5068</td>\n",
       "      <td>665</td>\n",
       "      <td>670308</td>\n",
       "      <td>5029</td>\n",
       "    </tr>\n",
       "  </tbody>\n",
       "</table>\n",
       "</div>"
      ],
      "text/plain": [
       "               Unnamed: 0  Unit price  Quantity      Tax 5%        Total  \\\n",
       "City                                                                       \n",
       "Port Harcourt       53628   6684393.6      1831  1895463.54  39804734.34   \n",
       "Lagos               57630   6705176.4      1859  1820577.78  38232133.38   \n",
       "Abuja               54946   6652396.8      1820  1820531.52  38231161.92   \n",
       "\n",
       "                     cogs  gross margin percentage  gross income  Rating  \\\n",
       "City                                                                       \n",
       "Port Harcourt  37909270.8              1561.904762    1895463.54  2319.9   \n",
       "Lagos          36411555.6              1619.047619    1820577.78  2389.2   \n",
       "Abuja          36410630.4              1580.952381    1820531.52  2263.6   \n",
       "\n",
       "                Day  Month    Year  Hour  \n",
       "City                                      \n",
       "Port Harcourt  4956    640  662232  4894  \n",
       "Lagos          5232    688  686460  4987  \n",
       "Abuja          5068    665  670308  5029  "
      ]
     },
     "execution_count": 42,
     "metadata": {},
     "output_type": "execute_result"
    }
   ],
   "source": [
    "(dff.groupby('City').sum()).sort_values(by = 'cogs', ascending = False)"
   ]
  },
  {
   "cell_type": "code",
   "execution_count": 43,
   "id": "402992a9",
   "metadata": {},
   "outputs": [],
   "source": [
    "City_cogs = dff.groupby('City')['cogs'].sum()"
   ]
  },
  {
   "cell_type": "code",
   "execution_count": 44,
   "id": "26791360",
   "metadata": {},
   "outputs": [
    {
     "data": {
      "text/plain": [
       "[]"
      ]
     },
     "execution_count": 44,
     "metadata": {},
     "output_type": "execute_result"
    },
    {
     "data": {
      "image/png": "[encoded data removed]",
      "text/plain": [
       "<Figure size 576x432 with 1 Axes>"
      ]
     },
     "metadata": {},
     "output_type": "display_data"
    }
   ],
   "source": [
    "plt.figure(figsize = (8, 6))\n",
    "City_cogs.plot(kind = 'bar', color = ['purple', 'red', 'green'])\n",
    "plt.title('Sum of Cost of Good Sold for Each City', color = 'blue', size = 25)\n",
    "plt.xlabel('City', color = 'blue', size = 25)\n",
    "plt.ylabel('Sum of cogs', color = 'purple', size = 25)\n",
    "plt.xticks(color = 'purple', size = 20)\n",
    "plt.yticks(color = 'blue', size = 20)\n",
    "plt.plot()"
   ]
  },
  {
   "cell_type": "code",
   "execution_count": 45,
   "id": "49d6ee0f",
   "metadata": {},
   "outputs": [],
   "source": [
    "# Port Harcourt is The City with The Highest sum of Cost of Good Sold(cogs) of 37909270.8"
   ]
  },
  {
   "cell_type": "code",
   "execution_count": 46,
   "id": "aa1756ca",
   "metadata": {},
   "outputs": [
    {
     "data": {
      "text/plain": [
       "City\n",
       "Abuja            109670.573494\n",
       "Lagos            107092.810588\n",
       "Port Harcourt    115577.045122\n",
       "Name: cogs, dtype: float64"
      ]
     },
     "execution_count": 46,
     "metadata": {},
     "output_type": "execute_result"
    }
   ],
   "source": [
    "dff.groupby('City')['cogs'].mean()"
   ]
  },
  {
   "cell_type": "code",
   "execution_count": 47,
   "id": "cefd1bb4",
   "metadata": {},
   "outputs": [
    {
     "data": {
      "text/html": [
       "<div>\n",
       "<style scoped>\n",
       "    .dataframe tbody tr th:only-of-type {\n",
       "        vertical-align: middle;\n",
       "    }\n",
       "\n",
       "    .dataframe tbody tr th {\n",
       "        vertical-align: top;\n",
       "    }\n",
       "\n",
       "    .dataframe thead th {\n",
       "        text-align: right;\n",
       "    }\n",
       "</style>\n",
       "<table border=\"1\" class=\"dataframe\">\n",
       "  <thead>\n",
       "    <tr style=\"text-align: right;\">\n",
       "      <th></th>\n",
       "      <th>Unnamed: 0</th>\n",
       "      <th>Unit price</th>\n",
       "      <th>Quantity</th>\n",
       "      <th>Tax 5%</th>\n",
       "      <th>Total</th>\n",
       "      <th>cogs</th>\n",
       "      <th>gross margin percentage</th>\n",
       "      <th>gross income</th>\n",
       "      <th>Rating</th>\n",
       "      <th>Day</th>\n",
       "      <th>Month</th>\n",
       "      <th>Year</th>\n",
       "      <th>Hour</th>\n",
       "    </tr>\n",
       "    <tr>\n",
       "      <th>City</th>\n",
       "      <th></th>\n",
       "      <th></th>\n",
       "      <th></th>\n",
       "      <th></th>\n",
       "      <th></th>\n",
       "      <th></th>\n",
       "      <th></th>\n",
       "      <th></th>\n",
       "      <th></th>\n",
       "      <th></th>\n",
       "      <th></th>\n",
       "      <th></th>\n",
       "      <th></th>\n",
       "    </tr>\n",
       "  </thead>\n",
       "  <tbody>\n",
       "    <tr>\n",
       "      <th>Port Harcourt</th>\n",
       "      <td>163.5</td>\n",
       "      <td>20379.248780</td>\n",
       "      <td>5.582317</td>\n",
       "      <td>5778.852256</td>\n",
       "      <td>121355.897378</td>\n",
       "      <td>115577.045122</td>\n",
       "      <td>4.761905</td>\n",
       "      <td>5778.852256</td>\n",
       "      <td>7.072866</td>\n",
       "      <td>15.109756</td>\n",
       "      <td>1.951220</td>\n",
       "      <td>2019.0</td>\n",
       "      <td>14.920732</td>\n",
       "    </tr>\n",
       "    <tr>\n",
       "      <th>Abuja</th>\n",
       "      <td>165.5</td>\n",
       "      <td>20037.339759</td>\n",
       "      <td>5.481928</td>\n",
       "      <td>5483.528675</td>\n",
       "      <td>115154.102169</td>\n",
       "      <td>109670.573494</td>\n",
       "      <td>4.761905</td>\n",
       "      <td>5483.528675</td>\n",
       "      <td>6.818072</td>\n",
       "      <td>15.265060</td>\n",
       "      <td>2.003012</td>\n",
       "      <td>2019.0</td>\n",
       "      <td>15.147590</td>\n",
       "    </tr>\n",
       "    <tr>\n",
       "      <th>Lagos</th>\n",
       "      <td>169.5</td>\n",
       "      <td>19721.107059</td>\n",
       "      <td>5.467647</td>\n",
       "      <td>5354.640529</td>\n",
       "      <td>112447.451118</td>\n",
       "      <td>107092.810588</td>\n",
       "      <td>4.761905</td>\n",
       "      <td>5354.640529</td>\n",
       "      <td>7.027059</td>\n",
       "      <td>15.388235</td>\n",
       "      <td>2.023529</td>\n",
       "      <td>2019.0</td>\n",
       "      <td>14.667647</td>\n",
       "    </tr>\n",
       "  </tbody>\n",
       "</table>\n",
       "</div>"
      ],
      "text/plain": [
       "               Unnamed: 0    Unit price  Quantity       Tax 5%          Total  \\\n",
       "City                                                                            \n",
       "Port Harcourt       163.5  20379.248780  5.582317  5778.852256  121355.897378   \n",
       "Abuja               165.5  20037.339759  5.481928  5483.528675  115154.102169   \n",
       "Lagos               169.5  19721.107059  5.467647  5354.640529  112447.451118   \n",
       "\n",
       "                        cogs  gross margin percentage  gross income    Rating  \\\n",
       "City                                                                            \n",
       "Port Harcourt  115577.045122                 4.761905   5778.852256  7.072866   \n",
       "Abuja          109670.573494                 4.761905   5483.528675  6.818072   \n",
       "Lagos          107092.810588                 4.761905   5354.640529  7.027059   \n",
       "\n",
       "                     Day     Month    Year       Hour  \n",
       "City                                                   \n",
       "Port Harcourt  15.109756  1.951220  2019.0  14.920732  \n",
       "Abuja          15.265060  2.003012  2019.0  15.147590  \n",
       "Lagos          15.388235  2.023529  2019.0  14.667647  "
      ]
     },
     "execution_count": 47,
     "metadata": {},
     "output_type": "execute_result"
    }
   ],
   "source": [
    "(dff.groupby('City').mean()).sort_values(by = 'cogs', ascending = False)"
   ]
  },
  {
   "cell_type": "code",
   "execution_count": 48,
   "id": "b6d85e64",
   "metadata": {},
   "outputs": [],
   "source": [
    "City_cogs_mean = dff.groupby('City')['cogs'].mean()"
   ]
  },
  {
   "cell_type": "code",
   "execution_count": 49,
   "id": "25ca3834",
   "metadata": {},
   "outputs": [
    {
     "data": {
      "text/plain": [
       "[]"
      ]
     },
     "execution_count": 49,
     "metadata": {},
     "output_type": "execute_result"
    },
    {
     "data": {
      "image/png": "[encoded data removed]",
      "text/plain": [
       "<Figure size 576x432 with 1 Axes>"
      ]
     },
     "metadata": {},
     "output_type": "display_data"
    }
   ],
   "source": [
    "plt.figure(figsize = (8, 6))\n",
    "City_cogs_mean.plot(kind = 'bar', color = ['purple', 'yellow', 'green'])\n",
    "plt.title('Mean of Cost of Good Sold for Each City', color = 'blue', size = 25)\n",
    "plt.xlabel('City', color = 'blue', size = 25)\n",
    "plt.ylabel('Mean of cogs', color = 'purple', size = 25)\n",
    "plt.xticks(color = 'purple', size = 20)\n",
    "plt.yticks(color = 'blue', size = 20)\n",
    "plt.plot()"
   ]
  },
  {
   "cell_type": "code",
   "execution_count": 50,
   "id": "4d259978",
   "metadata": {},
   "outputs": [],
   "source": [
    "# Port Harcourt has The Highest mean of Cost of Good Sold(cogs) of 115577.045122"
   ]
  },
  {
   "cell_type": "code",
   "execution_count": 51,
   "id": "3aa1174c",
   "metadata": {},
   "outputs": [
    {
     "data": {
      "text/plain": [
       "City\n",
       "Abuja            1820531.52\n",
       "Lagos            1820577.78\n",
       "Port Harcourt    1895463.54\n",
       "Name: gross income, dtype: float64"
      ]
     },
     "execution_count": 51,
     "metadata": {},
     "output_type": "execute_result"
    }
   ],
   "source": [
    "dff.groupby('City')['gross income'].sum()"
   ]
  },
  {
   "cell_type": "code",
   "execution_count": 52,
   "id": "e6ba12bf",
   "metadata": {},
   "outputs": [
    {
     "data": {
      "text/html": [
       "<div>\n",
       "<style scoped>\n",
       "    .dataframe tbody tr th:only-of-type {\n",
       "        vertical-align: middle;\n",
       "    }\n",
       "\n",
       "    .dataframe tbody tr th {\n",
       "        vertical-align: top;\n",
       "    }\n",
       "\n",
       "    .dataframe thead th {\n",
       "        text-align: right;\n",
       "    }\n",
       "</style>\n",
       "<table border=\"1\" class=\"dataframe\">\n",
       "  <thead>\n",
       "    <tr style=\"text-align: right;\">\n",
       "      <th></th>\n",
       "      <th>Unnamed: 0</th>\n",
       "      <th>Unit price</th>\n",
       "      <th>Quantity</th>\n",
       "      <th>Tax 5%</th>\n",
       "      <th>Total</th>\n",
       "      <th>cogs</th>\n",
       "      <th>gross margin percentage</th>\n",
       "      <th>gross income</th>\n",
       "      <th>Rating</th>\n",
       "      <th>Day</th>\n",
       "      <th>Month</th>\n",
       "      <th>Year</th>\n",
       "      <th>Hour</th>\n",
       "    </tr>\n",
       "    <tr>\n",
       "      <th>City</th>\n",
       "      <th></th>\n",
       "      <th></th>\n",
       "      <th></th>\n",
       "      <th></th>\n",
       "      <th></th>\n",
       "      <th></th>\n",
       "      <th></th>\n",
       "      <th></th>\n",
       "      <th></th>\n",
       "      <th></th>\n",
       "      <th></th>\n",
       "      <th></th>\n",
       "      <th></th>\n",
       "    </tr>\n",
       "  </thead>\n",
       "  <tbody>\n",
       "    <tr>\n",
       "      <th>Port Harcourt</th>\n",
       "      <td>53628</td>\n",
       "      <td>6684393.6</td>\n",
       "      <td>1831</td>\n",
       "      <td>1895463.54</td>\n",
       "      <td>39804734.34</td>\n",
       "      <td>37909270.8</td>\n",
       "      <td>1561.904762</td>\n",
       "      <td>1895463.54</td>\n",
       "      <td>2319.9</td>\n",
       "      <td>4956</td>\n",
       "      <td>640</td>\n",
       "      <td>662232</td>\n",
       "      <td>4894</td>\n",
       "    </tr>\n",
       "    <tr>\n",
       "      <th>Lagos</th>\n",
       "      <td>57630</td>\n",
       "      <td>6705176.4</td>\n",
       "      <td>1859</td>\n",
       "      <td>1820577.78</td>\n",
       "      <td>38232133.38</td>\n",
       "      <td>36411555.6</td>\n",
       "      <td>1619.047619</td>\n",
       "      <td>1820577.78</td>\n",
       "      <td>2389.2</td>\n",
       "      <td>5232</td>\n",
       "      <td>688</td>\n",
       "      <td>686460</td>\n",
       "      <td>4987</td>\n",
       "    </tr>\n",
       "    <tr>\n",
       "      <th>Abuja</th>\n",
       "      <td>54946</td>\n",
       "      <td>6652396.8</td>\n",
       "      <td>1820</td>\n",
       "      <td>1820531.52</td>\n",
       "      <td>38231161.92</td>\n",
       "      <td>36410630.4</td>\n",
       "      <td>1580.952381</td>\n",
       "      <td>1820531.52</td>\n",
       "      <td>2263.6</td>\n",
       "      <td>5068</td>\n",
       "      <td>665</td>\n",
       "      <td>670308</td>\n",
       "      <td>5029</td>\n",
       "    </tr>\n",
       "  </tbody>\n",
       "</table>\n",
       "</div>"
      ],
      "text/plain": [
       "               Unnamed: 0  Unit price  Quantity      Tax 5%        Total  \\\n",
       "City                                                                       \n",
       "Port Harcourt       53628   6684393.6      1831  1895463.54  39804734.34   \n",
       "Lagos               57630   6705176.4      1859  1820577.78  38232133.38   \n",
       "Abuja               54946   6652396.8      1820  1820531.52  38231161.92   \n",
       "\n",
       "                     cogs  gross margin percentage  gross income  Rating  \\\n",
       "City                                                                       \n",
       "Port Harcourt  37909270.8              1561.904762    1895463.54  2319.9   \n",
       "Lagos          36411555.6              1619.047619    1820577.78  2389.2   \n",
       "Abuja          36410630.4              1580.952381    1820531.52  2263.6   \n",
       "\n",
       "                Day  Month    Year  Hour  \n",
       "City                                      \n",
       "Port Harcourt  4956    640  662232  4894  \n",
       "Lagos          5232    688  686460  4987  \n",
       "Abuja          5068    665  670308  5029  "
      ]
     },
     "execution_count": 52,
     "metadata": {},
     "output_type": "execute_result"
    }
   ],
   "source": [
    "(dff.groupby('City').sum()).sort_values(by = 'gross income', ascending = False)"
   ]
  },
  {
   "cell_type": "code",
   "execution_count": 53,
   "id": "8c5480ab",
   "metadata": {},
   "outputs": [],
   "source": [
    "City_gross_income = dff.groupby('City')['gross income'].sum()"
   ]
  },
  {
   "cell_type": "code",
   "execution_count": 54,
   "id": "bfca5cd0",
   "metadata": {},
   "outputs": [
    {
     "data": {
      "text/plain": [
       "[]"
      ]
     },
     "execution_count": 54,
     "metadata": {},
     "output_type": "execute_result"
    },
    {
     "data": {
      "image/png": "[encoded data removed]",
      "text/plain": [
       "<Figure size 576x432 with 1 Axes>"
      ]
     },
     "metadata": {},
     "output_type": "display_data"
    }
   ],
   "source": [
    "plt.figure(figsize = (8, 6))\n",
    "City_gross_income.plot(kind = 'bar', color = ['purple', 'orange', 'green'])\n",
    "plt.title('Sum of Gross Income for Each City', color = 'blue', size = 25)\n",
    "plt.xlabel('City', color = 'blue', size = 25)\n",
    "plt.ylabel('Gross Income', color = 'purple', size = 25)\n",
    "plt.xticks(color = 'purple', size = 20)\n",
    "plt.yticks(color = 'blue', size = 20)\n",
    "plt.plot()"
   ]
  },
  {
   "cell_type": "code",
   "execution_count": 55,
   "id": "1c74a781",
   "metadata": {},
   "outputs": [],
   "source": [
    "# Port Harcourt has The Highest gross income of 1895463.54"
   ]
  },
  {
   "cell_type": "code",
   "execution_count": 56,
   "id": "2db12511",
   "metadata": {},
   "outputs": [
    {
     "data": {
      "text/plain": [
       "City\n",
       "Abuja            6652396.8\n",
       "Lagos            6705176.4\n",
       "Port Harcourt    6684393.6\n",
       "Name: Unit price, dtype: float64"
      ]
     },
     "execution_count": 56,
     "metadata": {},
     "output_type": "execute_result"
    }
   ],
   "source": [
    "dff.groupby('City')['Unit price'].sum()"
   ]
  },
  {
   "cell_type": "code",
   "execution_count": 57,
   "id": "915745f4",
   "metadata": {},
   "outputs": [
    {
     "data": {
      "text/html": [
       "<div>\n",
       "<style scoped>\n",
       "    .dataframe tbody tr th:only-of-type {\n",
       "        vertical-align: middle;\n",
       "    }\n",
       "\n",
       "    .dataframe tbody tr th {\n",
       "        vertical-align: top;\n",
       "    }\n",
       "\n",
       "    .dataframe thead th {\n",
       "        text-align: right;\n",
       "    }\n",
       "</style>\n",
       "<table border=\"1\" class=\"dataframe\">\n",
       "  <thead>\n",
       "    <tr style=\"text-align: right;\">\n",
       "      <th></th>\n",
       "      <th>Unnamed: 0</th>\n",
       "      <th>Unit price</th>\n",
       "      <th>Quantity</th>\n",
       "      <th>Tax 5%</th>\n",
       "      <th>Total</th>\n",
       "      <th>cogs</th>\n",
       "      <th>gross margin percentage</th>\n",
       "      <th>gross income</th>\n",
       "      <th>Rating</th>\n",
       "      <th>Day</th>\n",
       "      <th>Month</th>\n",
       "      <th>Year</th>\n",
       "      <th>Hour</th>\n",
       "    </tr>\n",
       "    <tr>\n",
       "      <th>City</th>\n",
       "      <th></th>\n",
       "      <th></th>\n",
       "      <th></th>\n",
       "      <th></th>\n",
       "      <th></th>\n",
       "      <th></th>\n",
       "      <th></th>\n",
       "      <th></th>\n",
       "      <th></th>\n",
       "      <th></th>\n",
       "      <th></th>\n",
       "      <th></th>\n",
       "      <th></th>\n",
       "    </tr>\n",
       "  </thead>\n",
       "  <tbody>\n",
       "    <tr>\n",
       "      <th>Lagos</th>\n",
       "      <td>57630</td>\n",
       "      <td>6705176.4</td>\n",
       "      <td>1859</td>\n",
       "      <td>1820577.78</td>\n",
       "      <td>38232133.38</td>\n",
       "      <td>36411555.6</td>\n",
       "      <td>1619.047619</td>\n",
       "      <td>1820577.78</td>\n",
       "      <td>2389.2</td>\n",
       "      <td>5232</td>\n",
       "      <td>688</td>\n",
       "      <td>686460</td>\n",
       "      <td>4987</td>\n",
       "    </tr>\n",
       "    <tr>\n",
       "      <th>Port Harcourt</th>\n",
       "      <td>53628</td>\n",
       "      <td>6684393.6</td>\n",
       "      <td>1831</td>\n",
       "      <td>1895463.54</td>\n",
       "      <td>39804734.34</td>\n",
       "      <td>37909270.8</td>\n",
       "      <td>1561.904762</td>\n",
       "      <td>1895463.54</td>\n",
       "      <td>2319.9</td>\n",
       "      <td>4956</td>\n",
       "      <td>640</td>\n",
       "      <td>662232</td>\n",
       "      <td>4894</td>\n",
       "    </tr>\n",
       "    <tr>\n",
       "      <th>Abuja</th>\n",
       "      <td>54946</td>\n",
       "      <td>6652396.8</td>\n",
       "      <td>1820</td>\n",
       "      <td>1820531.52</td>\n",
       "      <td>38231161.92</td>\n",
       "      <td>36410630.4</td>\n",
       "      <td>1580.952381</td>\n",
       "      <td>1820531.52</td>\n",
       "      <td>2263.6</td>\n",
       "      <td>5068</td>\n",
       "      <td>665</td>\n",
       "      <td>670308</td>\n",
       "      <td>5029</td>\n",
       "    </tr>\n",
       "  </tbody>\n",
       "</table>\n",
       "</div>"
      ],
      "text/plain": [
       "               Unnamed: 0  Unit price  Quantity      Tax 5%        Total  \\\n",
       "City                                                                       \n",
       "Lagos               57630   6705176.4      1859  1820577.78  38232133.38   \n",
       "Port Harcourt       53628   6684393.6      1831  1895463.54  39804734.34   \n",
       "Abuja               54946   6652396.8      1820  1820531.52  38231161.92   \n",
       "\n",
       "                     cogs  gross margin percentage  gross income  Rating  \\\n",
       "City                                                                       \n",
       "Lagos          36411555.6              1619.047619    1820577.78  2389.2   \n",
       "Port Harcourt  37909270.8              1561.904762    1895463.54  2319.9   \n",
       "Abuja          36410630.4              1580.952381    1820531.52  2263.6   \n",
       "\n",
       "                Day  Month    Year  Hour  \n",
       "City                                      \n",
       "Lagos          5232    688  686460  4987  \n",
       "Port Harcourt  4956    640  662232  4894  \n",
       "Abuja          5068    665  670308  5029  "
      ]
     },
     "execution_count": 57,
     "metadata": {},
     "output_type": "execute_result"
    }
   ],
   "source": [
    "(dff.groupby('City').sum()).sort_values(by = 'Unit price', ascending = False)"
   ]
  },
  {
   "cell_type": "code",
   "execution_count": 58,
   "id": "5cf260fc",
   "metadata": {},
   "outputs": [],
   "source": [
    "City_Unit_price = dff.groupby('City')['Unit price'].sum()"
   ]
  },
  {
   "cell_type": "code",
   "execution_count": 59,
   "id": "3ae7b236",
   "metadata": {},
   "outputs": [
    {
     "data": {
      "text/plain": [
       "[]"
      ]
     },
     "execution_count": 59,
     "metadata": {},
     "output_type": "execute_result"
    },
    {
     "data": {
      "image/png": "[encoded data removed]",
      "text/plain": [
       "<Figure size 576x432 with 1 Axes>"
      ]
     },
     "metadata": {},
     "output_type": "display_data"
    }
   ],
   "source": [
    "plt.figure(figsize = (8, 6))\n",
    "City_Unit_price.plot(kind = 'bar', color = ['purple', 'orange', 'black'])\n",
    "plt.title('Unit Price for Each City', color = 'blue', size = 25)\n",
    "plt.xlabel('City', color = 'blue', size = 25)\n",
    "plt.ylabel('Unit Price', color = 'purple', size = 25)\n",
    "plt.xticks(color = 'purple', size = 20)\n",
    "plt.yticks(color = 'blue', size = 20)\n",
    "plt.plot()"
   ]
  },
  {
   "cell_type": "code",
   "execution_count": 60,
   "id": "2315af93",
   "metadata": {},
   "outputs": [],
   "source": [
    "# City with The Highest Unit Price is Lagos"
   ]
  },
  {
   "cell_type": "code",
   "execution_count": 61,
   "id": "24be3eed",
   "metadata": {},
   "outputs": [
    {
     "data": {
      "text/plain": [
       "City\n",
       "Abuja            1820\n",
       "Lagos            1859\n",
       "Port Harcourt    1831\n",
       "Name: Quantity, dtype: int64"
      ]
     },
     "execution_count": 61,
     "metadata": {},
     "output_type": "execute_result"
    }
   ],
   "source": [
    "dff.groupby('City')['Quantity'].sum()"
   ]
  },
  {
   "cell_type": "code",
   "execution_count": 62,
   "id": "615709c5",
   "metadata": {},
   "outputs": [
    {
     "data": {
      "text/html": [
       "<div>\n",
       "<style scoped>\n",
       "    .dataframe tbody tr th:only-of-type {\n",
       "        vertical-align: middle;\n",
       "    }\n",
       "\n",
       "    .dataframe tbody tr th {\n",
       "        vertical-align: top;\n",
       "    }\n",
       "\n",
       "    .dataframe thead th {\n",
       "        text-align: right;\n",
       "    }\n",
       "</style>\n",
       "<table border=\"1\" class=\"dataframe\">\n",
       "  <thead>\n",
       "    <tr style=\"text-align: right;\">\n",
       "      <th></th>\n",
       "      <th>Unnamed: 0</th>\n",
       "      <th>Unit price</th>\n",
       "      <th>Quantity</th>\n",
       "      <th>Tax 5%</th>\n",
       "      <th>Total</th>\n",
       "      <th>cogs</th>\n",
       "      <th>gross margin percentage</th>\n",
       "      <th>gross income</th>\n",
       "      <th>Rating</th>\n",
       "      <th>Day</th>\n",
       "      <th>Month</th>\n",
       "      <th>Year</th>\n",
       "      <th>Hour</th>\n",
       "    </tr>\n",
       "    <tr>\n",
       "      <th>City</th>\n",
       "      <th></th>\n",
       "      <th></th>\n",
       "      <th></th>\n",
       "      <th></th>\n",
       "      <th></th>\n",
       "      <th></th>\n",
       "      <th></th>\n",
       "      <th></th>\n",
       "      <th></th>\n",
       "      <th></th>\n",
       "      <th></th>\n",
       "      <th></th>\n",
       "      <th></th>\n",
       "    </tr>\n",
       "  </thead>\n",
       "  <tbody>\n",
       "    <tr>\n",
       "      <th>Lagos</th>\n",
       "      <td>57630</td>\n",
       "      <td>6705176.4</td>\n",
       "      <td>1859</td>\n",
       "      <td>1820577.78</td>\n",
       "      <td>38232133.38</td>\n",
       "      <td>36411555.6</td>\n",
       "      <td>1619.047619</td>\n",
       "      <td>1820577.78</td>\n",
       "      <td>2389.2</td>\n",
       "      <td>5232</td>\n",
       "      <td>688</td>\n",
       "      <td>686460</td>\n",
       "      <td>4987</td>\n",
       "    </tr>\n",
       "    <tr>\n",
       "      <th>Port Harcourt</th>\n",
       "      <td>53628</td>\n",
       "      <td>6684393.6</td>\n",
       "      <td>1831</td>\n",
       "      <td>1895463.54</td>\n",
       "      <td>39804734.34</td>\n",
       "      <td>37909270.8</td>\n",
       "      <td>1561.904762</td>\n",
       "      <td>1895463.54</td>\n",
       "      <td>2319.9</td>\n",
       "      <td>4956</td>\n",
       "      <td>640</td>\n",
       "      <td>662232</td>\n",
       "      <td>4894</td>\n",
       "    </tr>\n",
       "    <tr>\n",
       "      <th>Abuja</th>\n",
       "      <td>54946</td>\n",
       "      <td>6652396.8</td>\n",
       "      <td>1820</td>\n",
       "      <td>1820531.52</td>\n",
       "      <td>38231161.92</td>\n",
       "      <td>36410630.4</td>\n",
       "      <td>1580.952381</td>\n",
       "      <td>1820531.52</td>\n",
       "      <td>2263.6</td>\n",
       "      <td>5068</td>\n",
       "      <td>665</td>\n",
       "      <td>670308</td>\n",
       "      <td>5029</td>\n",
       "    </tr>\n",
       "  </tbody>\n",
       "</table>\n",
       "</div>"
      ],
      "text/plain": [
       "               Unnamed: 0  Unit price  Quantity      Tax 5%        Total  \\\n",
       "City                                                                       \n",
       "Lagos               57630   6705176.4      1859  1820577.78  38232133.38   \n",
       "Port Harcourt       53628   6684393.6      1831  1895463.54  39804734.34   \n",
       "Abuja               54946   6652396.8      1820  1820531.52  38231161.92   \n",
       "\n",
       "                     cogs  gross margin percentage  gross income  Rating  \\\n",
       "City                                                                       \n",
       "Lagos          36411555.6              1619.047619    1820577.78  2389.2   \n",
       "Port Harcourt  37909270.8              1561.904762    1895463.54  2319.9   \n",
       "Abuja          36410630.4              1580.952381    1820531.52  2263.6   \n",
       "\n",
       "                Day  Month    Year  Hour  \n",
       "City                                      \n",
       "Lagos          5232    688  686460  4987  \n",
       "Port Harcourt  4956    640  662232  4894  \n",
       "Abuja          5068    665  670308  5029  "
      ]
     },
     "execution_count": 62,
     "metadata": {},
     "output_type": "execute_result"
    }
   ],
   "source": [
    "(dff.groupby('City').sum()).sort_values(by = 'Quantity', ascending = False)"
   ]
  },
  {
   "cell_type": "code",
   "execution_count": 63,
   "id": "c7416918",
   "metadata": {},
   "outputs": [],
   "source": [
    "City_Quantity = dff.groupby('City')['Quantity'].sum()"
   ]
  },
  {
   "cell_type": "code",
   "execution_count": 64,
   "id": "a861f5f2",
   "metadata": {},
   "outputs": [
    {
     "data": {
      "text/plain": [
       "[]"
      ]
     },
     "execution_count": 64,
     "metadata": {},
     "output_type": "execute_result"
    },
    {
     "data": {
      "image/png": "[encoded data removed]",
      "text/plain": [
       "<Figure size 576x432 with 1 Axes>"
      ]
     },
     "metadata": {},
     "output_type": "display_data"
    }
   ],
   "source": [
    "plt.figure(figsize = (8, 6))\n",
    "City_Quantity.plot(kind = 'bar', color = ['purple', 'orange', 'blue'])\n",
    "plt.title('Quantity for Each City', color = 'blue', size = 25)\n",
    "plt.xlabel('City', color = 'blue', size = 25)\n",
    "plt.ylabel('Quantity', color = 'purple', size = 25)\n",
    "plt.xticks(color = 'purple', size = 20)\n",
    "plt.yticks(color = 'blue', size = 20)\n",
    "plt.plot()"
   ]
  },
  {
   "cell_type": "code",
   "execution_count": 65,
   "id": "bf75c323",
   "metadata": {},
   "outputs": [],
   "source": [
    "# The City with Highest Quantity is Lagos"
   ]
  },
  {
   "cell_type": "markdown",
   "id": "1947481a",
   "metadata": {},
   "source": [
    "# Sales Column needs to be created"
   ]
  },
  {
   "cell_type": "code",
   "execution_count": 66,
   "id": "47886d78",
   "metadata": {},
   "outputs": [],
   "source": [
    "dff['Sales'] = dff['Quantity']*dff['Unit price']"
   ]
  },
  {
   "cell_type": "code",
   "execution_count": 67,
   "id": "acaf93ed",
   "metadata": {},
   "outputs": [
    {
     "data": {
      "text/html": [
       "<div>\n",
       "<style scoped>\n",
       "    .dataframe tbody tr th:only-of-type {\n",
       "        vertical-align: middle;\n",
       "    }\n",
       "\n",
       "    .dataframe tbody tr th {\n",
       "        vertical-align: top;\n",
       "    }\n",
       "\n",
       "    .dataframe thead th {\n",
       "        text-align: right;\n",
       "    }\n",
       "</style>\n",
       "<table border=\"1\" class=\"dataframe\">\n",
       "  <thead>\n",
       "    <tr style=\"text-align: right;\">\n",
       "      <th></th>\n",
       "      <th>Unnamed: 0</th>\n",
       "      <th>Invoice ID</th>\n",
       "      <th>Branch</th>\n",
       "      <th>City</th>\n",
       "      <th>Customer type</th>\n",
       "      <th>Gender</th>\n",
       "      <th>Product line</th>\n",
       "      <th>Unit price</th>\n",
       "      <th>Quantity</th>\n",
       "      <th>Tax 5%</th>\n",
       "      <th>...</th>\n",
       "      <th>cogs</th>\n",
       "      <th>gross margin percentage</th>\n",
       "      <th>gross income</th>\n",
       "      <th>Rating</th>\n",
       "      <th>New_date</th>\n",
       "      <th>Day</th>\n",
       "      <th>Month</th>\n",
       "      <th>Year</th>\n",
       "      <th>Hour</th>\n",
       "      <th>Sales</th>\n",
       "    </tr>\n",
       "  </thead>\n",
       "  <tbody>\n",
       "    <tr>\n",
       "      <th>0</th>\n",
       "      <td>0</td>\n",
       "      <td>692-92-5582</td>\n",
       "      <td>B</td>\n",
       "      <td>Abuja</td>\n",
       "      <td>Member</td>\n",
       "      <td>Female</td>\n",
       "      <td>Food and beverages</td>\n",
       "      <td>19742.4</td>\n",
       "      <td>3</td>\n",
       "      <td>2961.36</td>\n",
       "      <td>...</td>\n",
       "      <td>59227.2</td>\n",
       "      <td>4.761905</td>\n",
       "      <td>2961.36</td>\n",
       "      <td>5.9</td>\n",
       "      <td>2019-02-20 13:27:00</td>\n",
       "      <td>20</td>\n",
       "      <td>2</td>\n",
       "      <td>2019</td>\n",
       "      <td>13</td>\n",
       "      <td>59227.2</td>\n",
       "    </tr>\n",
       "    <tr>\n",
       "      <th>1</th>\n",
       "      <td>1</td>\n",
       "      <td>351-62-0822</td>\n",
       "      <td>B</td>\n",
       "      <td>Abuja</td>\n",
       "      <td>Member</td>\n",
       "      <td>Female</td>\n",
       "      <td>Fashion accessories</td>\n",
       "      <td>5212.8</td>\n",
       "      <td>4</td>\n",
       "      <td>1042.56</td>\n",
       "      <td>...</td>\n",
       "      <td>20851.2</td>\n",
       "      <td>4.761905</td>\n",
       "      <td>1042.56</td>\n",
       "      <td>4.5</td>\n",
       "      <td>2019-02-06 18:07:00</td>\n",
       "      <td>6</td>\n",
       "      <td>2</td>\n",
       "      <td>2019</td>\n",
       "      <td>18</td>\n",
       "      <td>20851.2</td>\n",
       "    </tr>\n",
       "    <tr>\n",
       "      <th>2</th>\n",
       "      <td>2</td>\n",
       "      <td>529-56-3974</td>\n",
       "      <td>B</td>\n",
       "      <td>Abuja</td>\n",
       "      <td>Member</td>\n",
       "      <td>Male</td>\n",
       "      <td>Electronic accessories</td>\n",
       "      <td>9183.6</td>\n",
       "      <td>4</td>\n",
       "      <td>1836.72</td>\n",
       "      <td>...</td>\n",
       "      <td>36734.4</td>\n",
       "      <td>4.761905</td>\n",
       "      <td>1836.72</td>\n",
       "      <td>6.8</td>\n",
       "      <td>2019-03-09 17:03:00</td>\n",
       "      <td>9</td>\n",
       "      <td>3</td>\n",
       "      <td>2019</td>\n",
       "      <td>17</td>\n",
       "      <td>36734.4</td>\n",
       "    </tr>\n",
       "    <tr>\n",
       "      <th>3</th>\n",
       "      <td>3</td>\n",
       "      <td>299-46-1805</td>\n",
       "      <td>B</td>\n",
       "      <td>Abuja</td>\n",
       "      <td>Member</td>\n",
       "      <td>Female</td>\n",
       "      <td>Sports and travel</td>\n",
       "      <td>33739.2</td>\n",
       "      <td>6</td>\n",
       "      <td>10121.76</td>\n",
       "      <td>...</td>\n",
       "      <td>202435.2</td>\n",
       "      <td>4.761905</td>\n",
       "      <td>10121.76</td>\n",
       "      <td>4.5</td>\n",
       "      <td>2019-01-15 16:19:00</td>\n",
       "      <td>15</td>\n",
       "      <td>1</td>\n",
       "      <td>2019</td>\n",
       "      <td>16</td>\n",
       "      <td>202435.2</td>\n",
       "    </tr>\n",
       "    <tr>\n",
       "      <th>4</th>\n",
       "      <td>4</td>\n",
       "      <td>319-50-3348</td>\n",
       "      <td>B</td>\n",
       "      <td>Abuja</td>\n",
       "      <td>Normal</td>\n",
       "      <td>Female</td>\n",
       "      <td>Home and lifestyle</td>\n",
       "      <td>14508.0</td>\n",
       "      <td>2</td>\n",
       "      <td>1450.80</td>\n",
       "      <td>...</td>\n",
       "      <td>29016.0</td>\n",
       "      <td>4.761905</td>\n",
       "      <td>1450.80</td>\n",
       "      <td>4.4</td>\n",
       "      <td>2019-03-11 15:30:00</td>\n",
       "      <td>11</td>\n",
       "      <td>3</td>\n",
       "      <td>2019</td>\n",
       "      <td>15</td>\n",
       "      <td>29016.0</td>\n",
       "    </tr>\n",
       "  </tbody>\n",
       "</table>\n",
       "<p>5 rows × 24 columns</p>\n",
       "</div>"
      ],
      "text/plain": [
       "   Unnamed: 0   Invoice ID Branch   City Customer type  Gender  \\\n",
       "0           0  692-92-5582      B  Abuja        Member  Female   \n",
       "1           1  351-62-0822      B  Abuja        Member  Female   \n",
       "2           2  529-56-3974      B  Abuja        Member    Male   \n",
       "3           3  299-46-1805      B  Abuja        Member  Female   \n",
       "4           4  319-50-3348      B  Abuja        Normal  Female   \n",
       "\n",
       "             Product line  Unit price  Quantity    Tax 5%  ...      cogs  \\\n",
       "0      Food and beverages     19742.4         3   2961.36  ...   59227.2   \n",
       "1     Fashion accessories      5212.8         4   1042.56  ...   20851.2   \n",
       "2  Electronic accessories      9183.6         4   1836.72  ...   36734.4   \n",
       "3       Sports and travel     33739.2         6  10121.76  ...  202435.2   \n",
       "4      Home and lifestyle     14508.0         2   1450.80  ...   29016.0   \n",
       "\n",
       "  gross margin percentage gross income Rating            New_date  Day  Month  \\\n",
       "0                4.761905      2961.36    5.9 2019-02-20 13:27:00   20      2   \n",
       "1                4.761905      1042.56    4.5 2019-02-06 18:07:00    6      2   \n",
       "2                4.761905      1836.72    6.8 2019-03-09 17:03:00    9      3   \n",
       "3                4.761905     10121.76    4.5 2019-01-15 16:19:00   15      1   \n",
       "4                4.761905      1450.80    4.4 2019-03-11 15:30:00   11      3   \n",
       "\n",
       "   Year Hour     Sales  \n",
       "0  2019   13   59227.2  \n",
       "1  2019   18   20851.2  \n",
       "2  2019   17   36734.4  \n",
       "3  2019   16  202435.2  \n",
       "4  2019   15   29016.0  \n",
       "\n",
       "[5 rows x 24 columns]"
      ]
     },
     "execution_count": 67,
     "metadata": {},
     "output_type": "execute_result"
    }
   ],
   "source": [
    "dff.head()"
   ]
  },
  {
   "cell_type": "code",
   "execution_count": 68,
   "id": "f53e84bb",
   "metadata": {},
   "outputs": [
    {
     "data": {
      "text/plain": [
       "City\n",
       "Abuja            36410630.4\n",
       "Lagos            36411555.6\n",
       "Port Harcourt    37909270.8\n",
       "Name: Sales, dtype: float64"
      ]
     },
     "execution_count": 68,
     "metadata": {},
     "output_type": "execute_result"
    }
   ],
   "source": [
    "dff.groupby('City').sum()['Sales']"
   ]
  },
  {
   "cell_type": "code",
   "execution_count": 69,
   "id": "dff58ec9",
   "metadata": {},
   "outputs": [
    {
     "data": {
      "text/html": [
       "<div>\n",
       "<style scoped>\n",
       "    .dataframe tbody tr th:only-of-type {\n",
       "        vertical-align: middle;\n",
       "    }\n",
       "\n",
       "    .dataframe tbody tr th {\n",
       "        vertical-align: top;\n",
       "    }\n",
       "\n",
       "    .dataframe thead th {\n",
       "        text-align: right;\n",
       "    }\n",
       "</style>\n",
       "<table border=\"1\" class=\"dataframe\">\n",
       "  <thead>\n",
       "    <tr style=\"text-align: right;\">\n",
       "      <th></th>\n",
       "      <th>Unnamed: 0</th>\n",
       "      <th>Unit price</th>\n",
       "      <th>Quantity</th>\n",
       "      <th>Tax 5%</th>\n",
       "      <th>Total</th>\n",
       "      <th>cogs</th>\n",
       "      <th>gross margin percentage</th>\n",
       "      <th>gross income</th>\n",
       "      <th>Rating</th>\n",
       "      <th>Day</th>\n",
       "      <th>Month</th>\n",
       "      <th>Year</th>\n",
       "      <th>Hour</th>\n",
       "      <th>Sales</th>\n",
       "    </tr>\n",
       "    <tr>\n",
       "      <th>City</th>\n",
       "      <th></th>\n",
       "      <th></th>\n",
       "      <th></th>\n",
       "      <th></th>\n",
       "      <th></th>\n",
       "      <th></th>\n",
       "      <th></th>\n",
       "      <th></th>\n",
       "      <th></th>\n",
       "      <th></th>\n",
       "      <th></th>\n",
       "      <th></th>\n",
       "      <th></th>\n",
       "      <th></th>\n",
       "    </tr>\n",
       "  </thead>\n",
       "  <tbody>\n",
       "    <tr>\n",
       "      <th>Port Harcourt</th>\n",
       "      <td>53628</td>\n",
       "      <td>6684393.6</td>\n",
       "      <td>1831</td>\n",
       "      <td>1895463.54</td>\n",
       "      <td>39804734.34</td>\n",
       "      <td>37909270.8</td>\n",
       "      <td>1561.904762</td>\n",
       "      <td>1895463.54</td>\n",
       "      <td>2319.9</td>\n",
       "      <td>4956</td>\n",
       "      <td>640</td>\n",
       "      <td>662232</td>\n",
       "      <td>4894</td>\n",
       "      <td>37909270.8</td>\n",
       "    </tr>\n",
       "    <tr>\n",
       "      <th>Lagos</th>\n",
       "      <td>57630</td>\n",
       "      <td>6705176.4</td>\n",
       "      <td>1859</td>\n",
       "      <td>1820577.78</td>\n",
       "      <td>38232133.38</td>\n",
       "      <td>36411555.6</td>\n",
       "      <td>1619.047619</td>\n",
       "      <td>1820577.78</td>\n",
       "      <td>2389.2</td>\n",
       "      <td>5232</td>\n",
       "      <td>688</td>\n",
       "      <td>686460</td>\n",
       "      <td>4987</td>\n",
       "      <td>36411555.6</td>\n",
       "    </tr>\n",
       "    <tr>\n",
       "      <th>Abuja</th>\n",
       "      <td>54946</td>\n",
       "      <td>6652396.8</td>\n",
       "      <td>1820</td>\n",
       "      <td>1820531.52</td>\n",
       "      <td>38231161.92</td>\n",
       "      <td>36410630.4</td>\n",
       "      <td>1580.952381</td>\n",
       "      <td>1820531.52</td>\n",
       "      <td>2263.6</td>\n",
       "      <td>5068</td>\n",
       "      <td>665</td>\n",
       "      <td>670308</td>\n",
       "      <td>5029</td>\n",
       "      <td>36410630.4</td>\n",
       "    </tr>\n",
       "  </tbody>\n",
       "</table>\n",
       "</div>"
      ],
      "text/plain": [
       "               Unnamed: 0  Unit price  Quantity      Tax 5%        Total  \\\n",
       "City                                                                       \n",
       "Port Harcourt       53628   6684393.6      1831  1895463.54  39804734.34   \n",
       "Lagos               57630   6705176.4      1859  1820577.78  38232133.38   \n",
       "Abuja               54946   6652396.8      1820  1820531.52  38231161.92   \n",
       "\n",
       "                     cogs  gross margin percentage  gross income  Rating  \\\n",
       "City                                                                       \n",
       "Port Harcourt  37909270.8              1561.904762    1895463.54  2319.9   \n",
       "Lagos          36411555.6              1619.047619    1820577.78  2389.2   \n",
       "Abuja          36410630.4              1580.952381    1820531.52  2263.6   \n",
       "\n",
       "                Day  Month    Year  Hour       Sales  \n",
       "City                                                  \n",
       "Port Harcourt  4956    640  662232  4894  37909270.8  \n",
       "Lagos          5232    688  686460  4987  36411555.6  \n",
       "Abuja          5068    665  670308  5029  36410630.4  "
      ]
     },
     "execution_count": 69,
     "metadata": {},
     "output_type": "execute_result"
    }
   ],
   "source": [
    "(dff.groupby('City').sum()).sort_values(by = 'Sales', ascending = False)"
   ]
  },
  {
   "cell_type": "code",
   "execution_count": 70,
   "id": "8be3b72a",
   "metadata": {},
   "outputs": [],
   "source": [
    "City_Sales = dff.groupby('City')['Sales'].sum()"
   ]
  },
  {
   "cell_type": "code",
   "execution_count": 71,
   "id": "46966b8e",
   "metadata": {},
   "outputs": [
    {
     "data": {
      "text/plain": [
       "[]"
      ]
     },
     "execution_count": 71,
     "metadata": {},
     "output_type": "execute_result"
    },
    {
     "data": {
      "image/png": "[encoded data removed]",
      "text/plain": [
       "<Figure size 576x432 with 1 Axes>"
      ]
     },
     "metadata": {},
     "output_type": "display_data"
    }
   ],
   "source": [
    "plt.figure(figsize = (8, 6))\n",
    "City_Sales.plot(kind = 'bar', color = ['purple', 'orange', 'blue'])\n",
    "plt.title('City with The Most Sales', color = 'blue', size = 25)\n",
    "plt.xlabel('City', color = 'blue', size = 25)\n",
    "plt.ylabel('Sales', color = 'purple', size = 25)\n",
    "plt.xticks(color = 'purple', size = 20)\n",
    "plt.yticks(color = 'blue', size = 20)\n",
    "plt.plot()"
   ]
  },
  {
   "cell_type": "code",
   "execution_count": 72,
   "id": "5aa11c98",
   "metadata": {},
   "outputs": [],
   "source": [
    "# City with The Most Sales is Port Harcourt"
   ]
  },
  {
   "cell_type": "code",
   "execution_count": 73,
   "id": "134af6d2",
   "metadata": {},
   "outputs": [
    {
     "data": {
      "text/plain": [
       "Index(['Unnamed: 0', 'Invoice ID', 'Branch', 'City', 'Customer type', 'Gender',\n",
       "       'Product line', 'Unit price', 'Quantity', 'Tax 5%', 'Total', 'Date',\n",
       "       'Time', 'Payment', 'cogs', 'gross margin percentage', 'gross income',\n",
       "       'Rating', 'New_date', 'Day', 'Month', 'Year', 'Hour', 'Sales'],\n",
       "      dtype='object')"
      ]
     },
     "execution_count": 73,
     "metadata": {},
     "output_type": "execute_result"
    }
   ],
   "source": [
    "dff.columns"
   ]
  },
  {
   "cell_type": "code",
   "execution_count": 74,
   "id": "cdbe8ce8",
   "metadata": {},
   "outputs": [
    {
     "data": {
      "text/plain": [
       "<AxesSubplot:xlabel='Branch', ylabel='count'>"
      ]
     },
     "execution_count": 74,
     "metadata": {},
     "output_type": "execute_result"
    },
    {
     "data": {
      "image/png": "[encoded data removed]",
      "text/plain": [
       "<Figure size 432x288 with 1 Axes>"
      ]
     },
     "metadata": {},
     "output_type": "display_data"
    }
   ],
   "source": [
    "sns.countplot(dff['Branch'])"
   ]
  },
  {
   "cell_type": "code",
   "execution_count": 75,
   "id": "fea2ef5e",
   "metadata": {},
   "outputs": [],
   "source": [
    "# The Branch with The Highest Sales Record is Lagos"
   ]
  },
  {
   "cell_type": "code",
   "execution_count": 76,
   "id": "cda894ef",
   "metadata": {},
   "outputs": [
    {
     "data": {
      "text/plain": [
       "<AxesSubplot:xlabel='Payment', ylabel='count'>"
      ]
     },
     "execution_count": 76,
     "metadata": {},
     "output_type": "execute_result"
    },
    {
     "data": {
      "image/png": "[encoded data removed]",
      "text/plain": [
       "<Figure size 432x288 with 1 Axes>"
      ]
     },
     "metadata": {},
     "output_type": "display_data"
    }
   ],
   "source": [
    "sns.countplot(dff['Payment'])"
   ]
  },
  {
   "cell_type": "code",
   "execution_count": 77,
   "id": "f0fd1ed5",
   "metadata": {},
   "outputs": [],
   "source": [
    "# The Most Used Payment Method is Epay"
   ]
  },
  {
   "cell_type": "code",
   "execution_count": 78,
   "id": "86493170",
   "metadata": {},
   "outputs": [
    {
     "data": {
      "text/plain": [
       "Product line\n",
       "Electronic accessories    18630010.8\n",
       "Fashion accessories       18619164.0\n",
       "Food and beverages        19249660.8\n",
       "Health and beauty         16866424.8\n",
       "Home and lifestyle        18466941.6\n",
       "Sports and travel         18899254.8\n",
       "Name: Sales, dtype: float64"
      ]
     },
     "execution_count": 78,
     "metadata": {},
     "output_type": "execute_result"
    }
   ],
   "source": [
    "dff.groupby('Product line').sum()['Sales']"
   ]
  },
  {
   "cell_type": "code",
   "execution_count": 79,
   "id": "395b39a1",
   "metadata": {},
   "outputs": [
    {
     "data": {
      "text/html": [
       "<div>\n",
       "<style scoped>\n",
       "    .dataframe tbody tr th:only-of-type {\n",
       "        vertical-align: middle;\n",
       "    }\n",
       "\n",
       "    .dataframe tbody tr th {\n",
       "        vertical-align: top;\n",
       "    }\n",
       "\n",
       "    .dataframe thead th {\n",
       "        text-align: right;\n",
       "    }\n",
       "</style>\n",
       "<table border=\"1\" class=\"dataframe\">\n",
       "  <thead>\n",
       "    <tr style=\"text-align: right;\">\n",
       "      <th></th>\n",
       "      <th>Unnamed: 0</th>\n",
       "      <th>Unit price</th>\n",
       "      <th>Quantity</th>\n",
       "      <th>Tax 5%</th>\n",
       "      <th>Total</th>\n",
       "      <th>cogs</th>\n",
       "      <th>gross margin percentage</th>\n",
       "      <th>gross income</th>\n",
       "      <th>Rating</th>\n",
       "      <th>Day</th>\n",
       "      <th>Month</th>\n",
       "      <th>Year</th>\n",
       "      <th>Hour</th>\n",
       "      <th>Sales</th>\n",
       "    </tr>\n",
       "    <tr>\n",
       "      <th>Product line</th>\n",
       "      <th></th>\n",
       "      <th></th>\n",
       "      <th></th>\n",
       "      <th></th>\n",
       "      <th></th>\n",
       "      <th></th>\n",
       "      <th></th>\n",
       "      <th></th>\n",
       "      <th></th>\n",
       "      <th></th>\n",
       "      <th></th>\n",
       "      <th></th>\n",
       "      <th></th>\n",
       "      <th></th>\n",
       "    </tr>\n",
       "  </thead>\n",
       "  <tbody>\n",
       "    <tr>\n",
       "      <th>Food and beverages</th>\n",
       "      <td>29411</td>\n",
       "      <td>3508394.4</td>\n",
       "      <td>952</td>\n",
       "      <td>962483.04</td>\n",
       "      <td>20212143.84</td>\n",
       "      <td>19249660.8</td>\n",
       "      <td>828.571429</td>\n",
       "      <td>962483.04</td>\n",
       "      <td>1237.7</td>\n",
       "      <td>2645</td>\n",
       "      <td>348</td>\n",
       "      <td>351306</td>\n",
       "      <td>2677</td>\n",
       "      <td>19249660.8</td>\n",
       "    </tr>\n",
       "    <tr>\n",
       "      <th>Sports and travel</th>\n",
       "      <td>26278</td>\n",
       "      <td>3405916.8</td>\n",
       "      <td>920</td>\n",
       "      <td>944962.74</td>\n",
       "      <td>19844217.54</td>\n",
       "      <td>18899254.8</td>\n",
       "      <td>790.476190</td>\n",
       "      <td>944962.74</td>\n",
       "      <td>1148.1</td>\n",
       "      <td>2475</td>\n",
       "      <td>315</td>\n",
       "      <td>335154</td>\n",
       "      <td>2433</td>\n",
       "      <td>18899254.8</td>\n",
       "    </tr>\n",
       "    <tr>\n",
       "      <th>Electronic accessories</th>\n",
       "      <td>29139</td>\n",
       "      <td>3277357.2</td>\n",
       "      <td>971</td>\n",
       "      <td>931500.54</td>\n",
       "      <td>19561511.34</td>\n",
       "      <td>18630010.8</td>\n",
       "      <td>809.523810</td>\n",
       "      <td>931500.54</td>\n",
       "      <td>1177.2</td>\n",
       "      <td>2759</td>\n",
       "      <td>348</td>\n",
       "      <td>343230</td>\n",
       "      <td>2548</td>\n",
       "      <td>18630010.8</td>\n",
       "    </tr>\n",
       "    <tr>\n",
       "      <th>Fashion accessories</th>\n",
       "      <td>29988</td>\n",
       "      <td>3662406.0</td>\n",
       "      <td>902</td>\n",
       "      <td>930958.20</td>\n",
       "      <td>19550122.20</td>\n",
       "      <td>18619164.0</td>\n",
       "      <td>847.619048</td>\n",
       "      <td>930958.20</td>\n",
       "      <td>1251.2</td>\n",
       "      <td>2717</td>\n",
       "      <td>346</td>\n",
       "      <td>359382</td>\n",
       "      <td>2680</td>\n",
       "      <td>18619164.0</td>\n",
       "    </tr>\n",
       "    <tr>\n",
       "      <th>Home and lifestyle</th>\n",
       "      <td>26426</td>\n",
       "      <td>3186255.6</td>\n",
       "      <td>911</td>\n",
       "      <td>923347.08</td>\n",
       "      <td>19390288.68</td>\n",
       "      <td>18466941.6</td>\n",
       "      <td>761.904762</td>\n",
       "      <td>923347.08</td>\n",
       "      <td>1094.0</td>\n",
       "      <td>2287</td>\n",
       "      <td>324</td>\n",
       "      <td>323040</td>\n",
       "      <td>2312</td>\n",
       "      <td>18466941.6</td>\n",
       "    </tr>\n",
       "    <tr>\n",
       "      <th>Health and beauty</th>\n",
       "      <td>24962</td>\n",
       "      <td>3001636.8</td>\n",
       "      <td>854</td>\n",
       "      <td>843321.24</td>\n",
       "      <td>17709746.04</td>\n",
       "      <td>16866424.8</td>\n",
       "      <td>723.809524</td>\n",
       "      <td>843321.24</td>\n",
       "      <td>1064.5</td>\n",
       "      <td>2373</td>\n",
       "      <td>312</td>\n",
       "      <td>306888</td>\n",
       "      <td>2260</td>\n",
       "      <td>16866424.8</td>\n",
       "    </tr>\n",
       "  </tbody>\n",
       "</table>\n",
       "</div>"
      ],
      "text/plain": [
       "                        Unnamed: 0  Unit price  Quantity     Tax 5%  \\\n",
       "Product line                                                          \n",
       "Food and beverages           29411   3508394.4       952  962483.04   \n",
       "Sports and travel            26278   3405916.8       920  944962.74   \n",
       "Electronic accessories       29139   3277357.2       971  931500.54   \n",
       "Fashion accessories          29988   3662406.0       902  930958.20   \n",
       "Home and lifestyle           26426   3186255.6       911  923347.08   \n",
       "Health and beauty            24962   3001636.8       854  843321.24   \n",
       "\n",
       "                              Total        cogs  gross margin percentage  \\\n",
       "Product line                                                               \n",
       "Food and beverages      20212143.84  19249660.8               828.571429   \n",
       "Sports and travel       19844217.54  18899254.8               790.476190   \n",
       "Electronic accessories  19561511.34  18630010.8               809.523810   \n",
       "Fashion accessories     19550122.20  18619164.0               847.619048   \n",
       "Home and lifestyle      19390288.68  18466941.6               761.904762   \n",
       "Health and beauty       17709746.04  16866424.8               723.809524   \n",
       "\n",
       "                        gross income  Rating   Day  Month    Year  Hour  \\\n",
       "Product line                                                              \n",
       "Food and beverages         962483.04  1237.7  2645    348  351306  2677   \n",
       "Sports and travel          944962.74  1148.1  2475    315  335154  2433   \n",
       "Electronic accessories     931500.54  1177.2  2759    348  343230  2548   \n",
       "Fashion accessories        930958.20  1251.2  2717    346  359382  2680   \n",
       "Home and lifestyle         923347.08  1094.0  2287    324  323040  2312   \n",
       "Health and beauty          843321.24  1064.5  2373    312  306888  2260   \n",
       "\n",
       "                             Sales  \n",
       "Product line                        \n",
       "Food and beverages      19249660.8  \n",
       "Sports and travel       18899254.8  \n",
       "Electronic accessories  18630010.8  \n",
       "Fashion accessories     18619164.0  \n",
       "Home and lifestyle      18466941.6  \n",
       "Health and beauty       16866424.8  "
      ]
     },
     "execution_count": 79,
     "metadata": {},
     "output_type": "execute_result"
    }
   ],
   "source": [
    "(dff.groupby('Product line').sum()).sort_values(by = 'Sales', ascending = False)"
   ]
  },
  {
   "cell_type": "code",
   "execution_count": 80,
   "id": "e5f846f2",
   "metadata": {},
   "outputs": [],
   "source": [
    "Most_Sold_Product_line = dff.groupby('Product line')['Sales'].sum()"
   ]
  },
  {
   "cell_type": "code",
   "execution_count": 81,
   "id": "582af1ef",
   "metadata": {},
   "outputs": [
    {
     "data": {
      "text/plain": [
       "[]"
      ]
     },
     "execution_count": 81,
     "metadata": {},
     "output_type": "execute_result"
    },
    {
     "data": {
      "image/png": "[encoded data removed]",
      "text/plain": [
       "<Figure size 576x432 with 1 Axes>"
      ]
     },
     "metadata": {},
     "output_type": "display_data"
    }
   ],
   "source": [
    "plt.figure(figsize = (8, 6))\n",
    "Most_Sold_Product_line.plot(kind = 'bar', color = ['blue', 'red', 'orange', 'green', 'grey', 'purple'])\n",
    "plt.title('Most_Sold_Product_line', color = 'blue', size = 25)\n",
    "plt.xlabel('Product line', color = 'blue', size = 25)\n",
    "plt.ylabel('Sales', color = 'purple', size = 25)\n",
    "plt.xticks(color = 'purple', size = 20)\n",
    "plt.yticks(color = 'blue', size = 20)\n",
    "plt.plot()"
   ]
  },
  {
   "cell_type": "code",
   "execution_count": 82,
   "id": "06f40b9c",
   "metadata": {},
   "outputs": [],
   "source": [
    "# The Highest Sold Product line is Food and Beverages, closely followed by Sports and Travel.\n",
    "# While The Lowest Sold Product line is Heath and Beauty"
   ]
  },
  {
   "cell_type": "code",
   "execution_count": 83,
   "id": "3c3f0589",
   "metadata": {},
   "outputs": [
    {
     "data": {
      "text/plain": [
       "0      Card\n",
       "1      Epay\n",
       "2      Cash\n",
       "3      Cash\n",
       "4      Epay\n",
       "       ... \n",
       "995    Cash\n",
       "996    Cash\n",
       "997    Epay\n",
       "998    Epay\n",
       "999    Epay\n",
       "Name: Payment, Length: 1000, dtype: object"
      ]
     },
     "execution_count": 83,
     "metadata": {},
     "output_type": "execute_result"
    }
   ],
   "source": [
    "dff['Payment']"
   ]
  },
  {
   "cell_type": "code",
   "execution_count": 84,
   "id": "daecb166",
   "metadata": {},
   "outputs": [
    {
     "data": {
      "text/plain": [
       "Fashion accessories       65\n",
       "Home and lifestyle        64\n",
       "Food and beverages        56\n",
       "Sports and travel         54\n",
       "Health and beauty         53\n",
       "Electronic accessories    53\n",
       "Name: Product line, dtype: int64"
      ]
     },
     "execution_count": 84,
     "metadata": {},
     "output_type": "execute_result"
    }
   ],
   "source": [
    "dff[dff['Payment']=='Epay']['Product line'].value_counts()"
   ]
  },
  {
   "cell_type": "code",
   "execution_count": 85,
   "id": "c5b8b9fb",
   "metadata": {},
   "outputs": [
    {
     "data": {
      "text/plain": [
       "Electronic accessories    71\n",
       "Sports and travel         59\n",
       "Fashion accessories       57\n",
       "Food and beverages        57\n",
       "Home and lifestyle        51\n",
       "Health and beauty         49\n",
       "Name: Product line, dtype: int64"
      ]
     },
     "execution_count": 85,
     "metadata": {},
     "output_type": "execute_result"
    }
   ],
   "source": [
    "dff[dff['Payment']=='Cash']['Product line'].value_counts()"
   ]
  },
  {
   "cell_type": "code",
   "execution_count": 86,
   "id": "672c200d",
   "metadata": {},
   "outputs": [
    {
     "data": {
      "text/plain": [
       "Food and beverages        61\n",
       "Fashion accessories       56\n",
       "Sports and travel         53\n",
       "Health and beauty         50\n",
       "Electronic accessories    46\n",
       "Home and lifestyle        45\n",
       "Name: Product line, dtype: int64"
      ]
     },
     "execution_count": 86,
     "metadata": {},
     "output_type": "execute_result"
    }
   ],
   "source": [
    "dff[dff['Payment']=='Card']['Product line'].value_counts()"
   ]
  },
  {
   "cell_type": "code",
   "execution_count": 87,
   "id": "ea42d9d5",
   "metadata": {},
   "outputs": [
    {
     "data": {
      "text/plain": [
       "<AxesSubplot:xlabel='count', ylabel='Product line'>"
      ]
     },
     "execution_count": 87,
     "metadata": {},
     "output_type": "execute_result"
    },
    {
     "data": {
      "image/png": "[encoded data removed]",
      "text/plain": [
       "<Figure size 432x288 with 1 Axes>"
      ]
     },
     "metadata": {},
     "output_type": "display_data"
    }
   ],
   "source": [
    "sns.countplot(y = dff['Product line'], hue = dff['Payment'])"
   ]
  },
  {
   "cell_type": "code",
   "execution_count": 88,
   "id": "dec63b4d",
   "metadata": {},
   "outputs": [],
   "source": [
    "# The payment channel used by most customers to pay for Electronic Accessories is cash\n",
    "# The payment channel used by most customers to pay for Food and Beverages is card\n",
    "# The payment channel used by most customers to pay for Fashion Accessories is Epay\n",
    "# The payment channel used by most customers to pay for Sports and Travel is cash\n",
    "# The payment channel used by most customers to pay for Home and Lifestyle is Epay\n",
    "# The payment channel used by most customers to pay for Health and Beauty is Epay"
   ]
  },
  {
   "cell_type": "code",
   "execution_count": 89,
   "id": "d5509e2f",
   "metadata": {},
   "outputs": [
    {
     "data": {
      "text/plain": [
       "A    126\n",
       "B    113\n",
       "C    106\n",
       "Name: Branch, dtype: int64"
      ]
     },
     "execution_count": 89,
     "metadata": {},
     "output_type": "execute_result"
    }
   ],
   "source": [
    "dff[dff['Payment']=='Epay']['Branch'].value_counts()"
   ]
  },
  {
   "cell_type": "code",
   "execution_count": 90,
   "id": "4b5ff5c5",
   "metadata": {},
   "outputs": [
    {
     "data": {
      "text/plain": [
       "C    124\n",
       "B    110\n",
       "A    110\n",
       "Name: Branch, dtype: int64"
      ]
     },
     "execution_count": 90,
     "metadata": {},
     "output_type": "execute_result"
    }
   ],
   "source": [
    "dff[dff['Payment']=='Cash']['Branch'].value_counts()"
   ]
  },
  {
   "cell_type": "code",
   "execution_count": 91,
   "id": "dc611d84",
   "metadata": {},
   "outputs": [
    {
     "data": {
      "text/plain": [
       "B    109\n",
       "A    104\n",
       "C     98\n",
       "Name: Branch, dtype: int64"
      ]
     },
     "execution_count": 91,
     "metadata": {},
     "output_type": "execute_result"
    }
   ],
   "source": [
    "dff[dff['Payment']=='Card']['Branch'].value_counts()"
   ]
  },
  {
   "cell_type": "code",
   "execution_count": 92,
   "id": "0bdde5de",
   "metadata": {},
   "outputs": [
    {
     "data": {
      "text/plain": [
       "<AxesSubplot:xlabel='count', ylabel='Payment'>"
      ]
     },
     "execution_count": 92,
     "metadata": {},
     "output_type": "execute_result"
    },
    {
     "data": {
      "image/png": "[encoded data removed]",
      "text/plain": [
       "<Figure size 432x288 with 1 Axes>"
      ]
     },
     "metadata": {},
     "output_type": "display_data"
    }
   ],
   "source": [
    "sns.countplot(y = dff['Payment'], hue = dff['Branch'])"
   ]
  },
  {
   "cell_type": "code",
   "execution_count": 93,
   "id": "48b1321c",
   "metadata": {},
   "outputs": [],
   "source": [
    "### The highest payment channel for Abuja_Branch is Card.\n",
    "### The highest payment channel for Lagos_Branch is Epay.\n",
    "### The highest payment channel for Port_Harcourt_Branch is Cash"
   ]
  },
  {
   "cell_type": "code",
   "execution_count": 94,
   "id": "4d9bf824",
   "metadata": {},
   "outputs": [
    {
     "data": {
      "text/plain": [
       "Lagos            60\n",
       "Abuja            55\n",
       "Port Harcourt    55\n",
       "Name: City, dtype: int64"
      ]
     },
     "execution_count": 94,
     "metadata": {},
     "output_type": "execute_result"
    }
   ],
   "source": [
    "dff[dff['Product line']=='Electronic accessories']['City'].value_counts()"
   ]
  },
  {
   "cell_type": "code",
   "execution_count": 95,
   "id": "3c3342cb",
   "metadata": {},
   "outputs": [
    {
     "data": {
      "text/plain": [
       "Port Harcourt    65\n",
       "Abuja            62\n",
       "Lagos            51\n",
       "Name: City, dtype: int64"
      ]
     },
     "execution_count": 95,
     "metadata": {},
     "output_type": "execute_result"
    }
   ],
   "source": [
    "dff[dff['Product line']=='Fashion accessories']['City'].value_counts()"
   ]
  },
  {
   "cell_type": "code",
   "execution_count": 96,
   "id": "c68fe36b",
   "metadata": {},
   "outputs": [
    {
     "data": {
      "text/plain": [
       "Port Harcourt    66\n",
       "Lagos            58\n",
       "Abuja            50\n",
       "Name: City, dtype: int64"
      ]
     },
     "execution_count": 96,
     "metadata": {},
     "output_type": "execute_result"
    }
   ],
   "source": [
    "dff[dff['Product line']=='Food and beverages']['City'].value_counts()"
   ]
  },
  {
   "cell_type": "code",
   "execution_count": 97,
   "id": "71adf435",
   "metadata": {},
   "outputs": [
    {
     "data": {
      "text/plain": [
       "Abuja            62\n",
       "Lagos            59\n",
       "Port Harcourt    45\n",
       "Name: City, dtype: int64"
      ]
     },
     "execution_count": 97,
     "metadata": {},
     "output_type": "execute_result"
    }
   ],
   "source": [
    "dff[dff['Product line']=='Sports and travel']['City'].value_counts()"
   ]
  },
  {
   "cell_type": "code",
   "execution_count": 98,
   "id": "46eb24ef",
   "metadata": {},
   "outputs": [
    {
     "data": {
      "text/plain": [
       "Lagos            65\n",
       "Abuja            50\n",
       "Port Harcourt    45\n",
       "Name: City, dtype: int64"
      ]
     },
     "execution_count": 98,
     "metadata": {},
     "output_type": "execute_result"
    }
   ],
   "source": [
    "dff[dff['Product line']=='Home and lifestyle']['City'].value_counts()"
   ]
  },
  {
   "cell_type": "code",
   "execution_count": 99,
   "id": "46dace39",
   "metadata": {},
   "outputs": [
    {
     "data": {
      "text/plain": [
       "Abuja            53\n",
       "Port Harcourt    52\n",
       "Lagos            47\n",
       "Name: City, dtype: int64"
      ]
     },
     "execution_count": 99,
     "metadata": {},
     "output_type": "execute_result"
    }
   ],
   "source": [
    "dff[dff['Product line']=='Health and beauty']['City'].value_counts()"
   ]
  },
  {
   "cell_type": "code",
   "execution_count": 100,
   "id": "6b09e169",
   "metadata": {},
   "outputs": [],
   "source": [
    "# Lagos had the highest sales of Electronic Accessories\n",
    "# Port Harcourt had the highest sales of Fashion Accessories\n",
    "# Port Harcourt had the highest sales of Food and beverages\n",
    "# Abuja had the highest sales of Sports and travel\n",
    "# Lagos had the highest sales of Home and lifestyle\n",
    "# Abuja had the highest sales of Health and beauty"
   ]
  },
  {
   "cell_type": "code",
   "execution_count": 101,
   "id": "008ed023",
   "metadata": {},
   "outputs": [
    {
     "data": {
      "text/plain": [
       "<AxesSubplot:xlabel='Branch', ylabel='Rating'>"
      ]
     },
     "execution_count": 101,
     "metadata": {},
     "output_type": "execute_result"
    },
    {
     "data": {
      "image/png": "[encoded data removed]",
      "text/plain": [
       "<Figure size 432x288 with 1 Axes>"
      ]
     },
     "metadata": {},
     "output_type": "display_data"
    }
   ],
   "source": [
    "sns.boxplot(x = dff['Branch'], y = dff['Rating'])"
   ]
  },
  {
   "cell_type": "code",
   "execution_count": 102,
   "id": "be029f13",
   "metadata": {},
   "outputs": [],
   "source": [
    "### The Branch with Lowest Rating is Abuja\n",
    "### The Branch with Highest Rating is Lagos"
   ]
  },
  {
   "cell_type": "code",
   "execution_count": 103,
   "id": "db76f05d",
   "metadata": {},
   "outputs": [
    {
     "data": {
      "text/html": [
       "<div>\n",
       "<style scoped>\n",
       "    .dataframe tbody tr th:only-of-type {\n",
       "        vertical-align: middle;\n",
       "    }\n",
       "\n",
       "    .dataframe tbody tr th {\n",
       "        vertical-align: top;\n",
       "    }\n",
       "\n",
       "    .dataframe thead th {\n",
       "        text-align: right;\n",
       "    }\n",
       "</style>\n",
       "<table border=\"1\" class=\"dataframe\">\n",
       "  <thead>\n",
       "    <tr style=\"text-align: right;\">\n",
       "      <th></th>\n",
       "      <th>Quantity</th>\n",
       "    </tr>\n",
       "    <tr>\n",
       "      <th>Product line</th>\n",
       "      <th></th>\n",
       "    </tr>\n",
       "  </thead>\n",
       "  <tbody>\n",
       "    <tr>\n",
       "      <th>Electronic accessories</th>\n",
       "      <td>971</td>\n",
       "    </tr>\n",
       "    <tr>\n",
       "      <th>Fashion accessories</th>\n",
       "      <td>902</td>\n",
       "    </tr>\n",
       "    <tr>\n",
       "      <th>Food and beverages</th>\n",
       "      <td>952</td>\n",
       "    </tr>\n",
       "    <tr>\n",
       "      <th>Health and beauty</th>\n",
       "      <td>854</td>\n",
       "    </tr>\n",
       "    <tr>\n",
       "      <th>Home and lifestyle</th>\n",
       "      <td>911</td>\n",
       "    </tr>\n",
       "    <tr>\n",
       "      <th>Sports and travel</th>\n",
       "      <td>920</td>\n",
       "    </tr>\n",
       "  </tbody>\n",
       "</table>\n",
       "</div>"
      ],
      "text/plain": [
       "                        Quantity\n",
       "Product line                    \n",
       "Electronic accessories       971\n",
       "Fashion accessories          902\n",
       "Food and beverages           952\n",
       "Health and beauty            854\n",
       "Home and lifestyle           911\n",
       "Sports and travel            920"
      ]
     },
     "execution_count": 103,
     "metadata": {},
     "output_type": "execute_result"
    }
   ],
   "source": [
    "dff.groupby(['Product line'])['Quantity', 'Gender'].sum()"
   ]
  },
  {
   "cell_type": "code",
   "execution_count": 104,
   "id": "0329c001",
   "metadata": {},
   "outputs": [
    {
     "data": {
      "text/html": [
       "<div>\n",
       "<style scoped>\n",
       "    .dataframe tbody tr th:only-of-type {\n",
       "        vertical-align: middle;\n",
       "    }\n",
       "\n",
       "    .dataframe tbody tr th {\n",
       "        vertical-align: top;\n",
       "    }\n",
       "\n",
       "    .dataframe thead th {\n",
       "        text-align: right;\n",
       "    }\n",
       "</style>\n",
       "<table border=\"1\" class=\"dataframe\">\n",
       "  <thead>\n",
       "    <tr style=\"text-align: right;\">\n",
       "      <th></th>\n",
       "      <th>Unnamed: 0</th>\n",
       "      <th>Unit price</th>\n",
       "      <th>Quantity</th>\n",
       "      <th>Tax 5%</th>\n",
       "      <th>Total</th>\n",
       "      <th>cogs</th>\n",
       "      <th>gross margin percentage</th>\n",
       "      <th>gross income</th>\n",
       "      <th>Rating</th>\n",
       "      <th>Day</th>\n",
       "      <th>Month</th>\n",
       "      <th>Year</th>\n",
       "      <th>Hour</th>\n",
       "      <th>Sales</th>\n",
       "    </tr>\n",
       "    <tr>\n",
       "      <th>Product line</th>\n",
       "      <th></th>\n",
       "      <th></th>\n",
       "      <th></th>\n",
       "      <th></th>\n",
       "      <th></th>\n",
       "      <th></th>\n",
       "      <th></th>\n",
       "      <th></th>\n",
       "      <th></th>\n",
       "      <th></th>\n",
       "      <th></th>\n",
       "      <th></th>\n",
       "      <th></th>\n",
       "      <th></th>\n",
       "    </tr>\n",
       "  </thead>\n",
       "  <tbody>\n",
       "    <tr>\n",
       "      <th>Electronic accessories</th>\n",
       "      <td>29139</td>\n",
       "      <td>3277357.2</td>\n",
       "      <td>971</td>\n",
       "      <td>931500.54</td>\n",
       "      <td>19561511.34</td>\n",
       "      <td>18630010.8</td>\n",
       "      <td>809.523810</td>\n",
       "      <td>931500.54</td>\n",
       "      <td>1177.2</td>\n",
       "      <td>2759</td>\n",
       "      <td>348</td>\n",
       "      <td>343230</td>\n",
       "      <td>2548</td>\n",
       "      <td>18630010.8</td>\n",
       "    </tr>\n",
       "    <tr>\n",
       "      <th>Food and beverages</th>\n",
       "      <td>29411</td>\n",
       "      <td>3508394.4</td>\n",
       "      <td>952</td>\n",
       "      <td>962483.04</td>\n",
       "      <td>20212143.84</td>\n",
       "      <td>19249660.8</td>\n",
       "      <td>828.571429</td>\n",
       "      <td>962483.04</td>\n",
       "      <td>1237.7</td>\n",
       "      <td>2645</td>\n",
       "      <td>348</td>\n",
       "      <td>351306</td>\n",
       "      <td>2677</td>\n",
       "      <td>19249660.8</td>\n",
       "    </tr>\n",
       "    <tr>\n",
       "      <th>Sports and travel</th>\n",
       "      <td>26278</td>\n",
       "      <td>3405916.8</td>\n",
       "      <td>920</td>\n",
       "      <td>944962.74</td>\n",
       "      <td>19844217.54</td>\n",
       "      <td>18899254.8</td>\n",
       "      <td>790.476190</td>\n",
       "      <td>944962.74</td>\n",
       "      <td>1148.1</td>\n",
       "      <td>2475</td>\n",
       "      <td>315</td>\n",
       "      <td>335154</td>\n",
       "      <td>2433</td>\n",
       "      <td>18899254.8</td>\n",
       "    </tr>\n",
       "    <tr>\n",
       "      <th>Home and lifestyle</th>\n",
       "      <td>26426</td>\n",
       "      <td>3186255.6</td>\n",
       "      <td>911</td>\n",
       "      <td>923347.08</td>\n",
       "      <td>19390288.68</td>\n",
       "      <td>18466941.6</td>\n",
       "      <td>761.904762</td>\n",
       "      <td>923347.08</td>\n",
       "      <td>1094.0</td>\n",
       "      <td>2287</td>\n",
       "      <td>324</td>\n",
       "      <td>323040</td>\n",
       "      <td>2312</td>\n",
       "      <td>18466941.6</td>\n",
       "    </tr>\n",
       "    <tr>\n",
       "      <th>Fashion accessories</th>\n",
       "      <td>29988</td>\n",
       "      <td>3662406.0</td>\n",
       "      <td>902</td>\n",
       "      <td>930958.20</td>\n",
       "      <td>19550122.20</td>\n",
       "      <td>18619164.0</td>\n",
       "      <td>847.619048</td>\n",
       "      <td>930958.20</td>\n",
       "      <td>1251.2</td>\n",
       "      <td>2717</td>\n",
       "      <td>346</td>\n",
       "      <td>359382</td>\n",
       "      <td>2680</td>\n",
       "      <td>18619164.0</td>\n",
       "    </tr>\n",
       "    <tr>\n",
       "      <th>Health and beauty</th>\n",
       "      <td>24962</td>\n",
       "      <td>3001636.8</td>\n",
       "      <td>854</td>\n",
       "      <td>843321.24</td>\n",
       "      <td>17709746.04</td>\n",
       "      <td>16866424.8</td>\n",
       "      <td>723.809524</td>\n",
       "      <td>843321.24</td>\n",
       "      <td>1064.5</td>\n",
       "      <td>2373</td>\n",
       "      <td>312</td>\n",
       "      <td>306888</td>\n",
       "      <td>2260</td>\n",
       "      <td>16866424.8</td>\n",
       "    </tr>\n",
       "  </tbody>\n",
       "</table>\n",
       "</div>"
      ],
      "text/plain": [
       "                        Unnamed: 0  Unit price  Quantity     Tax 5%  \\\n",
       "Product line                                                          \n",
       "Electronic accessories       29139   3277357.2       971  931500.54   \n",
       "Food and beverages           29411   3508394.4       952  962483.04   \n",
       "Sports and travel            26278   3405916.8       920  944962.74   \n",
       "Home and lifestyle           26426   3186255.6       911  923347.08   \n",
       "Fashion accessories          29988   3662406.0       902  930958.20   \n",
       "Health and beauty            24962   3001636.8       854  843321.24   \n",
       "\n",
       "                              Total        cogs  gross margin percentage  \\\n",
       "Product line                                                               \n",
       "Electronic accessories  19561511.34  18630010.8               809.523810   \n",
       "Food and beverages      20212143.84  19249660.8               828.571429   \n",
       "Sports and travel       19844217.54  18899254.8               790.476190   \n",
       "Home and lifestyle      19390288.68  18466941.6               761.904762   \n",
       "Fashion accessories     19550122.20  18619164.0               847.619048   \n",
       "Health and beauty       17709746.04  16866424.8               723.809524   \n",
       "\n",
       "                        gross income  Rating   Day  Month    Year  Hour  \\\n",
       "Product line                                                              \n",
       "Electronic accessories     931500.54  1177.2  2759    348  343230  2548   \n",
       "Food and beverages         962483.04  1237.7  2645    348  351306  2677   \n",
       "Sports and travel          944962.74  1148.1  2475    315  335154  2433   \n",
       "Home and lifestyle         923347.08  1094.0  2287    324  323040  2312   \n",
       "Fashion accessories        930958.20  1251.2  2717    346  359382  2680   \n",
       "Health and beauty          843321.24  1064.5  2373    312  306888  2260   \n",
       "\n",
       "                             Sales  \n",
       "Product line                        \n",
       "Electronic accessories  18630010.8  \n",
       "Food and beverages      19249660.8  \n",
       "Sports and travel       18899254.8  \n",
       "Home and lifestyle      18466941.6  \n",
       "Fashion accessories     18619164.0  \n",
       "Health and beauty       16866424.8  "
      ]
     },
     "execution_count": 104,
     "metadata": {},
     "output_type": "execute_result"
    }
   ],
   "source": [
    "(dff.groupby('Product line').sum()).sort_values(by = 'Quantity', ascending = False)"
   ]
  },
  {
   "cell_type": "code",
   "execution_count": 105,
   "id": "d0031f12",
   "metadata": {},
   "outputs": [],
   "source": [
    "most_purcased_product_line = dff.groupby('Product line')['Quantity'].sum()"
   ]
  },
  {
   "cell_type": "code",
   "execution_count": 106,
   "id": "a7939bf8",
   "metadata": {},
   "outputs": [
    {
     "data": {
      "text/plain": [
       "[]"
      ]
     },
     "execution_count": 106,
     "metadata": {},
     "output_type": "execute_result"
    },
    {
     "data": {
      "image/png": "[encoded data removed]",
      "text/plain": [
       "<Figure size 576x432 with 1 Axes>"
      ]
     },
     "metadata": {},
     "output_type": "display_data"
    }
   ],
   "source": [
    "plt.figure(figsize = (8, 6))\n",
    "most_purcased_product_line.plot(kind = 'bar', color = ['purple', 'orange', 'blue', 'red', 'green', 'black'])\n",
    "plt.title('Most Purchased Product Line', color = 'blue', size = 25)\n",
    "plt.xlabel('Product line', color = 'blue', size = 25)\n",
    "plt.ylabel('Quantity', color = 'purple', size = 25)\n",
    "plt.xticks(color = 'purple', size = 20)\n",
    "plt.yticks(color = 'blue', size = 20)\n",
    "plt.plot()"
   ]
  },
  {
   "cell_type": "code",
   "execution_count": 107,
   "id": "912a8219",
   "metadata": {},
   "outputs": [],
   "source": [
    "# The Most Purchased Product line based on Gender Type is Electronic Accessories"
   ]
  },
  {
   "cell_type": "code",
   "execution_count": 108,
   "id": "78665b23",
   "metadata": {},
   "outputs": [
    {
     "data": {
      "text/plain": [
       "[]"
      ]
     },
     "execution_count": 108,
     "metadata": {},
     "output_type": "execute_result"
    },
    {
     "data": {
      "text/plain": [
       "<Figure size 576x432 with 0 Axes>"
      ]
     },
     "metadata": {},
     "output_type": "display_data"
    },
    {
     "data": {
      "image/png": "[encoded data removed]",
      "text/plain": [
       "<Figure size 360x360 with 1 Axes>"
      ]
     },
     "metadata": {},
     "output_type": "display_data"
    }
   ],
   "source": [
    "plt.figure(figsize = (8, 6))\n",
    "sns.catplot(x = 'Product line', y = 'Unit price', data = dff, kind = 'point', color = 'green')\n",
    "plt.xticks(rotation = 'vertical')\n",
    "plt.title('Product Line & Unit Price', color = 'blue', size = 25)\n",
    "plt.xlabel('Product line', color = 'blue', size = 25)\n",
    "plt.ylabel('Unit price', color = 'blue', size = 25)\n",
    "plt.xticks(color = 'black', size = 25)\n",
    "plt.yticks(color = 'black', size = 25)\n",
    "plt.plot()"
   ]
  },
  {
   "cell_type": "code",
   "execution_count": 109,
   "id": "4bb89e5d",
   "metadata": {},
   "outputs": [],
   "source": [
    "# The Most Purchased Product Line here is Fashion Accessories Based on Unit Price.\n",
    "# While The Least Purchased Product Line is Electronic Accessories."
   ]
  },
  {
   "cell_type": "code",
   "execution_count": 110,
   "id": "ee006bba",
   "metadata": {},
   "outputs": [
    {
     "data": {
      "text/plain": [
       "[]"
      ]
     },
     "execution_count": 110,
     "metadata": {},
     "output_type": "execute_result"
    },
    {
     "data": {
      "text/plain": [
       "<Figure size 576x432 with 0 Axes>"
      ]
     },
     "metadata": {},
     "output_type": "display_data"
    },
    {
     "data": {
      "image/png": "[encoded data removed]",
      "text/plain": [
       "<Figure size 360x360 with 1 Axes>"
      ]
     },
     "metadata": {},
     "output_type": "display_data"
    }
   ],
   "source": [
    "plt.figure(figsize = (8, 6))\n",
    "sns.catplot(x = 'Product line', y = 'Quantity', data = dff, kind = 'point', color = 'green')\n",
    "plt.xticks(rotation = 'vertical')\n",
    "plt.title('Product Line & Quantity', color = 'blue', size = 25)\n",
    "plt.xlabel('Product line', color = 'blue', size = 25)\n",
    "plt.ylabel('Quantity', color = 'blue', size = 25)\n",
    "plt.xticks(color = 'black', size = 25)\n",
    "plt.yticks(color = 'black', size = 25)\n",
    "plt.plot()"
   ]
  },
  {
   "cell_type": "code",
   "execution_count": 111,
   "id": "d0c4ed99",
   "metadata": {},
   "outputs": [
    {
     "data": {
      "text/html": [
       "<div>\n",
       "<style scoped>\n",
       "    .dataframe tbody tr th:only-of-type {\n",
       "        vertical-align: middle;\n",
       "    }\n",
       "\n",
       "    .dataframe tbody tr th {\n",
       "        vertical-align: top;\n",
       "    }\n",
       "\n",
       "    .dataframe thead th {\n",
       "        text-align: right;\n",
       "    }\n",
       "</style>\n",
       "<table border=\"1\" class=\"dataframe\">\n",
       "  <thead>\n",
       "    <tr style=\"text-align: right;\">\n",
       "      <th></th>\n",
       "      <th>Quantity</th>\n",
       "      <th>Unit price</th>\n",
       "    </tr>\n",
       "    <tr>\n",
       "      <th>Product line</th>\n",
       "      <th></th>\n",
       "      <th></th>\n",
       "    </tr>\n",
       "  </thead>\n",
       "  <tbody>\n",
       "    <tr>\n",
       "      <th>Electronic accessories</th>\n",
       "      <td>971</td>\n",
       "      <td>3277357.2</td>\n",
       "    </tr>\n",
       "    <tr>\n",
       "      <th>Fashion accessories</th>\n",
       "      <td>902</td>\n",
       "      <td>3662406.0</td>\n",
       "    </tr>\n",
       "    <tr>\n",
       "      <th>Food and beverages</th>\n",
       "      <td>952</td>\n",
       "      <td>3508394.4</td>\n",
       "    </tr>\n",
       "    <tr>\n",
       "      <th>Health and beauty</th>\n",
       "      <td>854</td>\n",
       "      <td>3001636.8</td>\n",
       "    </tr>\n",
       "    <tr>\n",
       "      <th>Home and lifestyle</th>\n",
       "      <td>911</td>\n",
       "      <td>3186255.6</td>\n",
       "    </tr>\n",
       "    <tr>\n",
       "      <th>Sports and travel</th>\n",
       "      <td>920</td>\n",
       "      <td>3405916.8</td>\n",
       "    </tr>\n",
       "  </tbody>\n",
       "</table>\n",
       "</div>"
      ],
      "text/plain": [
       "                        Quantity  Unit price\n",
       "Product line                                \n",
       "Electronic accessories       971   3277357.2\n",
       "Fashion accessories          902   3662406.0\n",
       "Food and beverages           952   3508394.4\n",
       "Health and beauty            854   3001636.8\n",
       "Home and lifestyle           911   3186255.6\n",
       "Sports and travel            920   3405916.8"
      ]
     },
     "execution_count": 111,
     "metadata": {},
     "output_type": "execute_result"
    }
   ],
   "source": [
    "dff.groupby(['Product line'])['Quantity', 'Unit price'].sum()"
   ]
  },
  {
   "cell_type": "code",
   "execution_count": 112,
   "id": "a1cd4411",
   "metadata": {},
   "outputs": [],
   "source": [
    "new_dff1 = (dff.groupby('Product line').sum()).sort_values(by = 'Quantity', ascending = False).reset_index()"
   ]
  },
  {
   "cell_type": "code",
   "execution_count": 113,
   "id": "61fbddaa",
   "metadata": {},
   "outputs": [
    {
     "data": {
      "text/html": [
       "<div>\n",
       "<style scoped>\n",
       "    .dataframe tbody tr th:only-of-type {\n",
       "        vertical-align: middle;\n",
       "    }\n",
       "\n",
       "    .dataframe tbody tr th {\n",
       "        vertical-align: top;\n",
       "    }\n",
       "\n",
       "    .dataframe thead th {\n",
       "        text-align: right;\n",
       "    }\n",
       "</style>\n",
       "<table border=\"1\" class=\"dataframe\">\n",
       "  <thead>\n",
       "    <tr style=\"text-align: right;\">\n",
       "      <th></th>\n",
       "      <th>Product line</th>\n",
       "      <th>Unnamed: 0</th>\n",
       "      <th>Unit price</th>\n",
       "      <th>Quantity</th>\n",
       "      <th>Tax 5%</th>\n",
       "      <th>Total</th>\n",
       "      <th>cogs</th>\n",
       "      <th>gross margin percentage</th>\n",
       "      <th>gross income</th>\n",
       "      <th>Rating</th>\n",
       "      <th>Day</th>\n",
       "      <th>Month</th>\n",
       "      <th>Year</th>\n",
       "      <th>Hour</th>\n",
       "      <th>Sales</th>\n",
       "    </tr>\n",
       "  </thead>\n",
       "  <tbody>\n",
       "    <tr>\n",
       "      <th>0</th>\n",
       "      <td>Electronic accessories</td>\n",
       "      <td>29139</td>\n",
       "      <td>3277357.2</td>\n",
       "      <td>971</td>\n",
       "      <td>931500.54</td>\n",
       "      <td>19561511.34</td>\n",
       "      <td>18630010.8</td>\n",
       "      <td>809.523810</td>\n",
       "      <td>931500.54</td>\n",
       "      <td>1177.2</td>\n",
       "      <td>2759</td>\n",
       "      <td>348</td>\n",
       "      <td>343230</td>\n",
       "      <td>2548</td>\n",
       "      <td>18630010.8</td>\n",
       "    </tr>\n",
       "    <tr>\n",
       "      <th>1</th>\n",
       "      <td>Food and beverages</td>\n",
       "      <td>29411</td>\n",
       "      <td>3508394.4</td>\n",
       "      <td>952</td>\n",
       "      <td>962483.04</td>\n",
       "      <td>20212143.84</td>\n",
       "      <td>19249660.8</td>\n",
       "      <td>828.571429</td>\n",
       "      <td>962483.04</td>\n",
       "      <td>1237.7</td>\n",
       "      <td>2645</td>\n",
       "      <td>348</td>\n",
       "      <td>351306</td>\n",
       "      <td>2677</td>\n",
       "      <td>19249660.8</td>\n",
       "    </tr>\n",
       "    <tr>\n",
       "      <th>2</th>\n",
       "      <td>Sports and travel</td>\n",
       "      <td>26278</td>\n",
       "      <td>3405916.8</td>\n",
       "      <td>920</td>\n",
       "      <td>944962.74</td>\n",
       "      <td>19844217.54</td>\n",
       "      <td>18899254.8</td>\n",
       "      <td>790.476190</td>\n",
       "      <td>944962.74</td>\n",
       "      <td>1148.1</td>\n",
       "      <td>2475</td>\n",
       "      <td>315</td>\n",
       "      <td>335154</td>\n",
       "      <td>2433</td>\n",
       "      <td>18899254.8</td>\n",
       "    </tr>\n",
       "    <tr>\n",
       "      <th>3</th>\n",
       "      <td>Home and lifestyle</td>\n",
       "      <td>26426</td>\n",
       "      <td>3186255.6</td>\n",
       "      <td>911</td>\n",
       "      <td>923347.08</td>\n",
       "      <td>19390288.68</td>\n",
       "      <td>18466941.6</td>\n",
       "      <td>761.904762</td>\n",
       "      <td>923347.08</td>\n",
       "      <td>1094.0</td>\n",
       "      <td>2287</td>\n",
       "      <td>324</td>\n",
       "      <td>323040</td>\n",
       "      <td>2312</td>\n",
       "      <td>18466941.6</td>\n",
       "    </tr>\n",
       "    <tr>\n",
       "      <th>4</th>\n",
       "      <td>Fashion accessories</td>\n",
       "      <td>29988</td>\n",
       "      <td>3662406.0</td>\n",
       "      <td>902</td>\n",
       "      <td>930958.20</td>\n",
       "      <td>19550122.20</td>\n",
       "      <td>18619164.0</td>\n",
       "      <td>847.619048</td>\n",
       "      <td>930958.20</td>\n",
       "      <td>1251.2</td>\n",
       "      <td>2717</td>\n",
       "      <td>346</td>\n",
       "      <td>359382</td>\n",
       "      <td>2680</td>\n",
       "      <td>18619164.0</td>\n",
       "    </tr>\n",
       "    <tr>\n",
       "      <th>5</th>\n",
       "      <td>Health and beauty</td>\n",
       "      <td>24962</td>\n",
       "      <td>3001636.8</td>\n",
       "      <td>854</td>\n",
       "      <td>843321.24</td>\n",
       "      <td>17709746.04</td>\n",
       "      <td>16866424.8</td>\n",
       "      <td>723.809524</td>\n",
       "      <td>843321.24</td>\n",
       "      <td>1064.5</td>\n",
       "      <td>2373</td>\n",
       "      <td>312</td>\n",
       "      <td>306888</td>\n",
       "      <td>2260</td>\n",
       "      <td>16866424.8</td>\n",
       "    </tr>\n",
       "  </tbody>\n",
       "</table>\n",
       "</div>"
      ],
      "text/plain": [
       "             Product line  Unnamed: 0  Unit price  Quantity     Tax 5%  \\\n",
       "0  Electronic accessories       29139   3277357.2       971  931500.54   \n",
       "1      Food and beverages       29411   3508394.4       952  962483.04   \n",
       "2       Sports and travel       26278   3405916.8       920  944962.74   \n",
       "3      Home and lifestyle       26426   3186255.6       911  923347.08   \n",
       "4     Fashion accessories       29988   3662406.0       902  930958.20   \n",
       "5       Health and beauty       24962   3001636.8       854  843321.24   \n",
       "\n",
       "         Total        cogs  gross margin percentage  gross income  Rating  \\\n",
       "0  19561511.34  18630010.8               809.523810     931500.54  1177.2   \n",
       "1  20212143.84  19249660.8               828.571429     962483.04  1237.7   \n",
       "2  19844217.54  18899254.8               790.476190     944962.74  1148.1   \n",
       "3  19390288.68  18466941.6               761.904762     923347.08  1094.0   \n",
       "4  19550122.20  18619164.0               847.619048     930958.20  1251.2   \n",
       "5  17709746.04  16866424.8               723.809524     843321.24  1064.5   \n",
       "\n",
       "    Day  Month    Year  Hour       Sales  \n",
       "0  2759    348  343230  2548  18630010.8  \n",
       "1  2645    348  351306  2677  19249660.8  \n",
       "2  2475    315  335154  2433  18899254.8  \n",
       "3  2287    324  323040  2312  18466941.6  \n",
       "4  2717    346  359382  2680  18619164.0  \n",
       "5  2373    312  306888  2260  16866424.8  "
      ]
     },
     "execution_count": 113,
     "metadata": {},
     "output_type": "execute_result"
    }
   ],
   "source": [
    "new_dff1"
   ]
  },
  {
   "cell_type": "code",
   "execution_count": 114,
   "id": "89560ed8",
   "metadata": {},
   "outputs": [
    {
     "data": {
      "image/png": "[encoded data removed]",
      "text/plain": [
       "<Figure size 720x504 with 2 Axes>"
      ]
     },
     "metadata": {},
     "output_type": "display_data"
    }
   ],
   "source": [
    "fig = plt.figure(figsize = (10, 7))\n",
    "ax1 = fig.add_subplot(1, 1, 1)\n",
    "color1 = 'orange'\n",
    "plt.minorticks_on()\n",
    "line1, = ax1.plot(new_dff1['Product line'], new_dff1['Quantity'], color = color1, marker = 'o', ms = '8', mec = 'k', mfc ='k')\n",
    "ax1.set_xlabel('Product line', color = 'black', fontsize = 30, fontweight = 'bold', labelpad = 20)\n",
    "ax1.set_ylabel('Quantity', color = 'black', fontsize = 25, fontweight = 'bold', labelpad = 20)\n",
    "ax1.tick_params(direction = 'out', length=8, width=5, color = 'k', grid_alpha=0.5, \n",
    "axis = 'both', labelsize = 30, which = 'major', bottom = True)\n",
    "ax1.tick_params(axis = 'x', labelcolor = 'black', labelrotation = 90)\n",
    "ax1.tick_params(direction = 'out', length=5, width=2.5, labelcolor = 'black', grid_alpha=0.5, \n",
    "axis = 'both', labelsize = 30, which = 'minor', bottom = True)\n",
    "\n",
    "ax2 = ax1.twinx()\n",
    "color2 = 'black'\n",
    "line2, = ax2.plot(new_dff1['Product line'], new_dff1['Unit price'], \n",
    "color = color2, marker = 'o', ms = '8', mec = 'orange', mfc ='orange')\n",
    "ax2.set_ylabel('Unit price', color = 'black', fontsize = 25, fontweight = 'bold', labelpad = 20)\n",
    "ax2.tick_params(direction = 'out', length=8, width=5, grid_alpha=0.5, \n",
    "axis = 'y', labelcolor = 'black', labelsize = 25, right = True, which = 'major')\n",
    "ax2.tick_params(direction = 'out', length=5, width=2.5, grid_alpha=0.5, \n",
    "axis = 'y', labelcolor = 'black', labelsize = 25, right = True, which = 'minor')\n",
    "ax2.spines['left'].set_color(color2)\n",
    "ax2.spines['right'].set_color(color2)\n",
    "ax2.spines['top'].set_color(color2)\n",
    "ax2.spines['bottom'].set_color(color2)\n",
    "ax2.spines['left'].set_linewidth(5)\n",
    "ax2.spines['right'].set_linewidth(5)\n",
    "ax2.spines['top'].set_linewidth(5)\n",
    "ax2.spines['bottom'].set_linewidth(5)\n",
    "plt.title('Interaction of Unit Price & The Quantity of Goods Purchased', fontsize = 'xx-large', color = color2)             \n",
    "plt.legend([line1, line2], ['Quantity', 'Unit price'], loc = 'upper right', fancybox = True, shadow = True, framealpha = 1)\n",
    "plt.plot()\n",
    "plt.show()"
   ]
  },
  {
   "cell_type": "code",
   "execution_count": 115,
   "id": "317fd2a0",
   "metadata": {},
   "outputs": [],
   "source": [
    "# Based on the analysis here, electronic accessories were the most sold Product line with a bit higher price.\n",
    "# Fashion accessories were so expensive and very little quantities were purchased. Meanwhile, health and beauty\n",
    "# accessorieswere the least sold Product line despite lower prices "
   ]
  }
 ],
 "metadata": {
  "kernelspec": {
   "display_name": "Python 3 (ipykernel)",
   "language": "python",
   "name": "python3"
  },
  "language_info": {
   "codemirror_mode": {
    "name": "ipython",
    "version": 3
   },
   "file_extension": ".py",
   "mimetype": "text/x-python",
   "name": "python",
   "nbconvert_exporter": "python",
   "pygments_lexer": "ipython3",
   "version": "3.9.12"
  }
 },
 "nbformat": 4,
 "nbformat_minor": 5
}
