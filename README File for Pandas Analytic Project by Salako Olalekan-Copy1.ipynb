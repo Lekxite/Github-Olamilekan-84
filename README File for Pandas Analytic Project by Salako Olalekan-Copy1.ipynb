{
 "cells": [
  {
   "cell_type": "markdown",
   "id": "df600c4a",
   "metadata": {},
   "source": [
    "# Project Title: Pandas Analytics Project."
   ]
  },
  {
   "cell_type": "markdown",
   "id": "89678600",
   "metadata": {},
   "source": [
    "# Project Steps:\n",
    "### 1...I imported the necessary libraries\n",
    "### 2...I collected the datasets for the 3 branches(Lagos, Abuja & Port Harcourt) from XYZ Company Repository\n",
    "### 3...I read the datasets with the pandas function (pd.read_csv())\n",
    "### 4...I combined the 3 datasets using another pandas function (pd.concat())\n",
    "### 5...I gave the combined dataset a new variable name(Newdataset) using a List\n",
    "### 6...I exported the Newdataset back to the database using another pandas function (.to_csv)\n",
    "### 7...I read the Newdataset with a pandas function (pd.read_csv())\n",
    "### 8...I checked the number of rows and columns\n",
    "### 9...I carried out the statistical summary of the dataframe using a pandas function called .discribe() to get some of the information of the dataframe such as mean, max, min, count, 25%, 50%, 75% & std values\n",
    "### 10...I checked the missing values using a pandas function called (.isnull().sum())\n",
    "### 11...I also checked non-missing values using another pandas function (.notna().sum())\n",
    "### 12...I combined the date and time columns, and gave it a new variable name (New_date)\n",
    "### 13...I converted the New_date column to datetime datatype using a pandas function called (pd.to_datetime())\n",
    "### 14...I created new columns for Day, Month, Year & Hour from New_date column"
   ]
  },
  {
   "cell_type": "markdown",
   "id": "2c8b36d9",
   "metadata": {},
   "source": [
    "# Insights:\n",
    "### This analysis of datasets from company XYZ gave me an opportunity to understand sales, the quantities of product lines sold, the reason why some product lines had higher demand than others, the payment channel for each product line, the branch with highest and lowest rating, the highest payment channel for each branch, the branch that had highest sales record, and the branch with highest gross income"
   ]
  },
  {
   "cell_type": "markdown",
   "id": "c9e0e5f5",
   "metadata": {},
   "source": [
    "# Future Work:\n",
    "### The future work can be more robust and challenging to students if the datasets that have missing values are given. In this case students will be given the task of checking for the missing values, and looking for a way of replacing or dropping them. Moreover, the datasets given were too clean. Please, in the future, always give the students the task of cleaning the data by themselves. This will improve their skills in the aspect of Data Cleaning and Processing."
   ]
  },
  {
   "cell_type": "markdown",
   "id": "e29038a8",
   "metadata": {},
   "source": [
    "# Summary:\n",
    "### Company XYZ had 3 branches(Lagos, Abuja and Port Harcourt). And according to the analysis, it made its highest Gross Income from Port Harcourt branch. Hence, efforts should be made to allocate more products to this branch. Also, more promotions should be carried out in this branch for more profits in the future.\n",
    "### Moreso, according to the analysis, Lagos branch, despite its highest sales record and ratings than the 2 other branches, the Gross Income was lower than that of Port Harcourt. This might be attributed to higher prices of products in this branch. Hence, efforts should be made by the company to reduce the price of the products. Also more promotions should be carried out to improve sales and profits in the future.\n",
    "### Meanwhile, Abuja branch recorded lower Gross Income, sales and ratings than the two other branches. The company should make efforts to promote sales at this branch to improve sales and profits in the future.\n",
    "### according to the analysis, more Electronic Accessories and Home & Style products should be allocated to Lagos branch\n",
    "### More Fashion Accessories and Food & Beverages should be allocated to Port Harcourt branch\n",
    "### More Sports & Travel and Health & Beauty products should be allocated to Abuja branch"
   ]
  },
  {
   "cell_type": "code",
   "execution_count": null,
   "id": "1765d62d",
   "metadata": {},
   "outputs": [],
   "source": []
  }
 ],
 "metadata": {
  "kernelspec": {
   "display_name": "Python 3 (ipykernel)",
   "language": "python",
   "name": "python3"
  },
  "language_info": {
   "codemirror_mode": {
    "name": "ipython",
    "version": 3
   },
   "file_extension": ".py",
   "mimetype": "text/x-python",
   "name": "python",
   "nbconvert_exporter": "python",
   "pygments_lexer": "ipython3",
   "version": "3.9.12"
  }
 },
 "nbformat": 4,
 "nbformat_minor": 5
}
