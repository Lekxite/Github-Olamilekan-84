{
 "cells": [
  {
   "cell_type": "markdown",
   "id": "1e10d871",
   "metadata": {},
   "source": [
    "# Project Title: Nigeria COVID-19 Data Analysis Using Python"
   ]
  },
  {
   "cell_type": "markdown",
   "id": "5f7f9253",
   "metadata": {},
   "source": [
    "# Introduction:"
   ]
  },
  {
   "cell_type": "code",
   "execution_count": 1,
   "id": "efc8a024",
   "metadata": {},
   "outputs": [],
   "source": [
    "# Coronavirus disease (COVID-19) is an infectious disease caused by a newly discovered coronavirus, and it has affected major \n",
    "# parts of the world. Nigeria, a West-African country, has also been affected by the COVID-19 pandemic after recording its first\n",
    "# case on 27th February 2020.\n",
    "# Nigeria is a country with 37 states - Federal Capital Territory included- and a fast-growing economic environment with about \n",
    "# 200 million citizens. COVID-19 has affected several country activities as the country steadily progressed from its first case \n",
    "# to shutting down major airports, state-wide lockdown, curfews, and reviving its economy.\n",
    "# The major aim of writing this report is to evaluate the negative impact of covid-19 on Nigeria's economy and how the country\n",
    "# managed to survive it."
   ]
  },
  {
   "cell_type": "markdown",
   "id": "4c04a49a",
   "metadata": {},
   "source": [
    "### Analysis Questions"
   ]
  },
  {
   "cell_type": "code",
   "execution_count": 2,
   "id": "64c1c107",
   "metadata": {},
   "outputs": [],
   "source": [
    "# Generate a plot that shows the Top 10 states in terms of Confirmed Covid cases by Laboratory test.\n",
    "# Generate a plot that shows the Top 10 states in terms of Discharged Covid cases. Hint - Sort the values.\n",
    "# Plot the top 10 Death cases.\n",
    "# Generate a line plot for the total daily confirmed, recovered and death cases in Nigeria.\n",
    "# Determine the daily infection rate, you can use the Pandas diff method to find the derivate of the total cases.\n",
    "# Generate a line plot for the above.\n",
    "# Calculate maximum infection rate for a day (Number of new cases).\n",
    "# Find the date.\n",
    "# Determine the relationship between the external dataset(overall community vulnerability index) and the NCDC COVID-19 dataset.\n",
    "# Determine the relationship between the external dataset and the NCDC COVID-19 dataset(Confirmed Cases and Population Density).\n",
    "# Provide a summary of your observation.\n",
    "# Determine the effect of the Pandemic on the economy. To do this, you will compare the Real GDP value Pre-COVID-19 \n",
    "# with Real GDP in 2020 (COVID-19 Period, especially Q2 2020."
   ]
  },
  {
   "cell_type": "markdown",
   "id": "294c0afa",
   "metadata": {},
   "source": [
    "# Body:"
   ]
  },
  {
   "cell_type": "markdown",
   "id": "d6f59d38",
   "metadata": {},
   "source": [
    "### Data Overview:"
   ]
  },
  {
   "cell_type": "code",
   "execution_count": 3,
   "id": "d0b4e96c",
   "metadata": {},
   "outputs": [],
   "source": [
    "# 1...covidnig.csv from NCDC Website, with 37 Rows and 5 Columns.\n",
    "# 2...(a) Global Daily Confirmed Cases from John Hopkins Repository, with 289 Rows and 1147 Columns.\n",
    "#   ...(b) Global Daily Recovered Cases from John Hopkins Repository, with 274 Rows and 1147 Columns.\n",
    "#   ...(c) Global Daily Death Cases from John Hopkins Repository, with 289 Rows and 1147 Columns.\n",
    "# 3...External Data from Ustacky Github Repository such as:\n",
    "#   ...(a) covid_external.csv. It has 32 Rows and 12 Columns.\n",
    "#   ...(b) Budget data.csv, with 37 Rows and 3 Columns.\n",
    "#   ...(c) RealGDP.csv, with 7 Rows and 5 Columns."
   ]
  },
  {
   "cell_type": "markdown",
   "id": "6fadc250",
   "metadata": {},
   "source": [
    "### Methods/Approaches:"
   ]
  },
  {
   "cell_type": "markdown",
   "id": "f4d229d8",
   "metadata": {},
   "source": [
    "#### 1...Data Collection"
   ]
  },
  {
   "cell_type": "code",
   "execution_count": 4,
   "id": "27ef284f",
   "metadata": {},
   "outputs": [],
   "source": [
    "#1...covidnig.csv from NCDC Website\n",
    "#2...(a) Global Daily Confirmed Cases from John Hopkins Repository\n",
    "#...(b) Global Daily Recovered Cases from John Hopkins Repository\n",
    "#...(c) Global Daily Death Cases from John Hopkins Repository\n",
    "#3...External Data such as:\n",
    "#...(a) covid_external.csv\n",
    "#...(b) Budget data.csv\n",
    "#...(c) RealGDP.csv"
   ]
  },
  {
   "cell_type": "markdown",
   "id": "18a24fb6",
   "metadata": {},
   "source": [
    "#### 2...Reading The Datasets"
   ]
  },
  {
   "cell_type": "code",
   "execution_count": 5,
   "id": "4a6510c8",
   "metadata": {},
   "outputs": [],
   "source": [
    "# data = pd.read_csv('covidnig.csv')\n",
    "# confirmed = pd.read_csv('https://raw.githubusercontent.com/CSSEGISandData/COVID-19/master/csse_covid_19_data/csse_covid_19_time_series/time_series_covid19_confirmed_global.csv')\n",
    "# recovered = pd.read_csv('https://raw.githubusercontent.com/CSSEGISandData/COVID-19/master/csse_covid_19_data/csse_covid_19_time_series/time_series_covid19_recovered_global.csv')\n",
    "# deaths = pd.read_csv('https://raw.githubusercontent.com/CSSEGISandData/COVID-19/master/csse_covid_19_data/csse_covid_19_time_series/time_series_covid19_deaths_global.csv')\n",
    "# covid_external = pd.read_csv('https://raw.githubusercontent.com/Ustacky-dev/Nigeria-COVID-19-Data-Analysis-Using-Python/main/covid_external.csv')\n",
    "# BG = pd.read_csv('https://raw.githubusercontent.com/Ustacky-dev/Nigeria-COVID-19-Data-Analysis-Using-Python/main/Budget%20data.csv')\n",
    "# RG = pd.read_csv('https://raw.githubusercontent.com/Ustacky-dev/Nigeria-COVID-19-Data-Analysis-Using-Python/main/RealGDP.csv')"
   ]
  },
  {
   "cell_type": "markdown",
   "id": "c34fcebb",
   "metadata": {},
   "source": [
    "#### 3...Viewing The Datasets"
   ]
  },
  {
   "cell_type": "code",
   "execution_count": 6,
   "id": "94ffb59f",
   "metadata": {},
   "outputs": [],
   "source": [
    "# data = pd.read_csv('covidnig.csv')\n",
    "# confirmed = pd.read_csv('https://raw.githubusercontent.com/CSSEGISandData/COVID-19/master/csse_covid_19_data/csse_covid_19_time_series/time_series_covid19_confirmed_global.csv')\n",
    "# recovered = pd.read_csv('https://raw.githubusercontent.com/CSSEGISandData/COVID-19/master/csse_covid_19_data/csse_covid_19_time_series/time_series_covid19_recovered_global.csv')\n",
    "# deaths = pd.read_csv('https://raw.githubusercontent.com/CSSEGISandData/COVID-19/master/csse_covid_19_data/csse_covid_19_time_series/time_series_covid19_deaths_global.csv')\n",
    "# covid_external = pd.read_csv('https://raw.githubusercontent.com/Ustacky-dev/Nigeria-COVID-19-Data-Analysis-Using-Python/main/covid_external.csv')\n",
    "# BG = pd.read_csv('https://raw.githubusercontent.com/Ustacky-dev/Nigeria-COVID-19-Data-Analysis-Using-Python/main/Budget%20data.csv')\n",
    "# RG = pd.read_csv('https://raw.githubusercontent.com/Ustacky-dev/Nigeria-COVID-19-Data-Analysis-Using-Python/main/RealGDP.csv')"
   ]
  },
  {
   "cell_type": "markdown",
   "id": "9e595963",
   "metadata": {},
   "source": [
    "#### 4 Data Cleaning and Preparation"
   ]
  },
  {
   "cell_type": "code",
   "execution_count": 7,
   "id": "a1d268e6",
   "metadata": {},
   "outputs": [],
   "source": [
    "# 1...Checking the number of rows and columns using an Attribute called .shape\n",
    "# 2...Checking statistical summary of the dataframe using a pandas function called .discribe()\n",
    "# 3...Checking the missing values using a pandas function called (.isnull().sum()\n",
    "# 4...Changing Columns Names where necessary.\n",
    "# 5...Checking Data Information using a pandas function called .info().\n",
    "# 6...Dropping Columns that were not needed using .drop().\n",
    "# 7...Renaming Columns\n",
    "# 8...Dealing with Datetime features"
   ]
  },
  {
   "cell_type": "markdown",
   "id": "138afbba",
   "metadata": {},
   "source": [
    "### Analysis:"
   ]
  },
  {
   "cell_type": "code",
   "execution_count": null,
   "id": "7bd8920d",
   "metadata": {},
   "outputs": [],
   "source": []
  },
  {
   "cell_type": "markdown",
   "id": "6baf4ff8",
   "metadata": {},
   "source": [
    "### Results:"
   ]
  },
  {
   "cell_type": "code",
   "execution_count": 8,
   "id": "9308123b",
   "metadata": {},
   "outputs": [],
   "source": [
    "# Lagos State had the highest Laboratory Confirmed cases of covid-19\n",
    "# While Kogi State recorded lowest Laboratory confirmed cases of covid-19\n",
    "# Lagos State had the highest Number of Discharged people from covid-19 Isolation Centers\n",
    "# Kogi State had the lowest No of Discharged people from covid-19\n",
    "# Lagos State recorded the highest No of Deaths of people with covid-19\n",
    "# Kogi State recorded the lowest No of Deaths of people with covid-19\n",
    "# The rate of daily Confirmed Cases of covid-19 was much higher in March, 2023\n",
    "# The rate of daily recovered cases of covid-19 started rising from July 2021 to August 2021.\n",
    "# The daily death cases from November 2022 to March 2023 remains the unchanged. There is no increase.\n",
    "# The Daily Infection Rate increases within 2 days from over 2000 to over 6000.\n",
    "# The Spike in Infection Rate occured between '2023-02-28'-'2023-03-01'.\n",
    "# Negative Relationship exists between the Overall Community Vulnerability Index(CCVI) and the Laboratory Confirmed Cases,\n",
    "# as the Overall CCVI Index decreases, Laboratory Confirmed Cases surge.\n",
    "# The initial budgets of States were revised and reduced due to the effects of covid-19. And this had adverse effects on the\n",
    "# economy\n",
    "# There was a positive relationship between Population and Laboratory Confirmed Cases. As Population\n",
    "# increases(denser population), more people were infected with covid-19 virus\n",
    "# The RealGDP value in the quarter 1 (Q1 2020) were much higher. But when it got to Q2, Q3 & Q4 2020, the RealGDP value reduces.\n",
    "# In fact, according to this analysis, there was no RealGDP value in Q4 2020. This could be attributed to the spread of the\n",
    "# virus in some parts of the country. This had greater negative effects on Nigerian economy."
   ]
  },
  {
   "cell_type": "code",
   "execution_count": 9,
   "id": "8943adea",
   "metadata": {},
   "outputs": [],
   "source": [
    "# Conclusion:\n",
    "\n",
    "# The emergence of Coronavirus disease lead to shutting down of major airports,seaports, state-wide lockdown, curfews, \n",
    "#in Nigeria. This really affected the economy negatively as reflected in the analysis. A country whose Gross Domestic Value(GDP)\n",
    "# reduces due to one problem or another really ecounters economic meltdown. "
   ]
  },
  {
   "cell_type": "code",
   "execution_count": null,
   "id": "2dc7ddc2",
   "metadata": {},
   "outputs": [],
   "source": []
  },
  {
   "cell_type": "code",
   "execution_count": null,
   "id": "4431671a",
   "metadata": {},
   "outputs": [],
   "source": []
  }
 ],
 "metadata": {
  "kernelspec": {
   "display_name": "Python 3 (ipykernel)",
   "language": "python",
   "name": "python3"
  },
  "language_info": {
   "codemirror_mode": {
    "name": "ipython",
    "version": 3
   },
   "file_extension": ".py",
   "mimetype": "text/x-python",
   "name": "python",
   "nbconvert_exporter": "python",
   "pygments_lexer": "ipython3",
   "version": "3.9.12"
  }
 },
 "nbformat": 4,
 "nbformat_minor": 5
}
